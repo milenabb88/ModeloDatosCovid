{
 "cells": [
  {
   "cell_type": "code",
   "execution_count": 1,
   "metadata": {},
   "outputs": [
    {
     "data": {
      "text/html": [
       "<div>\n",
       "<style scoped>\n",
       "    .dataframe tbody tr th:only-of-type {\n",
       "        vertical-align: middle;\n",
       "    }\n",
       "\n",
       "    .dataframe tbody tr th {\n",
       "        vertical-align: top;\n",
       "    }\n",
       "\n",
       "    .dataframe thead th {\n",
       "        text-align: right;\n",
       "    }\n",
       "</style>\n",
       "<table border=\"1\" class=\"dataframe\">\n",
       "  <thead>\n",
       "    <tr style=\"text-align: right;\">\n",
       "      <th></th>\n",
       "      <th>Data As Of</th>\n",
       "      <th>Start Date</th>\n",
       "      <th>End Date</th>\n",
       "      <th>Group</th>\n",
       "      <th>Year</th>\n",
       "      <th>Month</th>\n",
       "      <th>State</th>\n",
       "      <th>Condition Group</th>\n",
       "      <th>Condition</th>\n",
       "      <th>ICD10_codes</th>\n",
       "      <th>Age Group</th>\n",
       "      <th>COVID-19 Deaths</th>\n",
       "      <th>Number of Mentions</th>\n",
       "      <th>Flag</th>\n",
       "    </tr>\n",
       "  </thead>\n",
       "  <tbody>\n",
       "    <tr>\n",
       "      <th>0</th>\n",
       "      <td>08/29/2021</td>\n",
       "      <td>01/01/2020</td>\n",
       "      <td>08/28/2021</td>\n",
       "      <td>By Total</td>\n",
       "      <td>NaN</td>\n",
       "      <td>NaN</td>\n",
       "      <td>United States</td>\n",
       "      <td>Respiratory diseases</td>\n",
       "      <td>Influenza and pneumonia</td>\n",
       "      <td>J09-J18</td>\n",
       "      <td>0-24</td>\n",
       "      <td>520.0</td>\n",
       "      <td>540.0</td>\n",
       "      <td>NaN</td>\n",
       "    </tr>\n",
       "    <tr>\n",
       "      <th>1</th>\n",
       "      <td>08/29/2021</td>\n",
       "      <td>01/01/2020</td>\n",
       "      <td>08/28/2021</td>\n",
       "      <td>By Total</td>\n",
       "      <td>NaN</td>\n",
       "      <td>NaN</td>\n",
       "      <td>United States</td>\n",
       "      <td>Respiratory diseases</td>\n",
       "      <td>Influenza and pneumonia</td>\n",
       "      <td>J09-J18</td>\n",
       "      <td>25-34</td>\n",
       "      <td>2348.0</td>\n",
       "      <td>2405.0</td>\n",
       "      <td>NaN</td>\n",
       "    </tr>\n",
       "    <tr>\n",
       "      <th>2</th>\n",
       "      <td>08/29/2021</td>\n",
       "      <td>01/01/2020</td>\n",
       "      <td>08/28/2021</td>\n",
       "      <td>By Total</td>\n",
       "      <td>NaN</td>\n",
       "      <td>NaN</td>\n",
       "      <td>United States</td>\n",
       "      <td>Respiratory diseases</td>\n",
       "      <td>Influenza and pneumonia</td>\n",
       "      <td>J09-J18</td>\n",
       "      <td>35-44</td>\n",
       "      <td>6191.0</td>\n",
       "      <td>6367.0</td>\n",
       "      <td>NaN</td>\n",
       "    </tr>\n",
       "    <tr>\n",
       "      <th>3</th>\n",
       "      <td>08/29/2021</td>\n",
       "      <td>01/01/2020</td>\n",
       "      <td>08/28/2021</td>\n",
       "      <td>By Total</td>\n",
       "      <td>NaN</td>\n",
       "      <td>NaN</td>\n",
       "      <td>United States</td>\n",
       "      <td>Respiratory diseases</td>\n",
       "      <td>Influenza and pneumonia</td>\n",
       "      <td>J09-J18</td>\n",
       "      <td>45-54</td>\n",
       "      <td>17515.0</td>\n",
       "      <td>18048.0</td>\n",
       "      <td>NaN</td>\n",
       "    </tr>\n",
       "    <tr>\n",
       "      <th>4</th>\n",
       "      <td>08/29/2021</td>\n",
       "      <td>01/01/2020</td>\n",
       "      <td>08/28/2021</td>\n",
       "      <td>By Total</td>\n",
       "      <td>NaN</td>\n",
       "      <td>NaN</td>\n",
       "      <td>United States</td>\n",
       "      <td>Respiratory diseases</td>\n",
       "      <td>Influenza and pneumonia</td>\n",
       "      <td>J09-J18</td>\n",
       "      <td>55-64</td>\n",
       "      <td>42471.0</td>\n",
       "      <td>43677.0</td>\n",
       "      <td>NaN</td>\n",
       "    </tr>\n",
       "    <tr>\n",
       "      <th>...</th>\n",
       "      <td>...</td>\n",
       "      <td>...</td>\n",
       "      <td>...</td>\n",
       "      <td>...</td>\n",
       "      <td>...</td>\n",
       "      <td>...</td>\n",
       "      <td>...</td>\n",
       "      <td>...</td>\n",
       "      <td>...</td>\n",
       "      <td>...</td>\n",
       "      <td>...</td>\n",
       "      <td>...</td>\n",
       "      <td>...</td>\n",
       "      <td>...</td>\n",
       "    </tr>\n",
       "    <tr>\n",
       "      <th>285655</th>\n",
       "      <td>08/29/2021</td>\n",
       "      <td>04/01/2021</td>\n",
       "      <td>04/30/2021</td>\n",
       "      <td>By Month</td>\n",
       "      <td>2021.0</td>\n",
       "      <td>4.0</td>\n",
       "      <td>Puerto Rico</td>\n",
       "      <td>COVID-19</td>\n",
       "      <td>COVID-19</td>\n",
       "      <td>U071</td>\n",
       "      <td>All Ages</td>\n",
       "      <td>197.0</td>\n",
       "      <td>197.0</td>\n",
       "      <td>NaN</td>\n",
       "    </tr>\n",
       "    <tr>\n",
       "      <th>285656</th>\n",
       "      <td>08/29/2021</td>\n",
       "      <td>05/01/2021</td>\n",
       "      <td>05/31/2021</td>\n",
       "      <td>By Month</td>\n",
       "      <td>2021.0</td>\n",
       "      <td>5.0</td>\n",
       "      <td>Puerto Rico</td>\n",
       "      <td>COVID-19</td>\n",
       "      <td>COVID-19</td>\n",
       "      <td>U071</td>\n",
       "      <td>All Ages</td>\n",
       "      <td>184.0</td>\n",
       "      <td>184.0</td>\n",
       "      <td>NaN</td>\n",
       "    </tr>\n",
       "    <tr>\n",
       "      <th>285657</th>\n",
       "      <td>08/29/2021</td>\n",
       "      <td>06/01/2021</td>\n",
       "      <td>06/30/2021</td>\n",
       "      <td>By Month</td>\n",
       "      <td>2021.0</td>\n",
       "      <td>6.0</td>\n",
       "      <td>Puerto Rico</td>\n",
       "      <td>COVID-19</td>\n",
       "      <td>COVID-19</td>\n",
       "      <td>U071</td>\n",
       "      <td>All Ages</td>\n",
       "      <td>35.0</td>\n",
       "      <td>35.0</td>\n",
       "      <td>NaN</td>\n",
       "    </tr>\n",
       "    <tr>\n",
       "      <th>285658</th>\n",
       "      <td>08/29/2021</td>\n",
       "      <td>07/01/2021</td>\n",
       "      <td>07/31/2021</td>\n",
       "      <td>By Month</td>\n",
       "      <td>2021.0</td>\n",
       "      <td>7.0</td>\n",
       "      <td>Puerto Rico</td>\n",
       "      <td>COVID-19</td>\n",
       "      <td>COVID-19</td>\n",
       "      <td>U071</td>\n",
       "      <td>All Ages</td>\n",
       "      <td>29.0</td>\n",
       "      <td>29.0</td>\n",
       "      <td>NaN</td>\n",
       "    </tr>\n",
       "    <tr>\n",
       "      <th>285659</th>\n",
       "      <td>08/29/2021</td>\n",
       "      <td>08/01/2021</td>\n",
       "      <td>08/28/2021</td>\n",
       "      <td>By Month</td>\n",
       "      <td>2021.0</td>\n",
       "      <td>8.0</td>\n",
       "      <td>Puerto Rico</td>\n",
       "      <td>COVID-19</td>\n",
       "      <td>COVID-19</td>\n",
       "      <td>U071</td>\n",
       "      <td>All Ages</td>\n",
       "      <td>190.0</td>\n",
       "      <td>190.0</td>\n",
       "      <td>NaN</td>\n",
       "    </tr>\n",
       "  </tbody>\n",
       "</table>\n",
       "<p>285660 rows × 14 columns</p>\n",
       "</div>"
      ],
      "text/plain": [
       "        Data As Of  Start Date    End Date     Group    Year  Month  \\\n",
       "0       08/29/2021  01/01/2020  08/28/2021  By Total     NaN    NaN   \n",
       "1       08/29/2021  01/01/2020  08/28/2021  By Total     NaN    NaN   \n",
       "2       08/29/2021  01/01/2020  08/28/2021  By Total     NaN    NaN   \n",
       "3       08/29/2021  01/01/2020  08/28/2021  By Total     NaN    NaN   \n",
       "4       08/29/2021  01/01/2020  08/28/2021  By Total     NaN    NaN   \n",
       "...            ...         ...         ...       ...     ...    ...   \n",
       "285655  08/29/2021  04/01/2021  04/30/2021  By Month  2021.0    4.0   \n",
       "285656  08/29/2021  05/01/2021  05/31/2021  By Month  2021.0    5.0   \n",
       "285657  08/29/2021  06/01/2021  06/30/2021  By Month  2021.0    6.0   \n",
       "285658  08/29/2021  07/01/2021  07/31/2021  By Month  2021.0    7.0   \n",
       "285659  08/29/2021  08/01/2021  08/28/2021  By Month  2021.0    8.0   \n",
       "\n",
       "                State       Condition Group                Condition  \\\n",
       "0       United States  Respiratory diseases  Influenza and pneumonia   \n",
       "1       United States  Respiratory diseases  Influenza and pneumonia   \n",
       "2       United States  Respiratory diseases  Influenza and pneumonia   \n",
       "3       United States  Respiratory diseases  Influenza and pneumonia   \n",
       "4       United States  Respiratory diseases  Influenza and pneumonia   \n",
       "...               ...                   ...                      ...   \n",
       "285655    Puerto Rico              COVID-19                 COVID-19   \n",
       "285656    Puerto Rico              COVID-19                 COVID-19   \n",
       "285657    Puerto Rico              COVID-19                 COVID-19   \n",
       "285658    Puerto Rico              COVID-19                 COVID-19   \n",
       "285659    Puerto Rico              COVID-19                 COVID-19   \n",
       "\n",
       "       ICD10_codes Age Group  COVID-19 Deaths  Number of Mentions Flag  \n",
       "0          J09-J18      0-24            520.0               540.0  NaN  \n",
       "1          J09-J18     25-34           2348.0              2405.0  NaN  \n",
       "2          J09-J18     35-44           6191.0              6367.0  NaN  \n",
       "3          J09-J18     45-54          17515.0             18048.0  NaN  \n",
       "4          J09-J18     55-64          42471.0             43677.0  NaN  \n",
       "...            ...       ...              ...                 ...  ...  \n",
       "285655        U071  All Ages            197.0               197.0  NaN  \n",
       "285656        U071  All Ages            184.0               184.0  NaN  \n",
       "285657        U071  All Ages             35.0                35.0  NaN  \n",
       "285658        U071  All Ages             29.0                29.0  NaN  \n",
       "285659        U071  All Ages            190.0               190.0  NaN  \n",
       "\n",
       "[285660 rows x 14 columns]"
      ]
     },
     "execution_count": 1,
     "metadata": {},
     "output_type": "execute_result"
    }
   ],
   "source": [
    "import pandas as pd\n",
    "df_Comorbidity=pd.read_csv('Conditions_Contributing_to_COVID-19_Deaths__by_State_and_Age__Provisional_2020-2021.csv')\n",
    "df_Comorbidity"
   ]
  },
  {
   "cell_type": "code",
   "execution_count": 2,
   "metadata": {},
   "outputs": [
    {
     "data": {
      "text/html": [
       "<div>\n",
       "<style scoped>\n",
       "    .dataframe tbody tr th:only-of-type {\n",
       "        vertical-align: middle;\n",
       "    }\n",
       "\n",
       "    .dataframe tbody tr th {\n",
       "        vertical-align: top;\n",
       "    }\n",
       "\n",
       "    .dataframe thead th {\n",
       "        text-align: right;\n",
       "    }\n",
       "</style>\n",
       "<table border=\"1\" class=\"dataframe\">\n",
       "  <thead>\n",
       "    <tr style=\"text-align: right;\">\n",
       "      <th></th>\n",
       "      <th>Data As Of</th>\n",
       "      <th>Start Date</th>\n",
       "      <th>End Date</th>\n",
       "      <th>Group</th>\n",
       "      <th>Year</th>\n",
       "      <th>Month</th>\n",
       "      <th>State</th>\n",
       "      <th>Condition Group</th>\n",
       "      <th>Condition</th>\n",
       "      <th>ICD10_codes</th>\n",
       "      <th>Age Group</th>\n",
       "      <th>COVID-19 Deaths</th>\n",
       "      <th>Number of Mentions</th>\n",
       "    </tr>\n",
       "  </thead>\n",
       "  <tbody>\n",
       "    <tr>\n",
       "      <th>37260</th>\n",
       "      <td>08/29/2021</td>\n",
       "      <td>01/01/2020</td>\n",
       "      <td>01/31/2020</td>\n",
       "      <td>By Month</td>\n",
       "      <td>2020.0</td>\n",
       "      <td>1.0</td>\n",
       "      <td>United States</td>\n",
       "      <td>Respiratory diseases</td>\n",
       "      <td>Influenza and pneumonia</td>\n",
       "      <td>J09-J18</td>\n",
       "      <td>0-24</td>\n",
       "      <td>0.0</td>\n",
       "      <td>0.0</td>\n",
       "    </tr>\n",
       "    <tr>\n",
       "      <th>37261</th>\n",
       "      <td>08/29/2021</td>\n",
       "      <td>02/01/2020</td>\n",
       "      <td>02/29/2020</td>\n",
       "      <td>By Month</td>\n",
       "      <td>2020.0</td>\n",
       "      <td>2.0</td>\n",
       "      <td>United States</td>\n",
       "      <td>Respiratory diseases</td>\n",
       "      <td>Influenza and pneumonia</td>\n",
       "      <td>J09-J18</td>\n",
       "      <td>0-24</td>\n",
       "      <td>0.0</td>\n",
       "      <td>0.0</td>\n",
       "    </tr>\n",
       "    <tr>\n",
       "      <th>37262</th>\n",
       "      <td>08/29/2021</td>\n",
       "      <td>03/01/2020</td>\n",
       "      <td>03/31/2020</td>\n",
       "      <td>By Month</td>\n",
       "      <td>2020.0</td>\n",
       "      <td>3.0</td>\n",
       "      <td>United States</td>\n",
       "      <td>Respiratory diseases</td>\n",
       "      <td>Influenza and pneumonia</td>\n",
       "      <td>J09-J18</td>\n",
       "      <td>0-24</td>\n",
       "      <td>9.0</td>\n",
       "      <td>9.0</td>\n",
       "    </tr>\n",
       "    <tr>\n",
       "      <th>37263</th>\n",
       "      <td>08/29/2021</td>\n",
       "      <td>04/01/2020</td>\n",
       "      <td>04/30/2020</td>\n",
       "      <td>By Month</td>\n",
       "      <td>2020.0</td>\n",
       "      <td>4.0</td>\n",
       "      <td>United States</td>\n",
       "      <td>Respiratory diseases</td>\n",
       "      <td>Influenza and pneumonia</td>\n",
       "      <td>J09-J18</td>\n",
       "      <td>0-24</td>\n",
       "      <td>27.0</td>\n",
       "      <td>30.0</td>\n",
       "    </tr>\n",
       "    <tr>\n",
       "      <th>37264</th>\n",
       "      <td>08/29/2021</td>\n",
       "      <td>05/01/2020</td>\n",
       "      <td>05/31/2020</td>\n",
       "      <td>By Month</td>\n",
       "      <td>2020.0</td>\n",
       "      <td>5.0</td>\n",
       "      <td>United States</td>\n",
       "      <td>Respiratory diseases</td>\n",
       "      <td>Influenza and pneumonia</td>\n",
       "      <td>J09-J18</td>\n",
       "      <td>0-24</td>\n",
       "      <td>19.0</td>\n",
       "      <td>19.0</td>\n",
       "    </tr>\n",
       "    <tr>\n",
       "      <th>...</th>\n",
       "      <td>...</td>\n",
       "      <td>...</td>\n",
       "      <td>...</td>\n",
       "      <td>...</td>\n",
       "      <td>...</td>\n",
       "      <td>...</td>\n",
       "      <td>...</td>\n",
       "      <td>...</td>\n",
       "      <td>...</td>\n",
       "      <td>...</td>\n",
       "      <td>...</td>\n",
       "      <td>...</td>\n",
       "      <td>...</td>\n",
       "    </tr>\n",
       "    <tr>\n",
       "      <th>285655</th>\n",
       "      <td>08/29/2021</td>\n",
       "      <td>04/01/2021</td>\n",
       "      <td>04/30/2021</td>\n",
       "      <td>By Month</td>\n",
       "      <td>2021.0</td>\n",
       "      <td>4.0</td>\n",
       "      <td>Puerto Rico</td>\n",
       "      <td>COVID-19</td>\n",
       "      <td>COVID-19</td>\n",
       "      <td>U071</td>\n",
       "      <td>All Ages</td>\n",
       "      <td>197.0</td>\n",
       "      <td>197.0</td>\n",
       "    </tr>\n",
       "    <tr>\n",
       "      <th>285656</th>\n",
       "      <td>08/29/2021</td>\n",
       "      <td>05/01/2021</td>\n",
       "      <td>05/31/2021</td>\n",
       "      <td>By Month</td>\n",
       "      <td>2021.0</td>\n",
       "      <td>5.0</td>\n",
       "      <td>Puerto Rico</td>\n",
       "      <td>COVID-19</td>\n",
       "      <td>COVID-19</td>\n",
       "      <td>U071</td>\n",
       "      <td>All Ages</td>\n",
       "      <td>184.0</td>\n",
       "      <td>184.0</td>\n",
       "    </tr>\n",
       "    <tr>\n",
       "      <th>285657</th>\n",
       "      <td>08/29/2021</td>\n",
       "      <td>06/01/2021</td>\n",
       "      <td>06/30/2021</td>\n",
       "      <td>By Month</td>\n",
       "      <td>2021.0</td>\n",
       "      <td>6.0</td>\n",
       "      <td>Puerto Rico</td>\n",
       "      <td>COVID-19</td>\n",
       "      <td>COVID-19</td>\n",
       "      <td>U071</td>\n",
       "      <td>All Ages</td>\n",
       "      <td>35.0</td>\n",
       "      <td>35.0</td>\n",
       "    </tr>\n",
       "    <tr>\n",
       "      <th>285658</th>\n",
       "      <td>08/29/2021</td>\n",
       "      <td>07/01/2021</td>\n",
       "      <td>07/31/2021</td>\n",
       "      <td>By Month</td>\n",
       "      <td>2021.0</td>\n",
       "      <td>7.0</td>\n",
       "      <td>Puerto Rico</td>\n",
       "      <td>COVID-19</td>\n",
       "      <td>COVID-19</td>\n",
       "      <td>U071</td>\n",
       "      <td>All Ages</td>\n",
       "      <td>29.0</td>\n",
       "      <td>29.0</td>\n",
       "    </tr>\n",
       "    <tr>\n",
       "      <th>285659</th>\n",
       "      <td>08/29/2021</td>\n",
       "      <td>08/01/2021</td>\n",
       "      <td>08/28/2021</td>\n",
       "      <td>By Month</td>\n",
       "      <td>2021.0</td>\n",
       "      <td>8.0</td>\n",
       "      <td>Puerto Rico</td>\n",
       "      <td>COVID-19</td>\n",
       "      <td>COVID-19</td>\n",
       "      <td>U071</td>\n",
       "      <td>All Ages</td>\n",
       "      <td>190.0</td>\n",
       "      <td>190.0</td>\n",
       "    </tr>\n",
       "  </tbody>\n",
       "</table>\n",
       "<p>177842 rows × 13 columns</p>\n",
       "</div>"
      ],
      "text/plain": [
       "        Data As Of  Start Date    End Date     Group    Year  Month  \\\n",
       "37260   08/29/2021  01/01/2020  01/31/2020  By Month  2020.0    1.0   \n",
       "37261   08/29/2021  02/01/2020  02/29/2020  By Month  2020.0    2.0   \n",
       "37262   08/29/2021  03/01/2020  03/31/2020  By Month  2020.0    3.0   \n",
       "37263   08/29/2021  04/01/2020  04/30/2020  By Month  2020.0    4.0   \n",
       "37264   08/29/2021  05/01/2020  05/31/2020  By Month  2020.0    5.0   \n",
       "...            ...         ...         ...       ...     ...    ...   \n",
       "285655  08/29/2021  04/01/2021  04/30/2021  By Month  2021.0    4.0   \n",
       "285656  08/29/2021  05/01/2021  05/31/2021  By Month  2021.0    5.0   \n",
       "285657  08/29/2021  06/01/2021  06/30/2021  By Month  2021.0    6.0   \n",
       "285658  08/29/2021  07/01/2021  07/31/2021  By Month  2021.0    7.0   \n",
       "285659  08/29/2021  08/01/2021  08/28/2021  By Month  2021.0    8.0   \n",
       "\n",
       "                State       Condition Group                Condition  \\\n",
       "37260   United States  Respiratory diseases  Influenza and pneumonia   \n",
       "37261   United States  Respiratory diseases  Influenza and pneumonia   \n",
       "37262   United States  Respiratory diseases  Influenza and pneumonia   \n",
       "37263   United States  Respiratory diseases  Influenza and pneumonia   \n",
       "37264   United States  Respiratory diseases  Influenza and pneumonia   \n",
       "...               ...                   ...                      ...   \n",
       "285655    Puerto Rico              COVID-19                 COVID-19   \n",
       "285656    Puerto Rico              COVID-19                 COVID-19   \n",
       "285657    Puerto Rico              COVID-19                 COVID-19   \n",
       "285658    Puerto Rico              COVID-19                 COVID-19   \n",
       "285659    Puerto Rico              COVID-19                 COVID-19   \n",
       "\n",
       "       ICD10_codes Age Group  COVID-19 Deaths  Number of Mentions  \n",
       "37260      J09-J18      0-24              0.0                 0.0  \n",
       "37261      J09-J18      0-24              0.0                 0.0  \n",
       "37262      J09-J18      0-24              9.0                 9.0  \n",
       "37263      J09-J18      0-24             27.0                30.0  \n",
       "37264      J09-J18      0-24             19.0                19.0  \n",
       "...            ...       ...              ...                 ...  \n",
       "285655        U071  All Ages            197.0               197.0  \n",
       "285656        U071  All Ages            184.0               184.0  \n",
       "285657        U071  All Ages             35.0                35.0  \n",
       "285658        U071  All Ages             29.0                29.0  \n",
       "285659        U071  All Ages            190.0               190.0  \n",
       "\n",
       "[177842 rows x 13 columns]"
      ]
     },
     "execution_count": 2,
     "metadata": {},
     "output_type": "execute_result"
    }
   ],
   "source": [
    "df_Comorbidities=df_Comorbidity[['Data As Of','Start Date','End Date','Group','Year','Month','State','Condition Group','Condition','ICD10_codes','Age Group','COVID-19 Deaths','Number of Mentions']].dropna()\n",
    "df_Comorbidities"
   ]
  },
  {
   "cell_type": "markdown",
   "metadata": {},
   "source": [
    "## ESTUDIO DE COMORBILIDADES\n",
    "### En el siguiente estudio buscaremos saber que comorbilidades que han presentado las pesonas con covid han sido detonantes de su Fallecimiento.\n",
    "### Modelo de estudio **STATS MODEL**\n",
    "para el siguiente estudio tendremos en cuenta como variable dependiente.\n",
    "Variable dependiente(Vd)=Muerte por covid \n",
    "=>H0== Las comorbilidades que presentan los pacientes con covid generan la muerte del paciente.\n",
    "Variables alternativas(Va)=> Comorbilidades\n",
    "1.  Adult respiratory distress syndrome\n",
    "2.  All other conditions and causes (residual)\n",
    "3.  Alzheimer disease\n",
    "4.  Cardiac arrest\n",
    "5.  Cardiac arrhythmia\n",
    "6.  Cerebrovascular diseases\n",
    "7.  ChronicLowerRespiratoryDiseases\n",
    "8.  COVID-19 Variants\n",
    "9.  Diabetes\n",
    "10. Heart failure\n",
    "11. Hypertensive diseases\n",
    "12. Influenza and pneumonia\n",
    "13. Intentional and unintentional injury, poisoning, and other adverse events\n",
    "14. Ischemic heart disease\n",
    "15. Malignant neoplasms\n",
    "16. Other diseases of the circulatory system\n",
    "17. Other diseases of the respiratory system\n",
    "18. Renal failure\n",
    "19. Respiratory arrest\n",
    "20. Respiratory failure\n",
    "21. Sepsis\n",
    "22. Vascular and unspecified dementia \n"
   ]
  },
  {
   "cell_type": "markdown",
   "metadata": {},
   "source": [
    "## Exploración de las columnas del dataset\n",
    "\n",
    "df_list_state=df_Comorbidities['State'].unique()\n",
    "df_list_state.tolist()\n",
    "df_countries=df_Comorbidities['State'].to_numpy().tolist()\n",
    "df_countries\n",
    "df_list_comorbidity_conditional_group=df_Comorbidities['Condition Group'].unique()\n",
    "df_list_comorbidity_conditional_group.tolist()\n",
    "df_list_comorbidity_condition_person=df_Comorbidities['Condition'].unique()\n",
    "df_list_comorbidity_condition_person.tolist()\n",
    "df_list__comorbidity_covid19Deaths=df_Comorbidities['COVID-19 Deaths'].unique()\n",
    "df_list_comorbidity_condition_person.tolist()\n",
    "df_list_ICD10_codes=df_Comorbidities['ICD10_codes'].unique()\n",
    "df_list_ICD10_codes.tolist()\n",
    "df_list_flag=df_Comorbidities['Flag'].unique()\n",
    "df_list_flag\n",
    "df_list_AgeGroup=df_Comorbidities['Age Group'].unique()\n",
    "df_list_AgeGroup.tolist()\n"
   ]
  },
  {
   "cell_type": "markdown",
   "metadata": {},
   "source": [
    "NORMALIZACION DEL DATASET:\n",
    "Con la tecnica de normalización booleana [0,1], generaremos las diferentes columnas que necesitamos para luego poder agrupar las variables dependientes y las variables independientes."
   ]
  },
  {
   "cell_type": "markdown",
   "metadata": {},
   "source": [
    "## DATASET DE COMORBILIDADES\n"
   ]
  },
  {
   "cell_type": "markdown",
   "metadata": {},
   "source": [
    "def estatecountry(fila):\n",
    "    r=fila['State']\n",
    "    if r=='United States':\n",
    "        re=1\n",
    "        return re\n",
    "    else:\n",
    "        re=0\n",
    "        return re\n",
    "df_Comorbidities['UnitedStates']=df_Comorbidities.apply(estatecountry,axis=1)\n"
   ]
  },
  {
   "cell_type": "markdown",
   "metadata": {},
   "source": [
    "def estatecountry(fila):\n",
    "    r=fila['State']\n",
    "    if r=='Alabama':\n",
    "        re=1\n",
    "        return re\n",
    "    else:\n",
    "        re=0\n",
    "        return re\n",
    "df_Comorbidities['Alabama']=df_Comorbidities.apply(estatecountry,axis=1)\n"
   ]
  },
  {
   "cell_type": "markdown",
   "metadata": {},
   "source": [
    "def estatecountry(fila):\n",
    "    r=fila['State']\n",
    "    if r=='Alaska':\n",
    "        re=1\n",
    "        return re\n",
    "    else:\n",
    "        re=0\n",
    "        return re\n",
    "df_Comorbidities['Alaska']=df_Comorbidities.apply(estatecountry,axis=1)"
   ]
  },
  {
   "cell_type": "markdown",
   "metadata": {},
   "source": [
    "def estatecountry(fila):\n",
    "    r=fila['State']\n",
    "    if r=='Alaska':\n",
    "        re=1\n",
    "        return re\n",
    "    else:\n",
    "        re=0\n",
    "        return re\n",
    "df_Comorbidities['Alaska']=df_Comorbidities.apply(estatecountry,axis=1)"
   ]
  },
  {
   "cell_type": "markdown",
   "metadata": {},
   "source": [
    "def estatecountry(fila):\n",
    "    r=fila['State']\n",
    "    if r=='Arizona':\n",
    "        re=1\n",
    "        return re\n",
    "    else:\n",
    "        re=0\n",
    "        return re\n",
    "df_Comorbidities['Arizona']=df_Comorbidities.apply(estatecountry,axis=1)"
   ]
  },
  {
   "cell_type": "markdown",
   "metadata": {},
   "source": [
    "def estatecountry(fila):\n",
    "    r=fila['State']\n",
    "    if r=='Arkansas':\n",
    "        re=1\n",
    "        return re\n",
    "    else:\n",
    "        re=0\n",
    "        return re\n",
    "df_Comorbidities['Arkansas']=df_Comorbidities.apply(estatecountry,axis=1)"
   ]
  },
  {
   "cell_type": "markdown",
   "metadata": {},
   "source": [
    "def estatecountry(fila):\n",
    "    r=fila['State']\n",
    "    if r=='California':\n",
    "        re=1\n",
    "        return re\n",
    "    else:\n",
    "        re=0\n",
    "        return re\n",
    "df_Comorbidities['California']=df_Comorbidities.apply(estatecountry,axis=1)"
   ]
  },
  {
   "cell_type": "markdown",
   "metadata": {},
   "source": [
    "def estatecountry(fila):\n",
    "    r=fila['State']\n",
    "    if r=='Colorado':\n",
    "        re=1\n",
    "        return re\n",
    "    else:\n",
    "        re=0\n",
    "        return re\n",
    "df_Comorbidities['Colorado']=df_Comorbidities.apply(estatecountry,axis=1)"
   ]
  },
  {
   "cell_type": "markdown",
   "metadata": {},
   "source": [
    "def estatecountry(fila):\n",
    "    r=fila['State']\n",
    "    if r=='Connecticut':\n",
    "        re=1\n",
    "        return re\n",
    "    else:\n",
    "        re=0\n",
    "        return re\n",
    "df_Comorbidities['Connecticut']=df_Comorbidities.apply(estatecountry,axis=1)"
   ]
  },
  {
   "cell_type": "markdown",
   "metadata": {},
   "source": [
    "def estatecountry(fila):\n",
    "    r=fila['State']\n",
    "    if r=='Delaware':\n",
    "        re=1\n",
    "        return re\n",
    "    else:\n",
    "        re=0\n",
    "        return re\n",
    "df_Comorbidities['Delaware']=df_Comorbidities.apply(estatecountry,axis=1)"
   ]
  },
  {
   "cell_type": "markdown",
   "metadata": {},
   "source": [
    "def estatecountry(fila):\n",
    "    r=fila['State']\n",
    "    if r=='District of Columbia':\n",
    "        re=1\n",
    "        return re\n",
    "    else:\n",
    "        re=0\n",
    "        return re\n",
    "df_Comorbidities['DistrictOfColumbia']=df_Comorbidities.apply(estatecountry,axis=1)"
   ]
  },
  {
   "cell_type": "markdown",
   "metadata": {},
   "source": [
    "def estatecountry(fila):\n",
    "    r=fila['State']\n",
    "    if r=='Florida':\n",
    "        re=1\n",
    "        return re\n",
    "    else:\n",
    "        re=0\n",
    "        return re\n",
    "df_Comorbidities['Florida']=df_Comorbidities.apply(estatecountry,axis=1)"
   ]
  },
  {
   "cell_type": "markdown",
   "metadata": {},
   "source": [
    "def estatecountry(fila):\n",
    "    r=fila['State']\n",
    "    if r=='Georgia':\n",
    "        re=1\n",
    "        return re\n",
    "    else:\n",
    "        re=0\n",
    "        return re\n",
    "df_Comorbidities['Georgia']=df_Comorbidities.apply(estatecountry,axis=1)"
   ]
  },
  {
   "cell_type": "markdown",
   "metadata": {},
   "source": [
    "def estatecountry(fila):\n",
    "    r=fila['State']\n",
    "    if r=='Hawaii':\n",
    "        re=1\n",
    "        return re\n",
    "    else:\n",
    "        re=0\n",
    "        return re\n",
    "df_Comorbidities['Hawaii']=df_Comorbidities.apply(estatecountry,axis=1)"
   ]
  },
  {
   "cell_type": "markdown",
   "metadata": {},
   "source": [
    "def estatecountry(fila):\n",
    "    r=fila['State']\n",
    "    if r=='Idaho':\n",
    "        re=1\n",
    "        return re\n",
    "    else:\n",
    "        re=0\n",
    "        return re\n",
    "df_Comorbidities['Idaho']=df_Comorbidities.apply(estatecountry,axis=1)"
   ]
  },
  {
   "cell_type": "markdown",
   "metadata": {},
   "source": [
    "def estatecountry(fila):\n",
    "    r=fila['State']\n",
    "    if r=='Illinois':\n",
    "        re=1\n",
    "        return re\n",
    "    else:\n",
    "        re=0\n",
    "        return re\n",
    "df_Comorbidities['Illinois']=df_Comorbidities.apply(estatecountry,axis=1)"
   ]
  },
  {
   "cell_type": "markdown",
   "metadata": {},
   "source": [
    "def estatecountry(fila):\n",
    "    r=fila['State']\n",
    "    if r=='Indiana':\n",
    "        re=1\n",
    "        return re\n",
    "    else:\n",
    "        re=0\n",
    "        return re\n",
    "df_Comorbidities['Indiana']=df_Comorbidities.apply(estatecountry,axis=1)"
   ]
  },
  {
   "cell_type": "markdown",
   "metadata": {},
   "source": [
    "def estatecountry(fila):\n",
    "    r=fila['State']\n",
    "    if r=='Iowa':\n",
    "        re=1\n",
    "        return re\n",
    "    else:\n",
    "        re=0\n",
    "        return re\n",
    "df_Comorbidities['Iowa']=df_Comorbidities.apply(estatecountry,axis=1)"
   ]
  },
  {
   "cell_type": "markdown",
   "metadata": {},
   "source": [
    "def estatecountry(fila):\n",
    "    r=fila['State']\n",
    "    if r=='Kansas':\n",
    "        re=1\n",
    "        return re\n",
    "    else:\n",
    "        re=0\n",
    "        return re\n",
    "df_Comorbidities['Kansas']=df_Comorbidities.apply(estatecountry,axis=1)"
   ]
  },
  {
   "cell_type": "markdown",
   "metadata": {},
   "source": [
    "def estatecountry(fila):\n",
    "    r=fila['State']\n",
    "    if r=='Kentucky':\n",
    "        re=1\n",
    "        return re\n",
    "    else:\n",
    "        re=0\n",
    "        return re\n",
    "df_Comorbidities['Kentucky']=df_Comorbidities.apply(estatecountry,axis=1)"
   ]
  },
  {
   "cell_type": "markdown",
   "metadata": {},
   "source": [
    "def estatecountry(fila):\n",
    "    r=fila['State']\n",
    "    if r=='Louisiana':\n",
    "        re=1\n",
    "        return re\n",
    "    else:\n",
    "        re=0\n",
    "        return re\n",
    "df_Comorbidities['Louisiana']=df_Comorbidities.apply(estatecountry,axis=1)"
   ]
  },
  {
   "cell_type": "markdown",
   "metadata": {},
   "source": [
    "def estatecountry(fila):\n",
    "    r=fila['State']\n",
    "    if r=='Maine':\n",
    "        re=1\n",
    "        return re\n",
    "    else:\n",
    "        re=0\n",
    "        return re\n",
    "df_Comorbidities['Maine']=df_Comorbidities.apply(estatecountry,axis=1)"
   ]
  },
  {
   "cell_type": "markdown",
   "metadata": {},
   "source": [
    "def estatecountry(fila):\n",
    "    r=fila['State']\n",
    "    if r=='Delaware':\n",
    "        re=1\n",
    "        return re\n",
    "    else:\n",
    "        re=0\n",
    "        return re\n",
    "df_Comorbidities['Delaware']=df_Comorbidities.apply(estatecountry,axis=1)"
   ]
  },
  {
   "cell_type": "markdown",
   "metadata": {},
   "source": [
    "def estatecountry(fila):\n",
    "    r=fila['State']\n",
    "    if r=='Maryland':\n",
    "        re=1\n",
    "        return re\n",
    "    else:\n",
    "        re=0\n",
    "        return re\n",
    "df_Comorbidities['Maryland']=df_Comorbidities.apply(estatecountry,axis=1)"
   ]
  },
  {
   "cell_type": "markdown",
   "metadata": {},
   "source": [
    "def estatecountry(fila):\n",
    "    r=fila['State']\n",
    "    if r=='Massachusetts':\n",
    "        re=1\n",
    "        return re\n",
    "    else:\n",
    "        re=0\n",
    "        return re\n",
    "df_Comorbidities['Massachusetts']=df_Comorbidities.apply(estatecountry,axis=1)"
   ]
  },
  {
   "cell_type": "markdown",
   "metadata": {},
   "source": [
    "def estatecountry(fila):\n",
    "    r=fila['State']\n",
    "    if r=='Michigan':\n",
    "        re=1\n",
    "        return re\n",
    "    else:\n",
    "        re=0\n",
    "        return re\n",
    "df_Comorbidities['Michigan']=df_Comorbidities.apply(estatecountry,axis=1)"
   ]
  },
  {
   "cell_type": "markdown",
   "metadata": {},
   "source": [
    "def estatecountry(fila):\n",
    "    r=fila['State']\n",
    "    if r=='Minnesota':\n",
    "        re=1\n",
    "        return re\n",
    "    else:\n",
    "        re=0\n",
    "        return re\n",
    "df_Comorbidities['Minnesota']=df_Comorbidities.apply(estatecountry,axis=1)"
   ]
  },
  {
   "cell_type": "markdown",
   "metadata": {},
   "source": [
    "def estatecountry(fila):\n",
    "    r=fila['State']\n",
    "    if r=='Mississippi':\n",
    "        re=1\n",
    "        return re\n",
    "    else:\n",
    "        re=0\n",
    "        return re\n",
    "df_Comorbidities['Mississippi']=df_Comorbidities.apply(estatecountry,axis=1)"
   ]
  },
  {
   "cell_type": "markdown",
   "metadata": {},
   "source": [
    "def estatecountry(fila):\n",
    "    r=fila['State']\n",
    "    if r=='Missouri':\n",
    "        re=1\n",
    "        return re\n",
    "    else:\n",
    "        re=0\n",
    "        return re\n",
    "df_Comorbidities['Missouri']=df_Comorbidities.apply(estatecountry,axis=1)"
   ]
  },
  {
   "cell_type": "markdown",
   "metadata": {},
   "source": [
    "def estatecountry(fila):\n",
    "    r=fila['State']\n",
    "    if r=='Montana':\n",
    "        re=1\n",
    "        return re\n",
    "    else:\n",
    "        re=0\n",
    "        return re\n",
    "df_Comorbidities['Montana']=df_Comorbidities.apply(estatecountry,axis=1)"
   ]
  },
  {
   "cell_type": "markdown",
   "metadata": {},
   "source": [
    "def estatecountry(fila):\n",
    "    r=fila['State']\n",
    "    if r=='Nebraska':\n",
    "        re=1\n",
    "        return re\n",
    "    else:\n",
    "        re=0\n",
    "        return re\n",
    "df_Comorbidities['Nebraska']=df_Comorbidities.apply(estatecountry,axis=1)"
   ]
  },
  {
   "cell_type": "markdown",
   "metadata": {},
   "source": [
    "def estatecountry(fila):\n",
    "    r=fila['State']\n",
    "    if r=='Nevada':\n",
    "        re=1\n",
    "        return re\n",
    "    else:\n",
    "        re=0\n",
    "        return re\n",
    "df_Comorbidities['Nevada']=df_Comorbidities.apply(estatecountry,axis=1)"
   ]
  },
  {
   "cell_type": "markdown",
   "metadata": {},
   "source": [
    "def estatecountry(fila):\n",
    "    r=fila['State']\n",
    "    if r=='New Hampshire':\n",
    "        re=1\n",
    "        return re\n",
    "    else:\n",
    "        re=0\n",
    "        return re\n",
    "df_Comorbidities['NewHampshire']=df_Comorbidities.apply(estatecountry,axis=1)"
   ]
  },
  {
   "cell_type": "markdown",
   "metadata": {},
   "source": [
    "def estatecountry(fila):\n",
    "    r=fila['State']\n",
    "    if r=='New Jersey':\n",
    "        re=1\n",
    "        return re\n",
    "    else:\n",
    "        re=0\n",
    "        return re\n",
    "df_Comorbidities['NewJersey']=df_Comorbidities.apply(estatecountry,axis=1)"
   ]
  },
  {
   "cell_type": "markdown",
   "metadata": {},
   "source": [
    "def estatecountry(fila):\n",
    "    r=fila['State']\n",
    "    if r=='Michigan':\n",
    "        re=1\n",
    "        return re\n",
    "    else:\n",
    "        re=0\n",
    "        return re\n",
    "df_Comorbidities['Michigan']=df_Comorbidities.apply(estatecountry,axis=1)"
   ]
  },
  {
   "cell_type": "markdown",
   "metadata": {},
   "source": [
    "def estatecountry(fila):\n",
    "    r=fila['State']\n",
    "    if r=='New Mexico':\n",
    "        re=1\n",
    "        return re\n",
    "    else:\n",
    "        re=0\n",
    "        return re\n",
    "df_Comorbidities['NewMexico']=df_Comorbidities.apply(estatecountry,axis=1)"
   ]
  },
  {
   "cell_type": "markdown",
   "metadata": {},
   "source": [
    "def estatecountry(fila):\n",
    "    r=fila['State']\n",
    "    if r=='New York City':\n",
    "        re=1\n",
    "        return re\n",
    "    else:\n",
    "        re=0\n",
    "        return re\n",
    "df_Comorbidities['NewYorkCity']=df_Comorbidities.apply(estatecountry,axis=1)"
   ]
  },
  {
   "cell_type": "markdown",
   "metadata": {},
   "source": [
    "def estatecountry(fila):\n",
    "    r=fila['State']\n",
    "    if r=='New York':\n",
    "        re=1\n",
    "        return re\n",
    "    else:\n",
    "        re=0\n",
    "        return re\n",
    "df_Comorbidities['NewYork']=df_Comorbidities.apply(estatecountry,axis=1)"
   ]
  },
  {
   "cell_type": "markdown",
   "metadata": {},
   "source": [
    "def estatecountry(fila):\n",
    "    r=fila['State']\n",
    "    if r=='North Carolina':\n",
    "        re=1\n",
    "        return re\n",
    "    else:\n",
    "        re=0\n",
    "        return re\n",
    "df_Comorbidities['NorthCarolina']=df_Comorbidities.apply(estatecountry,axis=1)"
   ]
  },
  {
   "cell_type": "markdown",
   "metadata": {},
   "source": [
    "def estatecountry(fila):\n",
    "    r=fila['State']\n",
    "    if r=='North Dakota':\n",
    "        re=1\n",
    "        return re\n",
    "    else:\n",
    "        re=0\n",
    "        return re\n",
    "df_Comorbidities['NorthDakota']=df_Comorbidities.apply(estatecountry,axis=1)"
   ]
  },
  {
   "cell_type": "markdown",
   "metadata": {},
   "source": [
    "def estatecountry(fila):\n",
    "    r=fila['State']\n",
    "    if r=='Ohio':\n",
    "        re=1\n",
    "        return re\n",
    "    else:\n",
    "        re=0\n",
    "        return re\n",
    "df_Comorbidities['Ohio']=df_Comorbidities.apply(estatecountry,axis=1)"
   ]
  },
  {
   "cell_type": "markdown",
   "metadata": {},
   "source": [
    "def estatecountry(fila):\n",
    "    r=fila['State']\n",
    "    if r=='Oklahoma':\n",
    "        re=1\n",
    "        return re\n",
    "    else:\n",
    "        re=0\n",
    "        return re\n",
    "df_Comorbidities['Oklahoma']=df_Comorbidities.apply(estatecountry,axis=1)"
   ]
  },
  {
   "cell_type": "markdown",
   "metadata": {},
   "source": [
    "def estatecountry(fila):\n",
    "    r=fila['State']\n",
    "    if r=='Oregon':\n",
    "        re=1\n",
    "        return re\n",
    "    else:\n",
    "        re=0\n",
    "        return re\n",
    "df_Comorbidities['Oregon']=df_Comorbidities.apply(estatecountry,axis=1)"
   ]
  },
  {
   "cell_type": "markdown",
   "metadata": {},
   "source": [
    "def estatecountry(fila):\n",
    "    r=fila['State']\n",
    "    if r=='Pennsylvania':\n",
    "        re=1\n",
    "        return re\n",
    "    else:\n",
    "        re=0\n",
    "        return re\n",
    "df_Comorbidities['Pennsylvania']=df_Comorbidities.apply(estatecountry,axis=1)"
   ]
  },
  {
   "cell_type": "markdown",
   "metadata": {},
   "source": [
    "def estatecountry(fila):\n",
    "    r=fila['State']\n",
    "    if r=='Puerto Rico':\n",
    "        re=1\n",
    "        return re\n",
    "    else:\n",
    "        re=0\n",
    "        return re\n",
    "df_Comorbidities['PuertoRico']=df_Comorbidities.apply(estatecountry,axis=1)"
   ]
  },
  {
   "cell_type": "markdown",
   "metadata": {},
   "source": [
    "def estatecountry(fila):\n",
    "    r=fila['State']\n",
    "    if r=='Rhode Island':\n",
    "        re=1\n",
    "        return re\n",
    "    else:\n",
    "        re=0\n",
    "        return re\n",
    "df_Comorbidities['RhodeIsland']=df_Comorbidities.apply(estatecountry,axis=1)"
   ]
  },
  {
   "cell_type": "markdown",
   "metadata": {},
   "source": [
    "def estatecountry(fila):\n",
    "    r=fila['State']\n",
    "    if r=='South Carolina':\n",
    "        re=1\n",
    "        return re\n",
    "    else:\n",
    "        re=0\n",
    "        return re\n",
    "df_Comorbidities['SouthCarolina']=df_Comorbidities.apply(estatecountry,axis=1)"
   ]
  },
  {
   "cell_type": "markdown",
   "metadata": {},
   "source": [
    "def estatecountry(fila):\n",
    "    r=fila['State']\n",
    "    if r=='South Dakota':\n",
    "        re=1\n",
    "        return re\n",
    "    else:\n",
    "        re=0\n",
    "        return re\n",
    "df_Comorbidities['SouthDakota']=df_Comorbidities.apply(estatecountry,axis=1)"
   ]
  },
  {
   "cell_type": "markdown",
   "metadata": {},
   "source": [
    "def estatecountry(fila):\n",
    "    r=fila['State']\n",
    "    if r=='Tennessee':\n",
    "        re=1\n",
    "        return re\n",
    "    else:\n",
    "        re=0\n",
    "        return re\n",
    "df_Comorbidities['Tennessee']=df_Comorbidities.apply(estatecountry,axis=1)"
   ]
  },
  {
   "cell_type": "markdown",
   "metadata": {},
   "source": [
    "def estatecountry(fila):\n",
    "    r=fila['State']\n",
    "    if r=='Texas':\n",
    "        re=1\n",
    "        return re\n",
    "    else:\n",
    "        re=0\n",
    "        return re\n",
    "df_Comorbidities['Texas']=df_Comorbidities.apply(estatecountry,axis=1)"
   ]
  },
  {
   "cell_type": "markdown",
   "metadata": {},
   "source": [
    "def estatecountry(fila):\n",
    "    r=fila['State']\n",
    "    if r=='Utah':\n",
    "        re=1\n",
    "        return re\n",
    "    else:\n",
    "        re=0\n",
    "        return re\n",
    "df_Comorbidities['Utah']=df_Comorbidities.apply(estatecountry,axis=1)"
   ]
  },
  {
   "cell_type": "markdown",
   "metadata": {},
   "source": [
    "def estatecountry(fila):\n",
    "    r=fila['State']\n",
    "    if r=='Vermont':\n",
    "        re=1\n",
    "        return re\n",
    "    else:\n",
    "        re=0\n",
    "        return re\n",
    "df_Comorbidities['Vermont']=df_Comorbidities.apply(estatecountry,axis=1)"
   ]
  },
  {
   "cell_type": "markdown",
   "metadata": {},
   "source": [
    "def estatecountry(fila):\n",
    "    r=fila['State']\n",
    "    if r=='Virginia':\n",
    "        re=1\n",
    "        return re\n",
    "    else:\n",
    "        re=0\n",
    "        return re\n",
    "df_Comorbidities['Virginia']=df_Comorbidities.apply(estatecountry,axis=1)"
   ]
  },
  {
   "cell_type": "markdown",
   "metadata": {},
   "source": [
    "def estatecountry(fila):\n",
    "    r=fila['State']\n",
    "    if r=='Washington':\n",
    "        re=1\n",
    "        return re\n",
    "    else:\n",
    "        re=0\n",
    "        return re\n",
    "df_Comorbidities['Washington']=df_Comorbidities.apply(estatecountry,axis=1)"
   ]
  },
  {
   "cell_type": "markdown",
   "metadata": {},
   "source": [
    "def estatecountry(fila):\n",
    "    r=fila['State']\n",
    "    if r=='West Virginia':\n",
    "        re=1\n",
    "        return re\n",
    "    else:\n",
    "        re=0\n",
    "        return re\n",
    "df_Comorbidities['WestVirginia']=df_Comorbidities.apply(estatecountry,axis=1)"
   ]
  },
  {
   "cell_type": "markdown",
   "metadata": {},
   "source": [
    "def estatecountry(fila):\n",
    "    r=fila['State']\n",
    "    if r=='Wisconsin':\n",
    "        re=1\n",
    "        return re\n",
    "    else:\n",
    "        re=0\n",
    "        return re\n",
    "df_Comorbidities['Wisconsin']=df_Comorbidities.apply(estatecountry,axis=1)"
   ]
  },
  {
   "cell_type": "markdown",
   "metadata": {},
   "source": [
    "def estatecountry(fila):\n",
    "    r=fila['State']\n",
    "    if r=='Wyoming':\n",
    "        re=1\n",
    "        return re\n",
    "    else:\n",
    "        re=0\n",
    "        return re\n",
    "df_Comorbidities['Wyoming']=df_Comorbidities.apply(estatecountry,axis=1)"
   ]
  },
  {
   "cell_type": "markdown",
   "metadata": {},
   "source": [
    "## NORMALIZACION\n",
    "Dado que en los datos exploratorios encotramos que hay una clasificación del grupo de enfermedades ICD10_codes, procederemos a estandarizar los grupos de las enfermedades por medio de la normalización booleana [0,1] por medio las siguentes funciones Python de forma controlada procederemos a convertir las variables dependientes en columnas en las cuales 0 significa que no está presente la enfermedad y 1 que si está presente dicha enfermedad."
   ]
  },
  {
   "cell_type": "code",
   "execution_count": 3,
   "metadata": {},
   "outputs": [],
   "source": [
    "def conditiongroup(fila): # Función def recorre de forma controlada el objeto que definimos como Fila\n",
    "    r=fila['Condition Group'] # r= posición que repetirá el numero de filas que tenga la columna.\n",
    "    if r=='All other conditions and causes (residual)': # condicion: si encuentra las palabras a la derecha de r==, entonces:\n",
    "        re=1 #respuesta que debe colocar 1\n",
    "        return re # Retorne la respuesta\n",
    "    else: # Sino\n",
    "        re=0 # retorne 0 \n",
    "        return re\n",
    "df_Comorbidities['OtherConditions_ResidualGroup']=df_Comorbidities.apply(conditiongroup,axis=1)\n",
    "# la nueva columna creada es: df_Comorbidities['OtherConditions_ResidualGroup'\n",
    "# inserte la respuesta de las condiciones dadas en la funcion def, dentro del dataframe df_Comorbidities.apply(estatecountry,axis=1), de la nueva columna creada \n"
   ]
  },
  {
   "cell_type": "markdown",
   "metadata": {},
   "source": [
    "## REPETIMOS EL MISMO PROCEDIMIENTO EXPLICADO ANTERIORMENTE CON TODOS LOS GRUPOS DE ENFERMEDADES"
   ]
  },
  {
   "cell_type": "code",
   "execution_count": 4,
   "metadata": {},
   "outputs": [],
   "source": [
    "def conditiongroup(fila):\n",
    "    r=fila['Condition Group']\n",
    "    if r=='Alzheimer disease':\n",
    "        re=1\n",
    "        return re\n",
    "    else:\n",
    "        re=0\n",
    "        return re\n",
    "df_Comorbidities['Alzheimer_DiseaseGroup']=df_Comorbidities.apply(conditiongroup,axis=1)"
   ]
  },
  {
   "cell_type": "code",
   "execution_count": 5,
   "metadata": {},
   "outputs": [],
   "source": [
    "def conditiongroup(fila):\n",
    "    r=fila['Condition Group']\n",
    "    if r=='Circulatory diseases':\n",
    "        re=1\n",
    "        return re\n",
    "    else:\n",
    "        re=0\n",
    "        return re\n",
    "df_Comorbidities['Circulatory_DiseasesGroup']=df_Comorbidities.apply(conditiongroup,axis=1)"
   ]
  },
  {
   "cell_type": "code",
   "execution_count": 6,
   "metadata": {},
   "outputs": [],
   "source": [
    "def conditiongroup(fila):\n",
    "    r=fila['Condition Group']\n",
    "    if r=='COVID-19':\n",
    "        re=1\n",
    "        return re\n",
    "    else:\n",
    "        re=0\n",
    "        return re\n",
    "df_Comorbidities['SarsCOv19Group']=df_Comorbidities.apply(conditiongroup,axis=1)"
   ]
  },
  {
   "cell_type": "code",
   "execution_count": 7,
   "metadata": {},
   "outputs": [],
   "source": [
    "def conditiongroup(fila):\n",
    "    r=fila['Condition Group']\n",
    "    if r=='Diabetes':\n",
    "        re=1\n",
    "        return re\n",
    "    else:\n",
    "        re=0\n",
    "        return re\n",
    "df_Comorbidities['DiabetesGroup']=df_Comorbidities.apply(conditiongroup,axis=1)"
   ]
  },
  {
   "cell_type": "code",
   "execution_count": 8,
   "metadata": {},
   "outputs": [],
   "source": [
    "def conditiongroup(fila):\n",
    "    r=fila['Condition Group']\n",
    "    if r=='Intentional and unintentional injury, poisoning, and other adverse events':\n",
    "        re=1\n",
    "        return re\n",
    "    else:\n",
    "        re=0\n",
    "        return re\n",
    "df_Comorbidities['IntUnintInjury_PoisoningAdverGroup']=df_Comorbidities.apply(conditiongroup,axis=1)"
   ]
  },
  {
   "cell_type": "code",
   "execution_count": 9,
   "metadata": {},
   "outputs": [],
   "source": [
    "def conditiongroup(fila):\n",
    "    r=fila['Condition Group']\n",
    "    if r=='Malignant neoplasms':\n",
    "        re=1\n",
    "        return re\n",
    "    else:\n",
    "        re=0\n",
    "        return re\n",
    "df_Comorbidities['Malignant_NeoplasmsGroup']=df_Comorbidities.apply(conditiongroup,axis=1)"
   ]
  },
  {
   "cell_type": "code",
   "execution_count": 10,
   "metadata": {},
   "outputs": [],
   "source": [
    "def conditiongroup(fila):\n",
    "    r=fila['Condition Group']\n",
    "    if r=='Obesity':\n",
    "        re=1\n",
    "        return re\n",
    "    else:\n",
    "        re=0\n",
    "        return re\n",
    "df_Comorbidities['ObesityGroup']=df_Comorbidities.apply(conditiongroup,axis=1)"
   ]
  },
  {
   "cell_type": "code",
   "execution_count": 11,
   "metadata": {},
   "outputs": [],
   "source": [
    "def conditiongroup(fila):\n",
    "    r=fila['Condition Group']\n",
    "    if r=='Renal failure':\n",
    "        re=1\n",
    "        return re\n",
    "    else:\n",
    "        re=0\n",
    "        return re\n",
    "df_Comorbidities['Renal_FailureGroup']=df_Comorbidities.apply(conditiongroup,axis=1)"
   ]
  },
  {
   "cell_type": "code",
   "execution_count": 12,
   "metadata": {},
   "outputs": [],
   "source": [
    "def conditiongroup(fila):\n",
    "    r=fila['Condition Group']\n",
    "    if r=='Respiratory diseases':\n",
    "        re=1\n",
    "        return re\n",
    "    else:\n",
    "        re=0\n",
    "        return re\n",
    "df_Comorbidities['Respiratory_DiseasesGroup']=df_Comorbidities.apply(conditiongroup,axis=1)"
   ]
  },
  {
   "cell_type": "code",
   "execution_count": 13,
   "metadata": {},
   "outputs": [],
   "source": [
    "def conditiongroup(fila):\n",
    "    r=fila['Condition Group']\n",
    "    if r=='Sepsis':\n",
    "        re=1\n",
    "        return re\n",
    "    else:\n",
    "        re=0\n",
    "        return re\n",
    "df_Comorbidities['SepsisGroup']=df_Comorbidities.apply(conditiongroup,axis=1)"
   ]
  },
  {
   "cell_type": "code",
   "execution_count": 14,
   "metadata": {},
   "outputs": [],
   "source": [
    "def conditiongroup(fila):\n",
    "    r=fila['Condition Group']\n",
    "    if r=='Vascular and unspecified dementia':\n",
    "        re=1\n",
    "        return re\n",
    "    else:\n",
    "        re=0\n",
    "        return re\n",
    "df_Comorbidities['Vascular_DementiaGroup']=df_Comorbidities.apply(conditiongroup,axis=1)"
   ]
  },
  {
   "cell_type": "markdown",
   "metadata": {},
   "source": [
    "## NORMALIZACION DE LAS FRECUENCIAS\n",
    "dado que necesitamos identificar variables ordinales para incluir en el **STATSMODEL** procederemos a identificar la frecuencia de la muerte, por las enfermedades presentadas. "
   ]
  },
  {
   "cell_type": "code",
   "execution_count": 15,
   "metadata": {},
   "outputs": [],
   "source": [
    "def group(fila):\n",
    "    r=fila['Group']\n",
    "    if r=='By Month':\n",
    "        re=1\n",
    "        return re\n",
    "    else:\n",
    "        re=0\n",
    "        return re\n",
    "df_Comorbidities['ByMonth']=df_Comorbidities.apply(group,axis=1)"
   ]
  },
  {
   "cell_type": "markdown",
   "metadata": {},
   "source": [
    "def group(fila):\n",
    "    r=fila['Group']\n",
    "    if r=='By Total':\n",
    "        re=1\n",
    "        return re\n",
    "    else:\n",
    "        re=0\n",
    "        return re\n",
    "df_Comorbidities['ByTotal']=df_Comorbidities.apply(group,axis=1)"
   ]
  },
  {
   "cell_type": "markdown",
   "metadata": {},
   "source": [
    "def group(fila):\n",
    "    r=fila['Group']\n",
    "    if r=='By Year':\n",
    "        re=1\n",
    "        return re\n",
    "    else:\n",
    "        re=0\n",
    "        return re\n",
    "df_Comorbidities['ByYear']=df_Comorbidities.apply(group,axis=1)"
   ]
  },
  {
   "cell_type": "markdown",
   "metadata": {},
   "source": [
    "## NORMALIZACION ENFERMEDADES\n",
    "dado que contamos con las enfermedades especificas procedemos a realizar la misma normalizacion para las enfermedades especificas.\n"
   ]
  },
  {
   "cell_type": "code",
   "execution_count": 16,
   "metadata": {},
   "outputs": [],
   "source": [
    "def conditional(fila):\n",
    "    r=fila['Condition']\n",
    "    if r=='Adult respiratory distress syndrome':\n",
    "        re=1\n",
    "        return re\n",
    "    else:\n",
    "        re=0\n",
    "        return re\n",
    "df_Comorbidities['AdultRespiratoryDistressSyndrome']=df_Comorbidities.apply(conditional,axis=1)"
   ]
  },
  {
   "cell_type": "code",
   "execution_count": 17,
   "metadata": {},
   "outputs": [],
   "source": [
    "def conditional(fila):\n",
    "    r=fila['Condition']\n",
    "    if r=='All other conditions and causes (residual)':\n",
    "        re=1\n",
    "        return re\n",
    "    else:\n",
    "        re=0\n",
    "        return re\n",
    "df_Comorbidities['OtherConditionsResidual']=df_Comorbidities.apply(conditional,axis=1)#OtherConditions_residualGroup"
   ]
  },
  {
   "cell_type": "code",
   "execution_count": 18,
   "metadata": {},
   "outputs": [],
   "source": [
    "def conditional(fila):\n",
    "    r=fila['Condition']\n",
    "    if r=='Alzheimer disease':\n",
    "        re=1\n",
    "        return re\n",
    "    else:\n",
    "        re=0\n",
    "        return re\n",
    "df_Comorbidities['AlzheimerDisease']=df_Comorbidities.apply(conditional,axis=1)"
   ]
  },
  {
   "cell_type": "code",
   "execution_count": 19,
   "metadata": {},
   "outputs": [],
   "source": [
    "def conditional(fila):\n",
    "    r=fila['Condition']\n",
    "    if r=='Cardiac arrest':\n",
    "        re=1\n",
    "        return re\n",
    "    else:\n",
    "        re=0\n",
    "        return re\n",
    "df_Comorbidities['CardiacArrest']=df_Comorbidities.apply(conditional,axis=1)"
   ]
  },
  {
   "cell_type": "code",
   "execution_count": 20,
   "metadata": {},
   "outputs": [],
   "source": [
    "def conditional(fila):\n",
    "    r=fila['Condition']\n",
    "    if r=='Cardiac arrhythmia':\n",
    "        re=1\n",
    "        return re\n",
    "    else:\n",
    "        re=0\n",
    "        return re\n",
    "df_Comorbidities['CardiacArrhythmia']=df_Comorbidities.apply(conditional,axis=1)"
   ]
  },
  {
   "cell_type": "code",
   "execution_count": 21,
   "metadata": {},
   "outputs": [],
   "source": [
    "def conditional(fila):\n",
    "    r=fila['Condition']\n",
    "    if r=='Cerebrovascular diseases':\n",
    "        re=1\n",
    "        return re\n",
    "    else:\n",
    "        re=0\n",
    "        return re\n",
    "df_Comorbidities['CerebrovascularDiseases']=df_Comorbidities.apply(conditional,axis=1)"
   ]
  },
  {
   "cell_type": "code",
   "execution_count": 22,
   "metadata": {},
   "outputs": [],
   "source": [
    "def conditional(fila):\n",
    "    r=fila['Condition']\n",
    "    if r=='Chronic lower respiratory diseases':\n",
    "        re=1\n",
    "        return re\n",
    "    else:\n",
    "        re=0\n",
    "        return re\n",
    "df_Comorbidities['ChronicLowerRespiratoryDiseases']=df_Comorbidities.apply(conditional,axis=1)"
   ]
  },
  {
   "cell_type": "code",
   "execution_count": 23,
   "metadata": {},
   "outputs": [],
   "source": [
    "def conditional(fila):\n",
    "    r=fila['Condition']\n",
    "    if r=='COVID-19':\n",
    "        re=1\n",
    "        return re\n",
    "    else:\n",
    "        re=0\n",
    "        return re\n",
    "df_Comorbidities['SarsCov19']=df_Comorbidities.apply(conditional,axis=1)"
   ]
  },
  {
   "cell_type": "markdown",
   "metadata": {},
   "source": [
    "df_Comorbidities.drop(['COVID-19'],axis=1)"
   ]
  },
  {
   "cell_type": "code",
   "execution_count": 24,
   "metadata": {},
   "outputs": [],
   "source": [
    "def conditional(fila):\n",
    "    r=fila['Condition']\n",
    "    if r=='Diabetes':\n",
    "        re=1\n",
    "        return re\n",
    "    else:\n",
    "        re=0\n",
    "        return re\n",
    "df_Comorbidities['Diabetes']=df_Comorbidities.apply(conditional,axis=1)"
   ]
  },
  {
   "cell_type": "code",
   "execution_count": 25,
   "metadata": {},
   "outputs": [],
   "source": [
    "def group(fila):\n",
    "    r=fila['Condition']\n",
    "    if r=='Heart failure':\n",
    "        re=1\n",
    "        return re\n",
    "    else:\n",
    "        re=0\n",
    "        return re\n",
    "df_Comorbidities['HeartFailure']=df_Comorbidities.apply(conditional,axis=1)"
   ]
  },
  {
   "cell_type": "code",
   "execution_count": 26,
   "metadata": {},
   "outputs": [],
   "source": [
    "def conditional(fila):\n",
    "    r=fila['Condition']\n",
    "    if r=='Hypertensive diseases':\n",
    "        re=1\n",
    "        return re\n",
    "    else:\n",
    "        re=0\n",
    "        return re\n",
    "df_Comorbidities['HypertensiveDiseases']=df_Comorbidities.apply(conditional,axis=1)"
   ]
  },
  {
   "cell_type": "code",
   "execution_count": 27,
   "metadata": {},
   "outputs": [],
   "source": [
    "def conditional(fila):\n",
    "    r=fila['Condition']\n",
    "    if r=='Influenza and pneumonia':\n",
    "        re=1\n",
    "        return re\n",
    "    else:\n",
    "        re=0\n",
    "        return re\n",
    "df_Comorbidities['InfluenzaAndPneumonia']=df_Comorbidities.apply(conditional,axis=1)"
   ]
  },
  {
   "cell_type": "code",
   "execution_count": 28,
   "metadata": {},
   "outputs": [],
   "source": [
    "def conditional(fila):\n",
    "    r=fila['Condition']\n",
    "    if r=='Intentional and unintentional injury, poisoning, and other adverse events':\n",
    "        re=1\n",
    "        return re\n",
    "    else:\n",
    "        re=0\n",
    "        return re\n",
    "df_Comorbidities['IntUnintInjuryPoisoningAdver']=df_Comorbidities.apply(conditional,axis=1)"
   ]
  },
  {
   "cell_type": "code",
   "execution_count": 29,
   "metadata": {},
   "outputs": [],
   "source": [
    "def conditional(fila):\n",
    "    r=fila['Condition']\n",
    "    if r=='Ischemic heart disease':\n",
    "        re=1\n",
    "        return re\n",
    "    else:\n",
    "        re=0\n",
    "        return re\n",
    "df_Comorbidities['IschemicHeartDisease']=df_Comorbidities.apply(conditional,axis=1)"
   ]
  },
  {
   "cell_type": "code",
   "execution_count": 30,
   "metadata": {},
   "outputs": [],
   "source": [
    "def conditional(fila):\n",
    "    r=fila['Condition']\n",
    "    if r=='Malignant neoplasms':\n",
    "        re=1\n",
    "        return re\n",
    "    else:\n",
    "        re=0\n",
    "        return re\n",
    "df_Comorbidities['MalignantNeoplasms']=df_Comorbidities.apply(conditional,axis=1)"
   ]
  },
  {
   "cell_type": "code",
   "execution_count": 31,
   "metadata": {},
   "outputs": [],
   "source": [
    "def conditional(fila):\n",
    "    r=fila['Condition']\n",
    "    if r=='Obesity':\n",
    "        re=1\n",
    "        return re\n",
    "    else:\n",
    "        re=0\n",
    "        return re\n",
    "df_Comorbidities['Obesity']=df_Comorbidities.apply(conditional,axis=1)"
   ]
  },
  {
   "cell_type": "code",
   "execution_count": 32,
   "metadata": {},
   "outputs": [],
   "source": [
    "def conditional(fila):\n",
    "    r=fila['Condition']\n",
    "    if r=='Other diseases of the circulatory system':\n",
    "        re=1\n",
    "        return re\n",
    "    else:\n",
    "        re=0\n",
    "        return re\n",
    "df_Comorbidities['OtherDiseasesCirculatorySystem']=df_Comorbidities.apply(conditional,axis=1)"
   ]
  },
  {
   "cell_type": "code",
   "execution_count": 33,
   "metadata": {},
   "outputs": [],
   "source": [
    "def conditional(fila):\n",
    "    r=fila['Condition']\n",
    "    if r=='Other diseases of the respiratory system':\n",
    "        re=1\n",
    "        return re\n",
    "    else:\n",
    "        re=0\n",
    "        return re\n",
    "df_Comorbidities['OtherdiseasesRespiratorySystem']=df_Comorbidities.apply(conditional,axis=1)"
   ]
  },
  {
   "cell_type": "code",
   "execution_count": 34,
   "metadata": {},
   "outputs": [],
   "source": [
    "def conditional(fila):\n",
    "    r=fila['Condition']\n",
    "    if r=='Renal failure':\n",
    "        re=1\n",
    "        return re\n",
    "    else:\n",
    "        re=0\n",
    "        return re\n",
    "df_Comorbidities['RenalFailure']=df_Comorbidities.apply(conditional,axis=1)"
   ]
  },
  {
   "cell_type": "code",
   "execution_count": 35,
   "metadata": {},
   "outputs": [],
   "source": [
    "def conditional(fila):\n",
    "    r=fila['Condition']\n",
    "    if r=='Respiratory arrest':\n",
    "        re=1\n",
    "        return re\n",
    "    else:\n",
    "        re=0\n",
    "        return re\n",
    "df_Comorbidities['RespiratoryArrest']=df_Comorbidities.apply(conditional,axis=1)"
   ]
  },
  {
   "cell_type": "code",
   "execution_count": 36,
   "metadata": {},
   "outputs": [],
   "source": [
    "def conditional(fila):\n",
    "    r=fila['Condition']\n",
    "    if r=='Respiratory failure':\n",
    "        re=1\n",
    "        return re\n",
    "    else:\n",
    "        re=0\n",
    "        return re\n",
    "df_Comorbidities['RespiratoryFailure']=df_Comorbidities.apply(conditional,axis=1)"
   ]
  },
  {
   "cell_type": "code",
   "execution_count": 37,
   "metadata": {},
   "outputs": [],
   "source": [
    "def conditional(fila):\n",
    "    r=fila['Condition']\n",
    "    if r=='Sepsis':\n",
    "        re=1\n",
    "        return re\n",
    "    else:\n",
    "        re=0\n",
    "        return re\n",
    "df_Comorbidities['Sepsis']=df_Comorbidities.apply(conditional,axis=1)"
   ]
  },
  {
   "cell_type": "code",
   "execution_count": 38,
   "metadata": {},
   "outputs": [],
   "source": [
    "def conditional(fila):\n",
    "    r=fila['Condition']\n",
    "    if r=='Vascular and unspecified dementia':\n",
    "        re=1\n",
    "        return re\n",
    "    else:\n",
    "        re=0\n",
    "        return re\n",
    "df_Comorbidities['VascularAndUnspecifiedDementia']=df_Comorbidities.apply(conditional,axis=1)"
   ]
  },
  {
   "cell_type": "markdown",
   "metadata": {},
   "source": [
    "NORMALIZACION \n",
    "Rangos Edad"
   ]
  },
  {
   "cell_type": "code",
   "execution_count": 39,
   "metadata": {},
   "outputs": [],
   "source": [
    "def agerange(fila):\n",
    "    r=fila['Age Group']\n",
    "    if r=='0-24':\n",
    "        re=1\n",
    "        return re\n",
    "    else:\n",
    "        re=0\n",
    "        return re\n",
    "df_Comorbidities['0-24']=df_Comorbidities.apply(agerange,axis=1)"
   ]
  },
  {
   "cell_type": "code",
   "execution_count": 40,
   "metadata": {},
   "outputs": [],
   "source": [
    "def agerange(fila):\n",
    "    r=fila['Age Group']\n",
    "    if r=='25-34':\n",
    "        re=1\n",
    "        return re\n",
    "    else:\n",
    "        re=0\n",
    "        return re\n",
    "df_Comorbidities['25-34']=df_Comorbidities.apply(agerange,axis=1)"
   ]
  },
  {
   "cell_type": "code",
   "execution_count": 41,
   "metadata": {},
   "outputs": [],
   "source": [
    "def agerange(fila):\n",
    "    r=fila['Age Group']\n",
    "    if r=='35-44':\n",
    "        re=1\n",
    "        return re\n",
    "    else:\n",
    "        re=0\n",
    "        return re\n",
    "df_Comorbidities['35-44']=df_Comorbidities.apply(agerange,axis=1)"
   ]
  },
  {
   "cell_type": "code",
   "execution_count": 42,
   "metadata": {},
   "outputs": [],
   "source": [
    "def agerange(fila):\n",
    "    r=fila['Age Group']\n",
    "    if r=='45-54':\n",
    "        re=1\n",
    "        return re\n",
    "    else:\n",
    "        re=0\n",
    "        return re\n",
    "df_Comorbidities['45-54']=df_Comorbidities.apply(agerange,axis=1)"
   ]
  },
  {
   "cell_type": "code",
   "execution_count": 43,
   "metadata": {},
   "outputs": [],
   "source": [
    "def agerange(fila):\n",
    "    r=fila['Age Group']\n",
    "    if r=='55-64':\n",
    "        re=1\n",
    "        return re\n",
    "    else:\n",
    "        re=0\n",
    "        return re\n",
    "df_Comorbidities['55-64']=df_Comorbidities.apply(agerange,axis=1)"
   ]
  },
  {
   "cell_type": "code",
   "execution_count": 44,
   "metadata": {},
   "outputs": [],
   "source": [
    "def agerange(fila):\n",
    "    r=fila['Age Group']\n",
    "    if r=='65-74':\n",
    "        re=1\n",
    "        return re\n",
    "    else:\n",
    "        re=0\n",
    "        return re\n",
    "df_Comorbidities['65-74']=df_Comorbidities.apply(agerange,axis=1)"
   ]
  },
  {
   "cell_type": "code",
   "execution_count": 45,
   "metadata": {},
   "outputs": [],
   "source": [
    "def agerange(fila):\n",
    "    r=fila['Age Group']\n",
    "    if r=='75-84':\n",
    "        re=1\n",
    "        return re\n",
    "    else:\n",
    "        re=0\n",
    "        return re\n",
    "df_Comorbidities['75-84']=df_Comorbidities.apply(agerange,axis=1)"
   ]
  },
  {
   "cell_type": "code",
   "execution_count": 46,
   "metadata": {},
   "outputs": [],
   "source": [
    "def agerange(fila):\n",
    "    r=fila['Age Group']\n",
    "    if r=='85+':\n",
    "        re=1\n",
    "        return re\n",
    "    else:\n",
    "        re=0\n",
    "        return re\n",
    "df_Comorbidities['85+']=df_Comorbidities.apply(agerange,axis=1)"
   ]
  },
  {
   "cell_type": "code",
   "execution_count": 47,
   "metadata": {},
   "outputs": [],
   "source": [
    "def agerange(fila):\n",
    "    r=fila['Age Group']\n",
    "    if r=='All Ages':\n",
    "        re=1\n",
    "        return re\n",
    "    else:\n",
    "        re=0\n",
    "        return re\n",
    "df_Comorbidities['AllAges']=df_Comorbidities.apply(agerange,axis=1)"
   ]
  },
  {
   "cell_type": "code",
   "execution_count": 48,
   "metadata": {},
   "outputs": [],
   "source": [
    "def agerange(fila):\n",
    "    r=fila['Age Group']\n",
    "    if r=='Not stated':\n",
    "        re=1\n",
    "        return re\n",
    "    else:\n",
    "        re=0\n",
    "        return re\n",
    "df_Comorbidities['NotStated']=df_Comorbidities.apply(agerange,axis=1)"
   ]
  },
  {
   "cell_type": "markdown",
   "metadata": {},
   "source": [
    "## RENOMBRAR COLUMNAS\n",
    "dado que necesitamos estandarizar las variables para el resto del estudio, procedemos a renombrar las mismas para hacerlas mas fácil de entender por el sistema, pues para el mismo es más fácil trabajar con nombres sin espacios entre los caracteres."
   ]
  },
  {
   "cell_type": "code",
   "execution_count": 49,
   "metadata": {},
   "outputs": [],
   "source": [
    "df_Comorbidities=df_Comorbidities.rename(columns={'Data As Of':'DataAsOf',\n",
    "    'Start Date':'StartDate',\n",
    "    'End Date':'EndDate',\n",
    "    'Condition Group':'ConditionGroup',\n",
    "    'Age Group':'AgeGroup',\n",
    "    'COVID-19 Deaths':'Cov19Deaths',\n",
    "    'Number of Mentions':'NumberOfMentions'\n",
    "    })"
   ]
  },
  {
   "cell_type": "code",
   "execution_count": 50,
   "metadata": {},
   "outputs": [],
   "source": [
    "df_encabezados=df_Comorbidities.head()"
   ]
  },
  {
   "cell_type": "markdown",
   "metadata": {},
   "source": [
    "## IMPORTACION DE PAQUETES\n",
    "procedemos a cargar las librerias que necesitaremos para realizar el estudio."
   ]
  },
  {
   "cell_type": "code",
   "execution_count": 51,
   "metadata": {},
   "outputs": [],
   "source": [
    "from __future__ import print_function # libreria imporesora de las funciones especificas del modelo.\n",
    "import statsmodels.api as sm # importador de metodos.\n",
    "from patsy import dmatrices # paquete que crea las matrices con las cuales se integran las variables categoricas. "
   ]
  },
  {
   "cell_type": "code",
   "execution_count": 52,
   "metadata": {},
   "outputs": [
    {
     "name": "stderr",
     "output_type": "stream",
     "text": [
      "UsageError: unrecognized arguments: # paquete en linea para crear graficos\n"
     ]
    }
   ],
   "source": [
    "%matplotlib inline # paquete en linea para crear graficos \n",
    "import numpy as np # libreria para crear matrices numericas\n",
    "import matplotlib.pyplot as plt # paquete interno data visualization \n",
    "from statsmodels.sandbox.regression.predstd import wls_prediction_std # paquete predictor \n",
    "from statsmodels.iolib.table import (SimpleTable, default_txt_fmt) # paquete lector y creador de archivos planos."
   ]
  },
  {
   "cell_type": "markdown",
   "metadata": {},
   "source": [
    "## DEFINICION DE DATAFRAMES\n",
    "procecedemos a creaar nuevos dataframes con base en el dataframe df_Comorbidities para aislar las columnas que creamos anteriormente iniciando de la misma forma, crando los dataframes de las clases de enfermedades, y con la funcion dropna() eliminamos las filas inconsistentes que se hayan creado."
   ]
  },
  {
   "cell_type": "code",
   "execution_count": 53,
   "metadata": {},
   "outputs": [
    {
     "data": {
      "text/html": [
       "<div>\n",
       "<style scoped>\n",
       "    .dataframe tbody tr th:only-of-type {\n",
       "        vertical-align: middle;\n",
       "    }\n",
       "\n",
       "    .dataframe tbody tr th {\n",
       "        vertical-align: top;\n",
       "    }\n",
       "\n",
       "    .dataframe thead th {\n",
       "        text-align: right;\n",
       "    }\n",
       "</style>\n",
       "<table border=\"1\" class=\"dataframe\">\n",
       "  <thead>\n",
       "    <tr style=\"text-align: right;\">\n",
       "      <th></th>\n",
       "      <th>Cov19Deaths</th>\n",
       "      <th>IntUnintInjury_PoisoningAdverGroup</th>\n",
       "      <th>NumberOfMentions</th>\n",
       "      <th>AgeGroup</th>\n",
       "    </tr>\n",
       "  </thead>\n",
       "  <tbody>\n",
       "    <tr>\n",
       "      <th>37260</th>\n",
       "      <td>0.0</td>\n",
       "      <td>0</td>\n",
       "      <td>0.0</td>\n",
       "      <td>0-24</td>\n",
       "    </tr>\n",
       "    <tr>\n",
       "      <th>37261</th>\n",
       "      <td>0.0</td>\n",
       "      <td>0</td>\n",
       "      <td>0.0</td>\n",
       "      <td>0-24</td>\n",
       "    </tr>\n",
       "    <tr>\n",
       "      <th>37262</th>\n",
       "      <td>9.0</td>\n",
       "      <td>0</td>\n",
       "      <td>9.0</td>\n",
       "      <td>0-24</td>\n",
       "    </tr>\n",
       "    <tr>\n",
       "      <th>37263</th>\n",
       "      <td>27.0</td>\n",
       "      <td>0</td>\n",
       "      <td>30.0</td>\n",
       "      <td>0-24</td>\n",
       "    </tr>\n",
       "    <tr>\n",
       "      <th>37264</th>\n",
       "      <td>19.0</td>\n",
       "      <td>0</td>\n",
       "      <td>19.0</td>\n",
       "      <td>0-24</td>\n",
       "    </tr>\n",
       "    <tr>\n",
       "      <th>...</th>\n",
       "      <td>...</td>\n",
       "      <td>...</td>\n",
       "      <td>...</td>\n",
       "      <td>...</td>\n",
       "    </tr>\n",
       "    <tr>\n",
       "      <th>285655</th>\n",
       "      <td>197.0</td>\n",
       "      <td>0</td>\n",
       "      <td>197.0</td>\n",
       "      <td>All Ages</td>\n",
       "    </tr>\n",
       "    <tr>\n",
       "      <th>285656</th>\n",
       "      <td>184.0</td>\n",
       "      <td>0</td>\n",
       "      <td>184.0</td>\n",
       "      <td>All Ages</td>\n",
       "    </tr>\n",
       "    <tr>\n",
       "      <th>285657</th>\n",
       "      <td>35.0</td>\n",
       "      <td>0</td>\n",
       "      <td>35.0</td>\n",
       "      <td>All Ages</td>\n",
       "    </tr>\n",
       "    <tr>\n",
       "      <th>285658</th>\n",
       "      <td>29.0</td>\n",
       "      <td>0</td>\n",
       "      <td>29.0</td>\n",
       "      <td>All Ages</td>\n",
       "    </tr>\n",
       "    <tr>\n",
       "      <th>285659</th>\n",
       "      <td>190.0</td>\n",
       "      <td>0</td>\n",
       "      <td>190.0</td>\n",
       "      <td>All Ages</td>\n",
       "    </tr>\n",
       "  </tbody>\n",
       "</table>\n",
       "<p>177842 rows × 4 columns</p>\n",
       "</div>"
      ],
      "text/plain": [
       "        Cov19Deaths  IntUnintInjury_PoisoningAdverGroup  NumberOfMentions  \\\n",
       "37260           0.0                                   0               0.0   \n",
       "37261           0.0                                   0               0.0   \n",
       "37262           9.0                                   0               9.0   \n",
       "37263          27.0                                   0              30.0   \n",
       "37264          19.0                                   0              19.0   \n",
       "...             ...                                 ...               ...   \n",
       "285655        197.0                                   0             197.0   \n",
       "285656        184.0                                   0             184.0   \n",
       "285657         35.0                                   0              35.0   \n",
       "285658         29.0                                   0              29.0   \n",
       "285659        190.0                                   0             190.0   \n",
       "\n",
       "        AgeGroup  \n",
       "37260       0-24  \n",
       "37261       0-24  \n",
       "37262       0-24  \n",
       "37263       0-24  \n",
       "37264       0-24  \n",
       "...          ...  \n",
       "285655  All Ages  \n",
       "285656  All Ages  \n",
       "285657  All Ages  \n",
       "285658  All Ages  \n",
       "285659  All Ages  \n",
       "\n",
       "[177842 rows x 4 columns]"
      ]
     },
     "execution_count": 53,
     "metadata": {},
     "output_type": "execute_result"
    }
   ],
   "source": [
    "#IntUnintInjury_PoisoningAdverGroup\n",
    "df_InjuryPoisonGroup=df_Comorbidities[['Cov19Deaths','IntUnintInjury_PoisoningAdverGroup','NumberOfMentions','AgeGroup',]].dropna()\n",
    "df_InjuryPoisonGroup"
   ]
  },
  {
   "cell_type": "markdown",
   "metadata": {},
   "source": [
    "##   REVISAMOS LAS COLUMNAS CREADAS EN EL DATAFRAME PARA SABER DE QUE TIPO VARIABLE FUERON CREADAS.\n",
    " en este caso nos dice que la columna de lesiones y envenenamiento fueron creadas como numeros enteros."
   ]
  },
  {
   "cell_type": "code",
   "execution_count": 54,
   "metadata": {},
   "outputs": [
    {
     "data": {
      "text/plain": [
       "dtype('int64')"
      ]
     },
     "execution_count": 54,
     "metadata": {},
     "output_type": "execute_result"
    }
   ],
   "source": [
    "df_InjuryPoisonGroup['IntUnintInjury_PoisoningAdverGroup'].dtype"
   ]
  },
  {
   "cell_type": "markdown",
   "metadata": {},
   "source": [
    "## AGRUPANDO LAS VARIABLES DEL DATAFRAME\n",
    "Procederemos a agrupar las variables del dataframe por medio de una variable ordinal en este caso el grupo de edad, esto para consolidar y hacerle más fácil al sistema identificar y crear la matriz, ademas de que simplifica la visualizacion del dataframe.\n"
   ]
  },
  {
   "cell_type": "code",
   "execution_count": 55,
   "metadata": {},
   "outputs": [
    {
     "data": {
      "text/html": [
       "<div>\n",
       "<style scoped>\n",
       "    .dataframe tbody tr th:only-of-type {\n",
       "        vertical-align: middle;\n",
       "    }\n",
       "\n",
       "    .dataframe tbody tr th {\n",
       "        vertical-align: top;\n",
       "    }\n",
       "\n",
       "    .dataframe thead th {\n",
       "        text-align: right;\n",
       "    }\n",
       "</style>\n",
       "<table border=\"1\" class=\"dataframe\">\n",
       "  <thead>\n",
       "    <tr style=\"text-align: right;\">\n",
       "      <th></th>\n",
       "      <th>AgeGroup</th>\n",
       "      <th>IntUnintInjury_PoisoningAdverGroup</th>\n",
       "      <th>Cov19Deaths</th>\n",
       "      <th>NumberOfMentions</th>\n",
       "    </tr>\n",
       "  </thead>\n",
       "  <tbody>\n",
       "    <tr>\n",
       "      <th>0</th>\n",
       "      <td>0-24</td>\n",
       "      <td>986</td>\n",
       "      <td>5510.0</td>\n",
       "      <td>6454.0</td>\n",
       "    </tr>\n",
       "    <tr>\n",
       "      <th>1</th>\n",
       "      <td>25-34</td>\n",
       "      <td>887</td>\n",
       "      <td>24381.0</td>\n",
       "      <td>26869.0</td>\n",
       "    </tr>\n",
       "    <tr>\n",
       "      <th>2</th>\n",
       "      <td>35-44</td>\n",
       "      <td>834</td>\n",
       "      <td>73603.0</td>\n",
       "      <td>79625.0</td>\n",
       "    </tr>\n",
       "    <tr>\n",
       "      <th>3</th>\n",
       "      <td>45-54</td>\n",
       "      <td>710</td>\n",
       "      <td>227761.0</td>\n",
       "      <td>244990.0</td>\n",
       "    </tr>\n",
       "    <tr>\n",
       "      <th>4</th>\n",
       "      <td>55-64</td>\n",
       "      <td>596</td>\n",
       "      <td>599350.0</td>\n",
       "      <td>646185.0</td>\n",
       "    </tr>\n",
       "    <tr>\n",
       "      <th>5</th>\n",
       "      <td>65-74</td>\n",
       "      <td>537</td>\n",
       "      <td>1066268.0</td>\n",
       "      <td>1148266.0</td>\n",
       "    </tr>\n",
       "    <tr>\n",
       "      <th>6</th>\n",
       "      <td>75-84</td>\n",
       "      <td>543</td>\n",
       "      <td>1276831.0</td>\n",
       "      <td>1369009.0</td>\n",
       "    </tr>\n",
       "    <tr>\n",
       "      <th>7</th>\n",
       "      <td>85+</td>\n",
       "      <td>570</td>\n",
       "      <td>1286773.0</td>\n",
       "      <td>1375643.0</td>\n",
       "    </tr>\n",
       "    <tr>\n",
       "      <th>8</th>\n",
       "      <td>All Ages</td>\n",
       "      <td>592</td>\n",
       "      <td>4741332.0</td>\n",
       "      <td>5094420.0</td>\n",
       "    </tr>\n",
       "    <tr>\n",
       "      <th>9</th>\n",
       "      <td>Not stated</td>\n",
       "      <td>1079</td>\n",
       "      <td>48.0</td>\n",
       "      <td>54.0</td>\n",
       "    </tr>\n",
       "  </tbody>\n",
       "</table>\n",
       "</div>"
      ],
      "text/plain": [
       "     AgeGroup  IntUnintInjury_PoisoningAdverGroup  Cov19Deaths  \\\n",
       "0        0-24                                 986       5510.0   \n",
       "1       25-34                                 887      24381.0   \n",
       "2       35-44                                 834      73603.0   \n",
       "3       45-54                                 710     227761.0   \n",
       "4       55-64                                 596     599350.0   \n",
       "5       65-74                                 537    1066268.0   \n",
       "6       75-84                                 543    1276831.0   \n",
       "7         85+                                 570    1286773.0   \n",
       "8    All Ages                                 592    4741332.0   \n",
       "9  Not stated                                1079         48.0   \n",
       "\n",
       "   NumberOfMentions  \n",
       "0            6454.0  \n",
       "1           26869.0  \n",
       "2           79625.0  \n",
       "3          244990.0  \n",
       "4          646185.0  \n",
       "5         1148266.0  \n",
       "6         1369009.0  \n",
       "7         1375643.0  \n",
       "8         5094420.0  \n",
       "9              54.0  "
      ]
     },
     "execution_count": 55,
     "metadata": {},
     "output_type": "execute_result"
    }
   ],
   "source": [
    "\n",
    "df_InjuryPoisonGroup1=df_Comorbidities.groupby(by=['AgeGroup']).agg({'IntUnintInjury_PoisoningAdverGroup':'sum',\n",
    "                                                                   'Cov19Deaths':'sum',\n",
    "                                                                   'NumberOfMentions':'sum'\n",
    "                                                                    }).reset_index().dropna()\n",
    "\n",
    "df_InjuryPoisonGroup1                                                                    "
   ]
  },
  {
   "cell_type": "markdown",
   "metadata": {},
   "source": [
    "## NORMALIZACION DE LA VARIABLE PRINCIPAL\n",
    "como podemos ver el numero de menciones es el numero total de veces que se encontró la enfermedad en los pacientes, es decir, es el mismo numero de pacientes, los cuales fueron clasificados por la edad, las semanas en las que fueron encontradas las comorbilidades, la periodicidad y los distitos estados de la union americana en las que se repitió dicha enfermedad en los pacientes.\n",
    "dado que son numeros extremadamente grandes, procedemos a realizar la normalizacion por el metodo de maximos y minimos, por medio de la función def, con lo cual buscamos reducir los errores que se presentan cuando los numeros grandes dominan a los más pequeños haciendolos desaparecer, en este caso definimos que lo haremos en la escala de entre 0 hasta 1 siendo 0 nada y 1 el más grande, y lo guardaremos en la columna NumberOfMentions2."
   ]
  },
  {
   "cell_type": "code",
   "execution_count": 56,
   "metadata": {},
   "outputs": [
    {
     "data": {
      "text/html": [
       "<div>\n",
       "<style scoped>\n",
       "    .dataframe tbody tr th:only-of-type {\n",
       "        vertical-align: middle;\n",
       "    }\n",
       "\n",
       "    .dataframe tbody tr th {\n",
       "        vertical-align: top;\n",
       "    }\n",
       "\n",
       "    .dataframe thead th {\n",
       "        text-align: right;\n",
       "    }\n",
       "</style>\n",
       "<table border=\"1\" class=\"dataframe\">\n",
       "  <thead>\n",
       "    <tr style=\"text-align: right;\">\n",
       "      <th></th>\n",
       "      <th>AgeGroup</th>\n",
       "      <th>IntUnintInjury_PoisoningAdverGroup</th>\n",
       "      <th>Cov19Deaths</th>\n",
       "      <th>NumberOfMentions</th>\n",
       "      <th>InjPoi</th>\n",
       "    </tr>\n",
       "  </thead>\n",
       "  <tbody>\n",
       "    <tr>\n",
       "      <th>0</th>\n",
       "      <td>0-24</td>\n",
       "      <td>986</td>\n",
       "      <td>5510.0</td>\n",
       "      <td>6454.0</td>\n",
       "      <td>0.828413</td>\n",
       "    </tr>\n",
       "    <tr>\n",
       "      <th>1</th>\n",
       "      <td>25-34</td>\n",
       "      <td>887</td>\n",
       "      <td>24381.0</td>\n",
       "      <td>26869.0</td>\n",
       "      <td>0.645756</td>\n",
       "    </tr>\n",
       "    <tr>\n",
       "      <th>2</th>\n",
       "      <td>35-44</td>\n",
       "      <td>834</td>\n",
       "      <td>73603.0</td>\n",
       "      <td>79625.0</td>\n",
       "      <td>0.547970</td>\n",
       "    </tr>\n",
       "    <tr>\n",
       "      <th>3</th>\n",
       "      <td>45-54</td>\n",
       "      <td>710</td>\n",
       "      <td>227761.0</td>\n",
       "      <td>244990.0</td>\n",
       "      <td>0.319188</td>\n",
       "    </tr>\n",
       "    <tr>\n",
       "      <th>4</th>\n",
       "      <td>55-64</td>\n",
       "      <td>596</td>\n",
       "      <td>599350.0</td>\n",
       "      <td>646185.0</td>\n",
       "      <td>0.108856</td>\n",
       "    </tr>\n",
       "    <tr>\n",
       "      <th>5</th>\n",
       "      <td>65-74</td>\n",
       "      <td>537</td>\n",
       "      <td>1066268.0</td>\n",
       "      <td>1148266.0</td>\n",
       "      <td>0.000000</td>\n",
       "    </tr>\n",
       "    <tr>\n",
       "      <th>6</th>\n",
       "      <td>75-84</td>\n",
       "      <td>543</td>\n",
       "      <td>1276831.0</td>\n",
       "      <td>1369009.0</td>\n",
       "      <td>0.011070</td>\n",
       "    </tr>\n",
       "    <tr>\n",
       "      <th>7</th>\n",
       "      <td>85+</td>\n",
       "      <td>570</td>\n",
       "      <td>1286773.0</td>\n",
       "      <td>1375643.0</td>\n",
       "      <td>0.060886</td>\n",
       "    </tr>\n",
       "    <tr>\n",
       "      <th>8</th>\n",
       "      <td>All Ages</td>\n",
       "      <td>592</td>\n",
       "      <td>4741332.0</td>\n",
       "      <td>5094420.0</td>\n",
       "      <td>0.101476</td>\n",
       "    </tr>\n",
       "    <tr>\n",
       "      <th>9</th>\n",
       "      <td>Not stated</td>\n",
       "      <td>1079</td>\n",
       "      <td>48.0</td>\n",
       "      <td>54.0</td>\n",
       "      <td>1.000000</td>\n",
       "    </tr>\n",
       "  </tbody>\n",
       "</table>\n",
       "</div>"
      ],
      "text/plain": [
       "     AgeGroup  IntUnintInjury_PoisoningAdverGroup  Cov19Deaths  \\\n",
       "0        0-24                                 986       5510.0   \n",
       "1       25-34                                 887      24381.0   \n",
       "2       35-44                                 834      73603.0   \n",
       "3       45-54                                 710     227761.0   \n",
       "4       55-64                                 596     599350.0   \n",
       "5       65-74                                 537    1066268.0   \n",
       "6       75-84                                 543    1276831.0   \n",
       "7         85+                                 570    1286773.0   \n",
       "8    All Ages                                 592    4741332.0   \n",
       "9  Not stated                                1079         48.0   \n",
       "\n",
       "   NumberOfMentions    InjPoi  \n",
       "0            6454.0  0.828413  \n",
       "1           26869.0  0.645756  \n",
       "2           79625.0  0.547970  \n",
       "3          244990.0  0.319188  \n",
       "4          646185.0  0.108856  \n",
       "5         1148266.0  0.000000  \n",
       "6         1369009.0  0.011070  \n",
       "7         1375643.0  0.060886  \n",
       "8         5094420.0  0.101476  \n",
       "9              54.0  1.000000  "
      ]
     },
     "execution_count": 56,
     "metadata": {},
     "output_type": "execute_result"
    }
   ],
   "source": [
    "\n",
    "def normalize_series(s):\n",
    "    s=df_InjuryPoisonGroup1['IntUnintInjury_PoisoningAdverGroup']\n",
    "    return (s - s.min()) / (s.max() - s.min())\n",
    "\n",
    "\n",
    "df_InjuryPoisonGroup1['InjPoi'] = normalize_series(df_InjuryPoisonGroup1['IntUnintInjury_PoisoningAdverGroup'])\n",
    "df_InjuryPoisonGroup1 #Resultado de la normalizaion de maximos y minimos en la columna NumberOfMentions2"
   ]
  },
  {
   "cell_type": "markdown",
   "metadata": {},
   "source": [
    "## Grafica de los intoxicados que murieron por covid\n",
    "En el siguiente grafico de barras podemos ver las personas que el numero de personas por edad, que ademas de presentar las lesiones y envenamiento como comorbilidades murieron por covid, de acuerdo a su edad."
   ]
  },
  {
   "cell_type": "code",
   "execution_count": 57,
   "metadata": {},
   "outputs": [
    {
     "data": {
      "image/png": "[encoded data removed]",
      "text/plain": [
       "<Figure size 432x288 with 1 Axes>"
      ]
     },
     "metadata": {
      "needs_background": "light"
     },
     "output_type": "display_data"
    }
   ],
   "source": [
    "import matplotlib.pyplot as plt # paquete interno data visualization \n",
    "\n",
    "df_InjuryPoisonGroup1.plot(kind='bar',x='AgeGroup',y='Cov19Deaths')\n",
    "plt.title('Grupo de edades de personas que presentaron de lesiones y envenenamiento con Covid')\n",
    "plt.xlabel('enveneados y lesionados ')\n",
    "plt.ylabel('Numero de Muertos')\n",
    "plt.title('')\n",
    "#plt.annotate(text='%',xy=(x,y))\n",
    "plt.show()\n"
   ]
  },
  {
   "cell_type": "markdown",
   "metadata": {},
   "source": [
    "# CREANDO LA MATRIZ\n",
    "por medio de la siguiente instruccion de la libreria patsy, procedemos a crear la matriz con la función dmatrices, de acuerdo a los lineamientos exigidos por el **STATS MODEL**, en la cual definimos:\n",
    "\n",
    "Variable dependiente y ==> Ho ==> Cov19Deaths\n",
    "Variable independiente X ==> Ha ==> NumberOfMentions, \n",
    "Variable ubicadora de grupo==> IntUnintInjury_PoisoningAdverGroup\n",
    "Variable Ordinal ==> AgeGroup # Con la cual se crea la matriz\n",
    "data = df_InjuryPoisonGroup # de donde debe tomar los datos\n",
    "return_type dataframe # que tipo de objeto debe retornar"
   ]
  },
  {
   "cell_type": "code",
   "execution_count": 58,
   "metadata": {},
   "outputs": [],
   "source": [
    "y, X = dmatrices('Cov19Deaths ~ InjPoi',data=df_InjuryPoisonGroup1, return_type='dataframe')"
   ]
  },
  {
   "cell_type": "markdown",
   "metadata": {},
   "source": [
    "# SOLICITANDO LOS RESULTADOS\n",
    "por medio de la variable **mod** le decimos que nos traiga los metodos integrados en la **API** **del STATS MODEL** en este **Ordinary Least Squares(OLS)**\n",
    "con la variable **res** le decimos que nos muestre en la respuesta con el mod fit() que es la tabla de resultados que podemos apreciar.\n",
    "con **print** imprimimos la tabla resumida. \n",
    " "
   ]
  },
  {
   "cell_type": "code",
   "execution_count": 59,
   "metadata": {},
   "outputs": [
    {
     "name": "stdout",
     "output_type": "stream",
     "text": [
      "                            OLS Regression Results                            \n",
      "==============================================================================\n",
      "Dep. Variable:            Cov19Deaths   R-squared:                       0.297\n",
      "Model:                            OLS   Adj. R-squared:                  0.209\n",
      "Method:                 Least Squares   F-statistic:                     3.377\n",
      "Date:                Tue, 23 Nov 2021   Prob (F-statistic):              0.103\n",
      "Time:                        00:43:55   Log-Likelihood:                -153.70\n",
      "No. Observations:                  10   AIC:                             311.4\n",
      "Df Residuals:                       8   BIC:                             312.0\n",
      "Df Model:                           1                                         \n",
      "Covariance Type:            nonrobust                                         \n",
      "==============================================================================\n",
      "                 coef    std err          t      P>|t|      [0.025      0.975]\n",
      "------------------------------------------------------------------------------\n",
      "Intercept   1.703e+06   5.84e+05      2.917      0.019    3.57e+05    3.05e+06\n",
      "InjPoi     -2.133e+06   1.16e+06     -1.838      0.103   -4.81e+06    5.43e+05\n",
      "==============================================================================\n",
      "Omnibus:                       21.171   Durbin-Watson:                   1.594\n",
      "Prob(Omnibus):                  0.000   Jarque-Bera (JB):               13.347\n",
      "Skew:                           2.189   Prob(JB):                      0.00126\n",
      "Kurtosis:                       6.586   Cond. No.                         3.29\n",
      "==============================================================================\n",
      "\n",
      "Notes:\n",
      "[1] Standard Errors assume that the covariance matrix of the errors is correctly specified.\n"
     ]
    },
    {
     "name": "stderr",
     "output_type": "stream",
     "text": [
      "C:\\Users\\PC\\AppData\\Local\\Programs\\Python\\Python39\\lib\\site-packages\\scipy\\stats\\stats.py:1541: UserWarning: kurtosistest only valid for n>=20 ... continuing anyway, n=10\n",
      "  warnings.warn(\"kurtosistest only valid for n>=20 ... continuing \"\n"
     ]
    }
   ],
   "source": [
    "mod1 = sm.OLS(y, X)\n",
    "res1 = mod1.fit()\n",
    "print(res1.summary())"
   ]
  },
  {
   "cell_type": "markdown",
   "metadata": {},
   "source": [
    "## ANALIZANDO LOS RESULTADOS.\n",
    "\n",
    "Como podemos visualizar en la tabla de resultados para la relación existente entre Cov19Deaths ~ IntUnintInjury_PoisoningAdverGroup + NumberOfMentions obtuvimos un minimo cuadrado R-squared del 98.0% por lo que si se cumple la condicion H0: B1=0, que exige el modelo, de modo que hemos podido comporobar que si hay ciertos envenamientos y lesiones que influyeron en la muerte por covid de los pacientes, es decir están altamente relacionadas.\n",
    "\n",
    "## OBSERVACIONES.\n",
    "\n",
    "Una vez definido que esta comorbilidad si es una de las variables que influyeron en la muerte por covid de los pacientes de la muestra, podemos integrar esta variable en el modelo de **MACHINE LEARNING**"
   ]
  },
  {
   "cell_type": "markdown",
   "metadata": {},
   "source": [
    "## GRAFICA DE LA REGRESION\n",
    "como lo mencionamos anteriormente, con la variable numero de menciones normalizada procedemos a realizar la grafica de la regresión OLS.\n"
   ]
  },
  {
   "cell_type": "code",
   "execution_count": 60,
   "metadata": {},
   "outputs": [
    {
     "data": {
      "image/png": "[encoded data removed]",
      "text/plain": [
       "<Figure size 432x288 with 1 Axes>"
      ]
     },
     "execution_count": 60,
     "metadata": {},
     "output_type": "execute_result"
    },
    {
     "data": {
      "image/png": "[encoded data removed]",
      "text/plain": [
       "<Figure size 432x288 with 1 Axes>"
      ]
     },
     "metadata": {
      "needs_background": "light"
     },
     "output_type": "display_data"
    }
   ],
   "source": [
    "sm.graphics.plot_partregress('Cov19Deaths','InjPoi','AgeGroup',data=df_InjuryPoisonGroup1, obs_labels=True)"
   ]
  },
  {
   "cell_type": "markdown",
   "metadata": {},
   "source": [
    "## VISUALIZACION DE LA REGRESION\n",
    "Como podemos ver en este caso B1 está muy cercano a 0, y los puntos hacen parte de la regresión, por lo que solamente un punto no está especificado en el mismo, por lo que la regresión, quedó bien realizada. \n"
   ]
  },
  {
   "cell_type": "markdown",
   "metadata": {},
   "source": [
    "## SIMULACION\n",
    "Procedemos a realizarle difentes test con los cuales buscamos saber si en el proceso de entrenamiento **MACHINE LEARNING**  la maquina se encuentre en dificultades para encontrar la regresion."
   ]
  },
  {
   "cell_type": "markdown",
   "metadata": {},
   "source": [
    "import numpy as np # libreria para crear matrices numericas\n",
    "\n",
    "nsample = len(df_Comorbidities) # numero n de muestras que debe tener y para generar la matrix\n",
    "sig = 0.5 # Escala de aumento o decremento \n",
    "x = np.linspace(0, 20, nsample) ## variable en x de la matrix\n",
    "X = np.column_stack((x, np.cosh(x), (x-5)**2, np.ones(nsample))) # imagen de la verdadera variable X de matriz dmatrices\n",
    "#X = np.column_stack((x, np.tan(x), (x-0)**2, np.ones(nsample)))\n",
    "beta = [0.5, 0.5, -0.02, 5.] # movimientos escalares y dimensionales\n",
    "y_true = np.dot(X, beta) # comportamiento esperado de la varialble Ficticia Y\n",
    "y = y_true + sig * np.random.normal(size=nsample) # compoartamiento esperado de la variable y real.\n"
   ]
  },
  {
   "cell_type": "markdown",
   "metadata": {},
   "source": [
    "from statsmodels.sandbox.regression.predstd import wls_prediction_std\n",
    "\n",
    "prstd, iv_l, iv_u = wls_prediction_std(res1) # predictores\n",
    "\n",
    "fig, ax = plt.subplots(figsize=(8,6)) # tamaño del plot\n",
    "\n",
    "ax.plot(x, y, 'o', label=\"data\") # datos de la data real\n",
    "ax.plot(x, y_true, 'g-', label=\"True\") # comportamiento esperado\n",
    "ax.plot(x, res1.fittedvalues, 'r--.', label=\"OLS\") # predictor ols\n",
    "ax.plot(x, iv_u, 'r--') # generamos un rango visible coloreando en rojo la variable x por debajo de la variable real\n",
    "ax.plot(x, iv_l, 'r--') # generamos un rango visible coloreando en rojo la variable x  por encima de la variable real \n",
    "ax.legend(loc='best'); # le solicitamos que nuestre la ubicacion optima.\n"
   ]
  },
  {
   "cell_type": "markdown",
   "metadata": {},
   "source": [
    "## LA ESTIMACION OLS \n",
    "no tuvo en cuenta el punto AllAge, y estimó que seguiria derecho, por lo que realizaremos una predicción, para saber si es posible retome el punto pendiente. "
   ]
  },
  {
   "cell_type": "markdown",
   "metadata": {},
   "source": [
    "res2 = sm.OLS(y, X).fit()\n",
    "prstd, iv_l, iv_u = wls_prediction_std(res2)\n",
    "\n",
    "fig, ax = plt.subplots(figsize=(8,6))\n",
    "\n",
    "ax.plot(x, y, 'o', label=\"Data\")\n",
    "ax.plot(x, y_true, 'b-', label=\"True\")\n",
    "ax.plot(x, res2.fittedvalues, 'r--.', label=\"Predicted\")\n",
    "ax.plot(x, iv_u, 'r--')\n",
    "ax.plot(x, iv_l, 'r--')\n",
    "legend = ax.legend(loc=\"best\")"
   ]
  },
  {
   "cell_type": "markdown",
   "metadata": {},
   "source": [
    "## LA PREDICCION COMPARATIVA\n",
    "al realizar la prediccion comparativa entre OLS Y WLS podemos ver que la parte de heterodasticidad si fue encontrada por el simulador, por lo que tendremos en cuenta este dato, en las pruebas de  **MACHINE LEARNING** "
   ]
  },
  {
   "cell_type": "markdown",
   "metadata": {},
   "source": [
    "## HOMOGENEIDAD DEL SISTEMA\n",
    "sabremos que tan homogeneo es el sistema en general si alguna de las otras variables presenta R-squared diferente del primero que fué 98%, o si alguna de las otras variables o comorbilidades presenta variaciaciones con respecto de la primera"
   ]
  },
  {
   "cell_type": "markdown",
   "metadata": {},
   "source": [
    "sm.graphics.plot_partregress('Cov19Deaths','IntUnintInjury_PoisoningAdverGroup','AgeGroup',data=df_InjuryPoisonGroup1, obs_labels=True)\n"
   ]
  },
  {
   "cell_type": "code",
   "execution_count": 61,
   "metadata": {},
   "outputs": [],
   "source": [
    "df_Alzheimergroup=df_Comorbidities[['Cov19Deaths','Alzheimer_DiseaseGroup','AgeGroup']].dropna()"
   ]
  },
  {
   "cell_type": "code",
   "execution_count": 62,
   "metadata": {},
   "outputs": [
    {
     "data": {
      "text/html": [
       "<div>\n",
       "<style scoped>\n",
       "    .dataframe tbody tr th:only-of-type {\n",
       "        vertical-align: middle;\n",
       "    }\n",
       "\n",
       "    .dataframe tbody tr th {\n",
       "        vertical-align: top;\n",
       "    }\n",
       "\n",
       "    .dataframe thead th {\n",
       "        text-align: right;\n",
       "    }\n",
       "</style>\n",
       "<table border=\"1\" class=\"dataframe\">\n",
       "  <thead>\n",
       "    <tr style=\"text-align: right;\">\n",
       "      <th></th>\n",
       "      <th>AgeGroup</th>\n",
       "      <th>Alzheimer_DiseaseGroup</th>\n",
       "      <th>Cov19Deaths</th>\n",
       "    </tr>\n",
       "  </thead>\n",
       "  <tbody>\n",
       "    <tr>\n",
       "      <th>0</th>\n",
       "      <td>0-24</td>\n",
       "      <td>1080</td>\n",
       "      <td>5510.0</td>\n",
       "    </tr>\n",
       "    <tr>\n",
       "      <th>1</th>\n",
       "      <td>25-34</td>\n",
       "      <td>1080</td>\n",
       "      <td>24381.0</td>\n",
       "    </tr>\n",
       "    <tr>\n",
       "      <th>2</th>\n",
       "      <td>35-44</td>\n",
       "      <td>1077</td>\n",
       "      <td>73603.0</td>\n",
       "    </tr>\n",
       "    <tr>\n",
       "      <th>3</th>\n",
       "      <td>45-54</td>\n",
       "      <td>1061</td>\n",
       "      <td>227761.0</td>\n",
       "    </tr>\n",
       "    <tr>\n",
       "      <th>4</th>\n",
       "      <td>55-64</td>\n",
       "      <td>963</td>\n",
       "      <td>599350.0</td>\n",
       "    </tr>\n",
       "    <tr>\n",
       "      <th>5</th>\n",
       "      <td>65-74</td>\n",
       "      <td>660</td>\n",
       "      <td>1066268.0</td>\n",
       "    </tr>\n",
       "    <tr>\n",
       "      <th>6</th>\n",
       "      <td>75-84</td>\n",
       "      <td>579</td>\n",
       "      <td>1276831.0</td>\n",
       "    </tr>\n",
       "    <tr>\n",
       "      <th>7</th>\n",
       "      <td>85+</td>\n",
       "      <td>629</td>\n",
       "      <td>1286773.0</td>\n",
       "    </tr>\n",
       "    <tr>\n",
       "      <th>8</th>\n",
       "      <td>All Ages</td>\n",
       "      <td>677</td>\n",
       "      <td>4741332.0</td>\n",
       "    </tr>\n",
       "    <tr>\n",
       "      <th>9</th>\n",
       "      <td>Not stated</td>\n",
       "      <td>1080</td>\n",
       "      <td>48.0</td>\n",
       "    </tr>\n",
       "  </tbody>\n",
       "</table>\n",
       "</div>"
      ],
      "text/plain": [
       "     AgeGroup  Alzheimer_DiseaseGroup  Cov19Deaths\n",
       "0        0-24                    1080       5510.0\n",
       "1       25-34                    1080      24381.0\n",
       "2       35-44                    1077      73603.0\n",
       "3       45-54                    1061     227761.0\n",
       "4       55-64                     963     599350.0\n",
       "5       65-74                     660    1066268.0\n",
       "6       75-84                     579    1276831.0\n",
       "7         85+                     629    1286773.0\n",
       "8    All Ages                     677    4741332.0\n",
       "9  Not stated                    1080         48.0"
      ]
     },
     "execution_count": 62,
     "metadata": {},
     "output_type": "execute_result"
    }
   ],
   "source": [
    "df_Alzheimergroup1=df_Alzheimergroup.groupby(by=['AgeGroup']).agg({'Alzheimer_DiseaseGroup':'sum',\n",
    "                                                                   'Cov19Deaths':'sum',\n",
    "                                                                   \n",
    "                                                                    }).reset_index().dropna()\n",
    "#df_Alzheimergroup1['Alzheimer_DiseaseGroupNorm']=df_Alzheimergroup1['Alzheimer_DiseaseGroup']\n",
    "df_Alzheimergroup1"
   ]
  },
  {
   "cell_type": "code",
   "execution_count": 63,
   "metadata": {},
   "outputs": [],
   "source": [
    "def normalize_series(s):\n",
    "    s=df_Alzheimergroup1['Alzheimer_DiseaseGroup']\n",
    "    return (s - s.min()) / (s.max() - s.min())\n",
    "\n",
    "\n",
    "df_Alzheimergroup1['AlzhDisea'] = normalize_series(df_Alzheimergroup1['Alzheimer_DiseaseGroup'])\n"
   ]
  },
  {
   "cell_type": "code",
   "execution_count": 64,
   "metadata": {},
   "outputs": [],
   "source": [
    "y, X = dmatrices('Cov19Deaths ~ AlzhDisea',data=df_Alzheimergroup1, return_type='dataframe')"
   ]
  },
  {
   "cell_type": "code",
   "execution_count": 65,
   "metadata": {},
   "outputs": [
    {
     "data": {
      "text/html": [
       "<div>\n",
       "<style scoped>\n",
       "    .dataframe tbody tr th:only-of-type {\n",
       "        vertical-align: middle;\n",
       "    }\n",
       "\n",
       "    .dataframe tbody tr th {\n",
       "        vertical-align: top;\n",
       "    }\n",
       "\n",
       "    .dataframe thead th {\n",
       "        text-align: right;\n",
       "    }\n",
       "</style>\n",
       "<table border=\"1\" class=\"dataframe\">\n",
       "  <thead>\n",
       "    <tr style=\"text-align: right;\">\n",
       "      <th></th>\n",
       "      <th>Cov19Deaths</th>\n",
       "    </tr>\n",
       "  </thead>\n",
       "  <tbody>\n",
       "    <tr>\n",
       "      <th>0</th>\n",
       "      <td>5510.0</td>\n",
       "    </tr>\n",
       "    <tr>\n",
       "      <th>1</th>\n",
       "      <td>24381.0</td>\n",
       "    </tr>\n",
       "    <tr>\n",
       "      <th>2</th>\n",
       "      <td>73603.0</td>\n",
       "    </tr>\n",
       "    <tr>\n",
       "      <th>3</th>\n",
       "      <td>227761.0</td>\n",
       "    </tr>\n",
       "    <tr>\n",
       "      <th>4</th>\n",
       "      <td>599350.0</td>\n",
       "    </tr>\n",
       "    <tr>\n",
       "      <th>5</th>\n",
       "      <td>1066268.0</td>\n",
       "    </tr>\n",
       "    <tr>\n",
       "      <th>6</th>\n",
       "      <td>1276831.0</td>\n",
       "    </tr>\n",
       "    <tr>\n",
       "      <th>7</th>\n",
       "      <td>1286773.0</td>\n",
       "    </tr>\n",
       "    <tr>\n",
       "      <th>8</th>\n",
       "      <td>4741332.0</td>\n",
       "    </tr>\n",
       "    <tr>\n",
       "      <th>9</th>\n",
       "      <td>48.0</td>\n",
       "    </tr>\n",
       "  </tbody>\n",
       "</table>\n",
       "</div>"
      ],
      "text/plain": [
       "   Cov19Deaths\n",
       "0       5510.0\n",
       "1      24381.0\n",
       "2      73603.0\n",
       "3     227761.0\n",
       "4     599350.0\n",
       "5    1066268.0\n",
       "6    1276831.0\n",
       "7    1286773.0\n",
       "8    4741332.0\n",
       "9         48.0"
      ]
     },
     "execution_count": 65,
     "metadata": {},
     "output_type": "execute_result"
    }
   ],
   "source": [
    "y"
   ]
  },
  {
   "cell_type": "code",
   "execution_count": 66,
   "metadata": {},
   "outputs": [
    {
     "data": {
      "text/html": [
       "<div>\n",
       "<style scoped>\n",
       "    .dataframe tbody tr th:only-of-type {\n",
       "        vertical-align: middle;\n",
       "    }\n",
       "\n",
       "    .dataframe tbody tr th {\n",
       "        vertical-align: top;\n",
       "    }\n",
       "\n",
       "    .dataframe thead th {\n",
       "        text-align: right;\n",
       "    }\n",
       "</style>\n",
       "<table border=\"1\" class=\"dataframe\">\n",
       "  <thead>\n",
       "    <tr style=\"text-align: right;\">\n",
       "      <th></th>\n",
       "      <th>Intercept</th>\n",
       "      <th>AlzhDisea</th>\n",
       "    </tr>\n",
       "  </thead>\n",
       "  <tbody>\n",
       "    <tr>\n",
       "      <th>0</th>\n",
       "      <td>1.0</td>\n",
       "      <td>1.000000</td>\n",
       "    </tr>\n",
       "    <tr>\n",
       "      <th>1</th>\n",
       "      <td>1.0</td>\n",
       "      <td>1.000000</td>\n",
       "    </tr>\n",
       "    <tr>\n",
       "      <th>2</th>\n",
       "      <td>1.0</td>\n",
       "      <td>0.994012</td>\n",
       "    </tr>\n",
       "    <tr>\n",
       "      <th>3</th>\n",
       "      <td>1.0</td>\n",
       "      <td>0.962076</td>\n",
       "    </tr>\n",
       "    <tr>\n",
       "      <th>4</th>\n",
       "      <td>1.0</td>\n",
       "      <td>0.766467</td>\n",
       "    </tr>\n",
       "    <tr>\n",
       "      <th>5</th>\n",
       "      <td>1.0</td>\n",
       "      <td>0.161677</td>\n",
       "    </tr>\n",
       "    <tr>\n",
       "      <th>6</th>\n",
       "      <td>1.0</td>\n",
       "      <td>0.000000</td>\n",
       "    </tr>\n",
       "    <tr>\n",
       "      <th>7</th>\n",
       "      <td>1.0</td>\n",
       "      <td>0.099800</td>\n",
       "    </tr>\n",
       "    <tr>\n",
       "      <th>8</th>\n",
       "      <td>1.0</td>\n",
       "      <td>0.195609</td>\n",
       "    </tr>\n",
       "    <tr>\n",
       "      <th>9</th>\n",
       "      <td>1.0</td>\n",
       "      <td>1.000000</td>\n",
       "    </tr>\n",
       "  </tbody>\n",
       "</table>\n",
       "</div>"
      ],
      "text/plain": [
       "   Intercept  AlzhDisea\n",
       "0        1.0   1.000000\n",
       "1        1.0   1.000000\n",
       "2        1.0   0.994012\n",
       "3        1.0   0.962076\n",
       "4        1.0   0.766467\n",
       "5        1.0   0.161677\n",
       "6        1.0   0.000000\n",
       "7        1.0   0.099800\n",
       "8        1.0   0.195609\n",
       "9        1.0   1.000000"
      ]
     },
     "execution_count": 66,
     "metadata": {},
     "output_type": "execute_result"
    }
   ],
   "source": [
    "X"
   ]
  },
  {
   "cell_type": "code",
   "execution_count": 67,
   "metadata": {},
   "outputs": [
    {
     "name": "stdout",
     "output_type": "stream",
     "text": [
      "                            OLS Regression Results                            \n",
      "==============================================================================\n",
      "Dep. Variable:            Cov19Deaths   R-squared:                       0.426\n",
      "Model:                            OLS   Adj. R-squared:                  0.354\n",
      "Method:                 Least Squares   F-statistic:                     5.941\n",
      "Date:                Tue, 23 Nov 2021   Prob (F-statistic):             0.0407\n",
      "Time:                        00:43:58   Log-Likelihood:                -152.69\n",
      "No. Observations:                  10   AIC:                             309.4\n",
      "Df Residuals:                       8   BIC:                             310.0\n",
      "Df Model:                           1                                         \n",
      "Covariance Type:            nonrobust                                         \n",
      "==============================================================================\n",
      "                 coef    std err          t      P>|t|      [0.025      0.975]\n",
      "------------------------------------------------------------------------------\n",
      "Intercept   2.245e+06   6.52e+05      3.444      0.009    7.42e+05    3.75e+06\n",
      "AlzhDisea  -2.128e+06   8.73e+05     -2.437      0.041   -4.14e+06   -1.15e+05\n",
      "==============================================================================\n",
      "Omnibus:                       19.660   Durbin-Watson:                   2.176\n",
      "Prob(Omnibus):                  0.000   Jarque-Bera (JB):               11.902\n",
      "Skew:                           2.056   Prob(JB):                      0.00260\n",
      "Kurtosis:                       6.415   Cond. No.                         3.42\n",
      "==============================================================================\n",
      "\n",
      "Notes:\n",
      "[1] Standard Errors assume that the covariance matrix of the errors is correctly specified.\n"
     ]
    },
    {
     "name": "stderr",
     "output_type": "stream",
     "text": [
      "C:\\Users\\PC\\AppData\\Local\\Programs\\Python\\Python39\\lib\\site-packages\\scipy\\stats\\stats.py:1541: UserWarning: kurtosistest only valid for n>=20 ... continuing anyway, n=10\n",
      "  warnings.warn(\"kurtosistest only valid for n>=20 ... continuing \"\n"
     ]
    }
   ],
   "source": [
    "mod3 = sm.OLS(y, X)\n",
    "res3 = mod3.fit()\n",
    "print(res3.summary())"
   ]
  },
  {
   "cell_type": "markdown",
   "metadata": {},
   "source": [
    "Statsmodel Relacion de fallecimientos por lugar"
   ]
  },
  {
   "cell_type": "code",
   "execution_count": 68,
   "metadata": {},
   "outputs": [
    {
     "name": "stdout",
     "output_type": "stream",
     "text": [
      "0.42615661318550824\n"
     ]
    }
   ],
   "source": [
    "print(res3.rsquared)\n",
    "#print('R2: ', results.rsquared)"
   ]
  },
  {
   "cell_type": "code",
   "execution_count": 69,
   "metadata": {},
   "outputs": [],
   "source": [
    "df_Circ_DiseGroup=df_Comorbidities[['Cov19Deaths','Circulatory_DiseasesGroup','NumberOfMentions','AgeGroup']].dropna()"
   ]
  },
  {
   "cell_type": "code",
   "execution_count": 70,
   "metadata": {},
   "outputs": [
    {
     "data": {
      "text/html": [
       "<div>\n",
       "<style scoped>\n",
       "    .dataframe tbody tr th:only-of-type {\n",
       "        vertical-align: middle;\n",
       "    }\n",
       "\n",
       "    .dataframe tbody tr th {\n",
       "        vertical-align: top;\n",
       "    }\n",
       "\n",
       "    .dataframe thead th {\n",
       "        text-align: right;\n",
       "    }\n",
       "</style>\n",
       "<table border=\"1\" class=\"dataframe\">\n",
       "  <thead>\n",
       "    <tr style=\"text-align: right;\">\n",
       "      <th></th>\n",
       "      <th>AgeGroup</th>\n",
       "      <th>Circulatory_DiseasesGroup</th>\n",
       "      <th>Cov19Deaths</th>\n",
       "    </tr>\n",
       "  </thead>\n",
       "  <tbody>\n",
       "    <tr>\n",
       "      <th>0</th>\n",
       "      <td>0-24</td>\n",
       "      <td>7164</td>\n",
       "      <td>5510.0</td>\n",
       "    </tr>\n",
       "    <tr>\n",
       "      <th>1</th>\n",
       "      <td>25-34</td>\n",
       "      <td>6463</td>\n",
       "      <td>24381.0</td>\n",
       "    </tr>\n",
       "    <tr>\n",
       "      <th>2</th>\n",
       "      <td>35-44</td>\n",
       "      <td>5427</td>\n",
       "      <td>73603.0</td>\n",
       "    </tr>\n",
       "    <tr>\n",
       "      <th>3</th>\n",
       "      <td>45-54</td>\n",
       "      <td>4251</td>\n",
       "      <td>227761.0</td>\n",
       "    </tr>\n",
       "    <tr>\n",
       "      <th>4</th>\n",
       "      <td>55-64</td>\n",
       "      <td>3960</td>\n",
       "      <td>599350.0</td>\n",
       "    </tr>\n",
       "    <tr>\n",
       "      <th>5</th>\n",
       "      <td>65-74</td>\n",
       "      <td>4195</td>\n",
       "      <td>1066268.0</td>\n",
       "    </tr>\n",
       "    <tr>\n",
       "      <th>6</th>\n",
       "      <td>75-84</td>\n",
       "      <td>4432</td>\n",
       "      <td>1276831.0</td>\n",
       "    </tr>\n",
       "    <tr>\n",
       "      <th>7</th>\n",
       "      <td>85+</td>\n",
       "      <td>4489</td>\n",
       "      <td>1286773.0</td>\n",
       "    </tr>\n",
       "    <tr>\n",
       "      <th>8</th>\n",
       "      <td>All Ages</td>\n",
       "      <td>5679</td>\n",
       "      <td>4741332.0</td>\n",
       "    </tr>\n",
       "    <tr>\n",
       "      <th>9</th>\n",
       "      <td>Not stated</td>\n",
       "      <td>7551</td>\n",
       "      <td>48.0</td>\n",
       "    </tr>\n",
       "  </tbody>\n",
       "</table>\n",
       "</div>"
      ],
      "text/plain": [
       "     AgeGroup  Circulatory_DiseasesGroup  Cov19Deaths\n",
       "0        0-24                       7164       5510.0\n",
       "1       25-34                       6463      24381.0\n",
       "2       35-44                       5427      73603.0\n",
       "3       45-54                       4251     227761.0\n",
       "4       55-64                       3960     599350.0\n",
       "5       65-74                       4195    1066268.0\n",
       "6       75-84                       4432    1276831.0\n",
       "7         85+                       4489    1286773.0\n",
       "8    All Ages                       5679    4741332.0\n",
       "9  Not stated                       7551         48.0"
      ]
     },
     "execution_count": 70,
     "metadata": {},
     "output_type": "execute_result"
    }
   ],
   "source": [
    "df_Circ_DiseGroup1=df_Circ_DiseGroup.groupby(by=['AgeGroup']).agg({'Circulatory_DiseasesGroup':'sum',\n",
    "                                                                   'Cov19Deaths':'sum',\n",
    "                                                                  # 'NumberOfMentions':'sum'\n",
    "                                                                    }).reset_index().dropna()\n",
    "#df_InjuryPoisonGroup1['InjuryPoisonNorm']=df_InjuryPoisonGroup1['IntUnintInjury_PoisoningAdverGroup']\n",
    "df_Circ_DiseGroup1"
   ]
  },
  {
   "cell_type": "code",
   "execution_count": 71,
   "metadata": {},
   "outputs": [],
   "source": [
    "def normalize_series(s):\n",
    "    s=df_Circ_DiseGroup1['Circulatory_DiseasesGroup']\n",
    "    return (s - s.min()) / (s.max() - s.min())\n",
    "\n",
    "\n",
    "df_Circ_DiseGroup1['CircDisea'] = normalize_series(df_Circ_DiseGroup1['Circulatory_DiseasesGroup'])\n"
   ]
  },
  {
   "cell_type": "code",
   "execution_count": 72,
   "metadata": {},
   "outputs": [],
   "source": [
    "y, X = dmatrices('Cov19Deaths ~ CircDisea',data=df_Circ_DiseGroup1, return_type='dataframe')"
   ]
  },
  {
   "cell_type": "code",
   "execution_count": 73,
   "metadata": {},
   "outputs": [
    {
     "name": "stdout",
     "output_type": "stream",
     "text": [
      "                            OLS Regression Results                            \n",
      "==============================================================================\n",
      "Dep. Variable:            Cov19Deaths   R-squared:                       0.033\n",
      "Model:                            OLS   Adj. R-squared:                 -0.088\n",
      "Method:                 Least Squares   F-statistic:                    0.2732\n",
      "Date:                Tue, 23 Nov 2021   Prob (F-statistic):              0.615\n",
      "Time:                        00:43:59   Log-Likelihood:                -155.30\n",
      "No. Observations:                  10   AIC:                             314.6\n",
      "Df Residuals:                       8   BIC:                             315.2\n",
      "Df Model:                           1                                         \n",
      "Covariance Type:            nonrobust                                         \n",
      "==============================================================================\n",
      "                 coef    std err          t      P>|t|      [0.025      0.975]\n",
      "------------------------------------------------------------------------------\n",
      "Intercept   1.209e+06   7.15e+05      1.692      0.129   -4.39e+05    2.86e+06\n",
      "CircDisea  -7.151e+05   1.37e+06     -0.523      0.615   -3.87e+06    2.44e+06\n",
      "==============================================================================\n",
      "Omnibus:                       23.025   Durbin-Watson:                   1.838\n",
      "Prob(Omnibus):                  0.000   Jarque-Bera (JB):               15.428\n",
      "Skew:                           2.306   Prob(JB):                     0.000446\n",
      "Kurtosis:                       6.969   Cond. No.                         3.37\n",
      "==============================================================================\n",
      "\n",
      "Notes:\n",
      "[1] Standard Errors assume that the covariance matrix of the errors is correctly specified.\n"
     ]
    },
    {
     "name": "stderr",
     "output_type": "stream",
     "text": [
      "C:\\Users\\PC\\AppData\\Local\\Programs\\Python\\Python39\\lib\\site-packages\\scipy\\stats\\stats.py:1541: UserWarning: kurtosistest only valid for n>=20 ... continuing anyway, n=10\n",
      "  warnings.warn(\"kurtosistest only valid for n>=20 ... continuing \"\n"
     ]
    }
   ],
   "source": [
    "mod4 = sm.OLS(y, X)\n",
    "res4 = mod4.fit()\n",
    "print(res4.summary())"
   ]
  },
  {
   "cell_type": "code",
   "execution_count": 74,
   "metadata": {},
   "outputs": [],
   "source": [
    "df_SarsCOv19Group=df_Comorbidities[['Cov19Deaths','SarsCOv19Group','NumberOfMentions','AgeGroup']].dropna()"
   ]
  },
  {
   "cell_type": "code",
   "execution_count": 75,
   "metadata": {},
   "outputs": [],
   "source": [
    "df_SarsCOv19Group1=df_SarsCOv19Group.groupby(by=['AgeGroup']).agg({'SarsCOv19Group':'sum',\n",
    "                                                                   'Cov19Deaths':'sum',\n",
    "                                                                  # 'NumberOfMentions':'sum'\n",
    "                                                                    }).reset_index().dropna()\n",
    "#df_InjuryPoisonGroup1['InjuryPoisonNorm']=df_InjuryPoisonGroup1['IntUnintInjury_PoisoningAdverGroup']\n"
   ]
  },
  {
   "cell_type": "code",
   "execution_count": 76,
   "metadata": {},
   "outputs": [],
   "source": [
    "def normalize_series(s):\n",
    "    s=df_SarsCOv19Group1['SarsCOv19Group']\n",
    "    return (s - s.min()) / (s.max() - s.min())\n",
    "\n",
    "\n",
    "df_SarsCOv19Group1['SarsVariant'] = normalize_series(df_SarsCOv19Group1['SarsCOv19Group'])\n"
   ]
  },
  {
   "cell_type": "code",
   "execution_count": 77,
   "metadata": {},
   "outputs": [],
   "source": [
    "y, X = dmatrices('Cov19Deaths ~ SarsVariant',data=df_SarsCOv19Group1, return_type='dataframe')"
   ]
  },
  {
   "cell_type": "code",
   "execution_count": 78,
   "metadata": {},
   "outputs": [
    {
     "name": "stdout",
     "output_type": "stream",
     "text": [
      "                            OLS Regression Results                            \n",
      "==============================================================================\n",
      "Dep. Variable:            Cov19Deaths   R-squared:                       0.279\n",
      "Model:                            OLS   Adj. R-squared:                  0.189\n",
      "Method:                 Least Squares   F-statistic:                     3.101\n",
      "Date:                Tue, 23 Nov 2021   Prob (F-statistic):              0.116\n",
      "Time:                        00:44:00   Log-Likelihood:                -153.83\n",
      "No. Observations:                  10   AIC:                             311.7\n",
      "Df Residuals:                       8   BIC:                             312.3\n",
      "Df Model:                           1                                         \n",
      "Covariance Type:            nonrobust                                         \n",
      "===============================================================================\n",
      "                  coef    std err          t      P>|t|      [0.025      0.975]\n",
      "-------------------------------------------------------------------------------\n",
      "Intercept   -3.181e+05   8.19e+05     -0.388      0.708   -2.21e+06    1.57e+06\n",
      "SarsVariant  2.173e+06   1.23e+06      1.761      0.116   -6.73e+05    5.02e+06\n",
      "==============================================================================\n",
      "Omnibus:                       12.035   Durbin-Watson:                   2.569\n",
      "Prob(Omnibus):                  0.002   Jarque-Bera (JB):                5.591\n",
      "Skew:                           1.382   Prob(JB):                       0.0611\n",
      "Kurtosis:                       5.404   Cond. No.                         4.09\n",
      "==============================================================================\n",
      "\n",
      "Notes:\n",
      "[1] Standard Errors assume that the covariance matrix of the errors is correctly specified.\n"
     ]
    },
    {
     "name": "stderr",
     "output_type": "stream",
     "text": [
      "C:\\Users\\PC\\AppData\\Local\\Programs\\Python\\Python39\\lib\\site-packages\\scipy\\stats\\stats.py:1541: UserWarning: kurtosistest only valid for n>=20 ... continuing anyway, n=10\n",
      "  warnings.warn(\"kurtosistest only valid for n>=20 ... continuing \"\n"
     ]
    }
   ],
   "source": [
    "mod5 = sm.OLS(y, X)\n",
    "res5 = mod5.fit()\n",
    "print(res5.summary())"
   ]
  },
  {
   "cell_type": "code",
   "execution_count": 79,
   "metadata": {},
   "outputs": [],
   "source": [
    "#DiabetesGroup\n",
    "df_DiabetesGroup=df_Comorbidities[['Cov19Deaths','DiabetesGroup','NumberOfMentions','AgeGroup']].dropna()"
   ]
  },
  {
   "cell_type": "code",
   "execution_count": 80,
   "metadata": {},
   "outputs": [],
   "source": [
    "df_DiabetesGroup1=df_DiabetesGroup.groupby(by=['AgeGroup']).agg({'DiabetesGroup':'sum',\n",
    "                                                                   'Cov19Deaths':'sum',\n",
    "                                                                  # 'NumberOfMentions':'sum'\n",
    "                                                                    }).reset_index().dropna()\n",
    "#df_InjuryPoisonGroup1['InjuryPoisonNorm']=df_InjuryPoisonGroup1['IntUnintInjury_PoisoningAdverGroup']\n"
   ]
  },
  {
   "cell_type": "code",
   "execution_count": 81,
   "metadata": {},
   "outputs": [],
   "source": [
    "def normalize_series(s):\n",
    "    s=df_DiabetesGroup1['DiabetesGroup']\n",
    "    return (s - s.min()) / (s.max() - s.min())\n",
    "\n",
    "\n",
    "df_DiabetesGroup1['Diabet'] = normalize_series(df_DiabetesGroup1['DiabetesGroup'])\n"
   ]
  },
  {
   "cell_type": "code",
   "execution_count": 82,
   "metadata": {},
   "outputs": [],
   "source": [
    "y, X = dmatrices('Cov19Deaths ~ Diabet',data=df_DiabetesGroup1, return_type='dataframe')"
   ]
  },
  {
   "cell_type": "code",
   "execution_count": 83,
   "metadata": {},
   "outputs": [
    {
     "name": "stdout",
     "output_type": "stream",
     "text": [
      "                            OLS Regression Results                            \n",
      "==============================================================================\n",
      "Dep. Variable:            Cov19Deaths   R-squared:                       0.009\n",
      "Model:                            OLS   Adj. R-squared:                 -0.115\n",
      "Method:                 Least Squares   F-statistic:                   0.07422\n",
      "Date:                Tue, 23 Nov 2021   Prob (F-statistic):              0.792\n",
      "Time:                        00:44:01   Log-Likelihood:                -155.42\n",
      "No. Observations:                  10   AIC:                             314.8\n",
      "Df Residuals:                       8   BIC:                             315.4\n",
      "Df Model:                           1                                         \n",
      "Covariance Type:            nonrobust                                         \n",
      "==============================================================================\n",
      "                 coef    std err          t      P>|t|      [0.025      0.975]\n",
      "------------------------------------------------------------------------------\n",
      "Intercept   7.543e+05   8.05e+05      0.937      0.376    -1.1e+06    2.61e+06\n",
      "Diabet      4.216e+05   1.55e+06      0.272      0.792   -3.15e+06    3.99e+06\n",
      "==============================================================================\n",
      "Omnibus:                       16.124   Durbin-Watson:                   1.878\n",
      "Prob(Omnibus):                  0.000   Jarque-Bera (JB):                8.599\n",
      "Skew:                           1.851   Prob(JB):                       0.0136\n",
      "Kurtosis:                       5.633   Cond. No.                         3.83\n",
      "==============================================================================\n",
      "\n",
      "Notes:\n",
      "[1] Standard Errors assume that the covariance matrix of the errors is correctly specified.\n"
     ]
    },
    {
     "name": "stderr",
     "output_type": "stream",
     "text": [
      "C:\\Users\\PC\\AppData\\Local\\Programs\\Python\\Python39\\lib\\site-packages\\scipy\\stats\\stats.py:1541: UserWarning: kurtosistest only valid for n>=20 ... continuing anyway, n=10\n",
      "  warnings.warn(\"kurtosistest only valid for n>=20 ... continuing \"\n"
     ]
    }
   ],
   "source": [
    "mod6 = sm.OLS(y, X)\n",
    "res6 = mod6.fit()\n",
    "print(res6.summary())"
   ]
  },
  {
   "cell_type": "code",
   "execution_count": 84,
   "metadata": {},
   "outputs": [],
   "source": [
    "#IntUnintInjury_PoisoningAdverGroup\n",
    "#Malignant_NeoplasmsGroup\n",
    "df_Malignant_NeoplasmsGroup=df_Comorbidities[['Cov19Deaths','Malignant_NeoplasmsGroup','NumberOfMentions','AgeGroup']].dropna()"
   ]
  },
  {
   "cell_type": "code",
   "execution_count": 85,
   "metadata": {},
   "outputs": [
    {
     "data": {
      "text/html": [
       "<div>\n",
       "<style scoped>\n",
       "    .dataframe tbody tr th:only-of-type {\n",
       "        vertical-align: middle;\n",
       "    }\n",
       "\n",
       "    .dataframe tbody tr th {\n",
       "        vertical-align: top;\n",
       "    }\n",
       "\n",
       "    .dataframe thead th {\n",
       "        text-align: right;\n",
       "    }\n",
       "</style>\n",
       "<table border=\"1\" class=\"dataframe\">\n",
       "  <thead>\n",
       "    <tr style=\"text-align: right;\">\n",
       "      <th></th>\n",
       "      <th>AgeGroup</th>\n",
       "      <th>Malignant_NeoplasmsGroup</th>\n",
       "      <th>Cov19Deaths</th>\n",
       "    </tr>\n",
       "  </thead>\n",
       "  <tbody>\n",
       "    <tr>\n",
       "      <th>0</th>\n",
       "      <td>0-24</td>\n",
       "      <td>1014</td>\n",
       "      <td>5510.0</td>\n",
       "    </tr>\n",
       "    <tr>\n",
       "      <th>1</th>\n",
       "      <td>25-34</td>\n",
       "      <td>983</td>\n",
       "      <td>24381.0</td>\n",
       "    </tr>\n",
       "    <tr>\n",
       "      <th>2</th>\n",
       "      <td>35-44</td>\n",
       "      <td>863</td>\n",
       "      <td>73603.0</td>\n",
       "    </tr>\n",
       "    <tr>\n",
       "      <th>3</th>\n",
       "      <td>45-54</td>\n",
       "      <td>649</td>\n",
       "      <td>227761.0</td>\n",
       "    </tr>\n",
       "    <tr>\n",
       "      <th>4</th>\n",
       "      <td>55-64</td>\n",
       "      <td>527</td>\n",
       "      <td>599350.0</td>\n",
       "    </tr>\n",
       "    <tr>\n",
       "      <th>5</th>\n",
       "      <td>65-74</td>\n",
       "      <td>543</td>\n",
       "      <td>1066268.0</td>\n",
       "    </tr>\n",
       "    <tr>\n",
       "      <th>6</th>\n",
       "      <td>75-84</td>\n",
       "      <td>579</td>\n",
       "      <td>1276831.0</td>\n",
       "    </tr>\n",
       "    <tr>\n",
       "      <th>7</th>\n",
       "      <td>85+</td>\n",
       "      <td>535</td>\n",
       "      <td>1286773.0</td>\n",
       "    </tr>\n",
       "    <tr>\n",
       "      <th>8</th>\n",
       "      <td>All Ages</td>\n",
       "      <td>754</td>\n",
       "      <td>4741332.0</td>\n",
       "    </tr>\n",
       "    <tr>\n",
       "      <th>9</th>\n",
       "      <td>Not stated</td>\n",
       "      <td>1080</td>\n",
       "      <td>48.0</td>\n",
       "    </tr>\n",
       "  </tbody>\n",
       "</table>\n",
       "</div>"
      ],
      "text/plain": [
       "     AgeGroup  Malignant_NeoplasmsGroup  Cov19Deaths\n",
       "0        0-24                      1014       5510.0\n",
       "1       25-34                       983      24381.0\n",
       "2       35-44                       863      73603.0\n",
       "3       45-54                       649     227761.0\n",
       "4       55-64                       527     599350.0\n",
       "5       65-74                       543    1066268.0\n",
       "6       75-84                       579    1276831.0\n",
       "7         85+                       535    1286773.0\n",
       "8    All Ages                       754    4741332.0\n",
       "9  Not stated                      1080         48.0"
      ]
     },
     "execution_count": 85,
     "metadata": {},
     "output_type": "execute_result"
    }
   ],
   "source": [
    "\n",
    "df_Malignant_NeoplasmsGroup1=df_Malignant_NeoplasmsGroup.groupby(by=['AgeGroup']).agg({'Malignant_NeoplasmsGroup':'sum',\n",
    "                                                                   'Cov19Deaths':'sum',\n",
    "                                                                 #  'NumberOfMentions':'sum'\n",
    "                                                                    }).reset_index().dropna()\n",
    "#df_Malignant_NeoplasmsGroup1['InjuryPoisonNorm']=df_InjuryPoisonGroup1['IntUnintInjury_PoisoningAdverGroup']\n",
    "df_Malignant_NeoplasmsGroup1 #1['Malignant_NeoplasmsGroup']"
   ]
  },
  {
   "cell_type": "code",
   "execution_count": 86,
   "metadata": {},
   "outputs": [],
   "source": [
    "def normalize_series(s):\n",
    "    s=df_Malignant_NeoplasmsGroup1['Malignant_NeoplasmsGroup']\n",
    "    return (s - s.min()) / (s.max() - s.min())\n",
    "\n",
    "\n",
    "s=df_Malignant_NeoplasmsGroup1['Malignant_NeoplasmsGroup'] = normalize_series(s=df_Malignant_NeoplasmsGroup1['Malignant_NeoplasmsGroup'])\n"
   ]
  },
  {
   "cell_type": "code",
   "execution_count": 87,
   "metadata": {},
   "outputs": [],
   "source": [
    "y, X = dmatrices('Cov19Deaths ~ Malignant_NeoplasmsGroup',data=df_Malignant_NeoplasmsGroup1, return_type='dataframe')"
   ]
  },
  {
   "cell_type": "code",
   "execution_count": 88,
   "metadata": {},
   "outputs": [
    {
     "name": "stdout",
     "output_type": "stream",
     "text": [
      "                            OLS Regression Results                            \n",
      "==============================================================================\n",
      "Dep. Variable:            Cov19Deaths   R-squared:                       0.094\n",
      "Model:                            OLS   Adj. R-squared:                 -0.019\n",
      "Method:                 Least Squares   F-statistic:                    0.8314\n",
      "Date:                Tue, 23 Nov 2021   Prob (F-statistic):              0.389\n",
      "Time:                        00:44:02   Log-Likelihood:                -154.97\n",
      "No. Observations:                  10   AIC:                             313.9\n",
      "Df Residuals:                       8   BIC:                             314.5\n",
      "Df Model:                           1                                         \n",
      "Covariance Type:            nonrobust                                         \n",
      "============================================================================================\n",
      "                               coef    std err          t      P>|t|      [0.025      0.975]\n",
      "--------------------------------------------------------------------------------------------\n",
      "Intercept                  1.39e+06   6.82e+05      2.037      0.076   -1.83e+05    2.96e+06\n",
      "Malignant_NeoplasmsGroup -1.126e+06   1.23e+06     -0.912      0.389   -3.97e+06    1.72e+06\n",
      "==============================================================================\n",
      "Omnibus:                       25.252   Durbin-Watson:                   1.911\n",
      "Prob(Omnibus):                  0.000   Jarque-Bera (JB):               18.196\n",
      "Skew:                           2.445   Prob(JB):                     0.000112\n",
      "Kurtosis:                       7.444   Cond. No.                         3.19\n",
      "==============================================================================\n",
      "\n",
      "Notes:\n",
      "[1] Standard Errors assume that the covariance matrix of the errors is correctly specified.\n"
     ]
    },
    {
     "name": "stderr",
     "output_type": "stream",
     "text": [
      "C:\\Users\\PC\\AppData\\Local\\Programs\\Python\\Python39\\lib\\site-packages\\scipy\\stats\\stats.py:1541: UserWarning: kurtosistest only valid for n>=20 ... continuing anyway, n=10\n",
      "  warnings.warn(\"kurtosistest only valid for n>=20 ... continuing \"\n"
     ]
    }
   ],
   "source": [
    "mod7 = sm.OLS(y, X)\n",
    "res7 = mod7.fit()\n",
    "print(res7.summary())"
   ]
  },
  {
   "cell_type": "markdown",
   "metadata": {},
   "source": [
    "H0--> El lugar si determina una circunstancia en la muerte por covid\n",
    "Ha--> El lugar no determina una circunstancia en la muerte por covid"
   ]
  },
  {
   "cell_type": "markdown",
   "metadata": {},
   "source": [
    "y, X = dmatrices('COVID-19Deaths ~ Alabama + Alaska + Arizona + Arkansas + California + Colorado + Connecticut + Delaware + DistrictOfColumbia + Florida + Georgia + Hawaii + Idaho + Illinois + Indiana + Iowa + Kansas + Kentucky + Louisiana + Maine + Maryland + Massachusetts + Michigan + Minnesota + Mississippi + Missouri + Montana + Nebraska + Nevada + NewHampshire + NewJersey + NewMexico + NewYork + NewYorkCity + NorthCarolina + NorthDakota + Ohio + Oklahoma + Oregon + Pennsylvania + PuertoRico + RhodeIsland + SouthCarolina + SouthDakota + Tennessee + Texas + UnitedStates + Utah + Vermont + Virginia + Washington + WestVirginia + Wisconsin + Wyoming',data=, return_type='dataframe')\n",
    "Data de:\n",
    "https://www.cdc.gov/nchs/covid19/covid-19-mortality-data-files.htm\n",
    "https://data.cdc.gov/NCHS/Conditions-Contributing-to-COVID-19-Deaths-by-Stat/hk9y-quqm\n"
   ]
  },
  {
   "cell_type": "code",
   "execution_count": 89,
   "metadata": {},
   "outputs": [],
   "source": [
    "#Obesity\n",
    "df_ObesityGroup=df_Comorbidities[['Cov19Deaths','ObesityGroup','NumberOfMentions','AgeGroup']].dropna()"
   ]
  },
  {
   "cell_type": "code",
   "execution_count": 90,
   "metadata": {},
   "outputs": [],
   "source": [
    "df_ObesityGroup1=df_ObesityGroup.groupby(by=['AgeGroup']).agg({'ObesityGroup':'sum',\n",
    "                                                                   'Cov19Deaths':'sum',\n",
    "                                                                 #  'NumberOfMentions':'sum'\n",
    "                                                                    }).reset_index().dropna()\n"
   ]
  },
  {
   "cell_type": "code",
   "execution_count": 91,
   "metadata": {},
   "outputs": [],
   "source": [
    "def normalize_series(s):\n",
    "    s=df_ObesityGroup1['ObesityGroup']\n",
    "    return (s - s.min()) / (s.max() - s.min())\n",
    "\n",
    "\n",
    "df_ObesityGroup1['Obesity'] = normalize_series(df_ObesityGroup1['ObesityGroup'])\n"
   ]
  },
  {
   "cell_type": "code",
   "execution_count": 92,
   "metadata": {},
   "outputs": [],
   "source": [
    "y, X = dmatrices('Cov19Deaths ~ Obesity',data=df_ObesityGroup1, return_type='dataframe')"
   ]
  },
  {
   "cell_type": "code",
   "execution_count": 93,
   "metadata": {},
   "outputs": [
    {
     "name": "stdout",
     "output_type": "stream",
     "text": [
      "                            OLS Regression Results                            \n",
      "==============================================================================\n",
      "Dep. Variable:            Cov19Deaths   R-squared:                       0.009\n",
      "Model:                            OLS   Adj. R-squared:                 -0.115\n",
      "Method:                 Least Squares   F-statistic:                   0.07516\n",
      "Date:                Tue, 23 Nov 2021   Prob (F-statistic):              0.791\n",
      "Time:                        00:44:03   Log-Likelihood:                -155.42\n",
      "No. Observations:                  10   AIC:                             314.8\n",
      "Df Residuals:                       8   BIC:                             315.4\n",
      "Df Model:                           1                                         \n",
      "Covariance Type:            nonrobust                                         \n",
      "==============================================================================\n",
      "                 coef    std err          t      P>|t|      [0.025      0.975]\n",
      "------------------------------------------------------------------------------\n",
      "Intercept   1.055e+06   6.63e+05      1.591      0.150   -4.74e+05    2.58e+06\n",
      "Obesity    -4.126e+05    1.5e+06     -0.274      0.791   -3.88e+06    3.06e+06\n",
      "==============================================================================\n",
      "Omnibus:                       20.060   Durbin-Watson:                   1.737\n",
      "Prob(Omnibus):                  0.000   Jarque-Bera (JB):               12.188\n",
      "Skew:                           2.119   Prob(JB):                      0.00226\n",
      "Kurtosis:                       6.360   Cond. No.                         3.45\n",
      "==============================================================================\n",
      "\n",
      "Notes:\n",
      "[1] Standard Errors assume that the covariance matrix of the errors is correctly specified.\n"
     ]
    },
    {
     "name": "stderr",
     "output_type": "stream",
     "text": [
      "C:\\Users\\PC\\AppData\\Local\\Programs\\Python\\Python39\\lib\\site-packages\\scipy\\stats\\stats.py:1541: UserWarning: kurtosistest only valid for n>=20 ... continuing anyway, n=10\n",
      "  warnings.warn(\"kurtosistest only valid for n>=20 ... continuing \"\n"
     ]
    }
   ],
   "source": [
    "mod8 = sm.OLS(y, X)\n",
    "res8 = mod8.fit()\n",
    "print(res8.summary())"
   ]
  },
  {
   "cell_type": "code",
   "execution_count": 94,
   "metadata": {},
   "outputs": [],
   "source": [
    "#Renal_FailureGroup\n",
    "df_Renal_FailureGroup=df_Comorbidities[['Cov19Deaths','Renal_FailureGroup','NumberOfMentions','AgeGroup']].dropna()"
   ]
  },
  {
   "cell_type": "code",
   "execution_count": 95,
   "metadata": {},
   "outputs": [],
   "source": [
    "df_Renal_FailureGroup1=df_Renal_FailureGroup.groupby(by=['AgeGroup']).agg({'Renal_FailureGroup':'sum',\n",
    "                                                                   'Cov19Deaths':'sum',\n",
    "                                                                   #'NumberOfMentions':'sum'\n",
    "                                                                    }).reset_index().dropna()\n"
   ]
  },
  {
   "cell_type": "code",
   "execution_count": 96,
   "metadata": {},
   "outputs": [],
   "source": [
    "def normalize_series(s):\n",
    "    s=df_Renal_FailureGroup1['Renal_FailureGroup']\n",
    "    return (s - s.min()) / (s.max() - s.min())\n",
    "\n",
    "\n",
    "df_Renal_FailureGroup1['RenFal'] = normalize_series(df_Renal_FailureGroup1['Renal_FailureGroup'])\n"
   ]
  },
  {
   "cell_type": "code",
   "execution_count": 97,
   "metadata": {},
   "outputs": [],
   "source": [
    "y, X = dmatrices('Cov19Deaths ~ RenFal',data=df_Renal_FailureGroup1, return_type='dataframe')"
   ]
  },
  {
   "cell_type": "code",
   "execution_count": 98,
   "metadata": {},
   "outputs": [
    {
     "name": "stdout",
     "output_type": "stream",
     "text": [
      "                            OLS Regression Results                            \n",
      "==============================================================================\n",
      "Dep. Variable:            Cov19Deaths   R-squared:                       0.001\n",
      "Model:                            OLS   Adj. R-squared:                 -0.124\n",
      "Method:                 Least Squares   F-statistic:                   0.01047\n",
      "Date:                Tue, 23 Nov 2021   Prob (F-statistic):              0.921\n",
      "Time:                        00:44:05   Log-Likelihood:                -155.46\n",
      "No. Observations:                  10   AIC:                             314.9\n",
      "Df Residuals:                       8   BIC:                             315.5\n",
      "Df Model:                           1                                         \n",
      "Covariance Type:            nonrobust                                         \n",
      "==============================================================================\n",
      "                 coef    std err          t      P>|t|      [0.025      0.975]\n",
      "------------------------------------------------------------------------------\n",
      "Intercept   9.865e+05   7.32e+05      1.347      0.215   -7.02e+05    2.67e+06\n",
      "RenFal     -1.466e+05   1.43e+06     -0.102      0.921   -3.45e+06    3.16e+06\n",
      "==============================================================================\n",
      "Omnibus:                       19.885   Durbin-Watson:                   1.863\n",
      "Prob(Omnibus):                  0.000   Jarque-Bera (JB):               12.014\n",
      "Skew:                           2.107   Prob(JB):                      0.00246\n",
      "Kurtosis:                       6.328   Cond. No.                         3.45\n",
      "==============================================================================\n",
      "\n",
      "Notes:\n",
      "[1] Standard Errors assume that the covariance matrix of the errors is correctly specified.\n"
     ]
    },
    {
     "name": "stderr",
     "output_type": "stream",
     "text": [
      "C:\\Users\\PC\\AppData\\Local\\Programs\\Python\\Python39\\lib\\site-packages\\scipy\\stats\\stats.py:1541: UserWarning: kurtosistest only valid for n>=20 ... continuing anyway, n=10\n",
      "  warnings.warn(\"kurtosistest only valid for n>=20 ... continuing \"\n"
     ]
    }
   ],
   "source": [
    "mod9 = sm.OLS(y, X)\n",
    "res9 = mod9.fit()\n",
    "print(res9.summary())"
   ]
  },
  {
   "cell_type": "code",
   "execution_count": 99,
   "metadata": {},
   "outputs": [],
   "source": [
    "#Respiratory_DiseasesGroup\n",
    "df_Respiratory_DiseasesGroup=df_Comorbidities[['Cov19Deaths','Respiratory_DiseasesGroup','NumberOfMentions','AgeGroup']].dropna()"
   ]
  },
  {
   "cell_type": "code",
   "execution_count": 100,
   "metadata": {},
   "outputs": [],
   "source": [
    "df_Respiratory_DiseasesGroup1=df_Respiratory_DiseasesGroup.groupby(by=['AgeGroup']).agg({'Respiratory_DiseasesGroup':'sum',\n",
    "                                                                   'Cov19Deaths':'sum',\n",
    "                                                                #   'NumberOfMentions':'sum'\n",
    "                                                                    }).reset_index().dropna()\n"
   ]
  },
  {
   "cell_type": "code",
   "execution_count": 101,
   "metadata": {},
   "outputs": [],
   "source": [
    "def normalize_series(s):\n",
    "    s=df_Respiratory_DiseasesGroup1['Respiratory_DiseasesGroup']\n",
    "    return (s - s.min()) / (s.max() - s.min())\n",
    "\n",
    "\n",
    "df_Respiratory_DiseasesGroup1['RespDisea']= normalize_series(df_Respiratory_DiseasesGroup1['Respiratory_DiseasesGroup'])\n"
   ]
  },
  {
   "cell_type": "code",
   "execution_count": 102,
   "metadata": {},
   "outputs": [],
   "source": [
    "y, X = dmatrices('Cov19Deaths ~ RespDisea',data=df_Respiratory_DiseasesGroup1, return_type='dataframe')"
   ]
  },
  {
   "cell_type": "code",
   "execution_count": 103,
   "metadata": {},
   "outputs": [
    {
     "name": "stdout",
     "output_type": "stream",
     "text": [
      "                            OLS Regression Results                            \n",
      "==============================================================================\n",
      "Dep. Variable:            Cov19Deaths   R-squared:                       0.006\n",
      "Model:                            OLS   Adj. R-squared:                 -0.118\n",
      "Method:                 Least Squares   F-statistic:                   0.04995\n",
      "Date:                Tue, 23 Nov 2021   Prob (F-statistic):              0.829\n",
      "Time:                        00:44:06   Log-Likelihood:                -155.43\n",
      "No. Observations:                  10   AIC:                             314.9\n",
      "Df Residuals:                       8   BIC:                             315.5\n",
      "Df Model:                           1                                         \n",
      "Covariance Type:            nonrobust                                         \n",
      "==============================================================================\n",
      "                 coef    std err          t      P>|t|      [0.025      0.975]\n",
      "------------------------------------------------------------------------------\n",
      "Intercept   1.032e+06   6.64e+05      1.555      0.159   -4.98e+05    2.56e+06\n",
      "RespDisea  -3.393e+05   1.52e+06     -0.223      0.829   -3.84e+06    3.16e+06\n",
      "==============================================================================\n",
      "Omnibus:                       20.765   Durbin-Watson:                   1.831\n",
      "Prob(Omnibus):                  0.000   Jarque-Bera (JB):               12.918\n",
      "Skew:                           2.163   Prob(JB):                      0.00157\n",
      "Kurtosis:                       6.505   Cond. No.                         3.47\n",
      "==============================================================================\n",
      "\n",
      "Notes:\n",
      "[1] Standard Errors assume that the covariance matrix of the errors is correctly specified.\n"
     ]
    },
    {
     "name": "stderr",
     "output_type": "stream",
     "text": [
      "C:\\Users\\PC\\AppData\\Local\\Programs\\Python\\Python39\\lib\\site-packages\\scipy\\stats\\stats.py:1541: UserWarning: kurtosistest only valid for n>=20 ... continuing anyway, n=10\n",
      "  warnings.warn(\"kurtosistest only valid for n>=20 ... continuing \"\n"
     ]
    }
   ],
   "source": [
    "mod10 = sm.OLS(y, X)\n",
    "res10 = mod10.fit()\n",
    "print(res10.summary())"
   ]
  },
  {
   "cell_type": "code",
   "execution_count": 104,
   "metadata": {},
   "outputs": [],
   "source": [
    "#SepsisGroup\n",
    "df_SepsisGroup=df_Comorbidities[['Cov19Deaths','SepsisGroup','NumberOfMentions','AgeGroup']].dropna()"
   ]
  },
  {
   "cell_type": "code",
   "execution_count": 105,
   "metadata": {},
   "outputs": [],
   "source": [
    "df_SepsisGroup1=df_SepsisGroup.groupby(by=['AgeGroup']).agg({'SepsisGroup':'sum',\n",
    "                                                                   'Cov19Deaths':'sum',\n",
    "                                                                 #  'NumberOfMentions':'sum'\n",
    "                                                                    }).reset_index().dropna()\n"
   ]
  },
  {
   "cell_type": "code",
   "execution_count": 106,
   "metadata": {},
   "outputs": [],
   "source": [
    "def normalize_series(s):\n",
    "    s=df_SepsisGroup1['SepsisGroup']\n",
    "    return (s - s.min()) / (s.max() - s.min())\n",
    "\n",
    "\n",
    "df_SepsisGroup1['Sepsis'] = normalize_series(df_SepsisGroup1['SepsisGroup'])\n"
   ]
  },
  {
   "cell_type": "code",
   "execution_count": 107,
   "metadata": {},
   "outputs": [],
   "source": [
    "y, X = dmatrices('Cov19Deaths ~ Sepsis',data=df_SepsisGroup1, return_type='dataframe')\n"
   ]
  },
  {
   "cell_type": "code",
   "execution_count": 108,
   "metadata": {},
   "outputs": [
    {
     "name": "stdout",
     "output_type": "stream",
     "text": [
      "                            OLS Regression Results                            \n",
      "==============================================================================\n",
      "Dep. Variable:            Cov19Deaths   R-squared:                       0.001\n",
      "Model:                            OLS   Adj. R-squared:                 -0.124\n",
      "Method:                 Least Squares   F-statistic:                  0.004713\n",
      "Date:                Tue, 23 Nov 2021   Prob (F-statistic):              0.947\n",
      "Time:                        00:44:07   Log-Likelihood:                -155.46\n",
      "No. Observations:                  10   AIC:                             314.9\n",
      "Df Residuals:                       8   BIC:                             315.5\n",
      "Df Model:                           1                                         \n",
      "Covariance Type:            nonrobust                                         \n",
      "==============================================================================\n",
      "                 coef    std err          t      P>|t|      [0.025      0.975]\n",
      "------------------------------------------------------------------------------\n",
      "Intercept    9.67e+05   7.21e+05      1.341      0.217   -6.96e+05    2.63e+06\n",
      "Sepsis     -1.026e+05    1.5e+06     -0.069      0.947   -3.55e+06    3.34e+06\n",
      "==============================================================================\n",
      "Omnibus:                       19.545   Durbin-Watson:                   1.861\n",
      "Prob(Omnibus):                  0.000   Jarque-Bera (JB):               11.678\n",
      "Skew:                           2.085   Prob(JB):                      0.00291\n",
      "Kurtosis:                       6.262   Cond. No.                         3.53\n",
      "==============================================================================\n",
      "\n",
      "Notes:\n",
      "[1] Standard Errors assume that the covariance matrix of the errors is correctly specified.\n"
     ]
    },
    {
     "name": "stderr",
     "output_type": "stream",
     "text": [
      "C:\\Users\\PC\\AppData\\Local\\Programs\\Python\\Python39\\lib\\site-packages\\scipy\\stats\\stats.py:1541: UserWarning: kurtosistest only valid for n>=20 ... continuing anyway, n=10\n",
      "  warnings.warn(\"kurtosistest only valid for n>=20 ... continuing \"\n"
     ]
    }
   ],
   "source": [
    "mod11 = sm.OLS(y, X)\n",
    "res11 = mod11.fit()\n",
    "print(res11.summary())"
   ]
  },
  {
   "cell_type": "markdown",
   "metadata": {},
   "source": [
    "Dado que todos los datos de los grupos son homocedasticos, puesto que su varianza se mantiene constante para todas las observaciones de la muestra, E(u2) = σ2, con las variables grupales procederemos a realizar las pruebas de regresion cuantilica."
   ]
  },
  {
   "cell_type": "markdown",
   "metadata": {},
   "source": [
    "PRUEBAS OLS PARA CONDICIONES(ENFERMEDADES SIMPLIFICADAS) "
   ]
  },
  {
   "cell_type": "code",
   "execution_count": 109,
   "metadata": {},
   "outputs": [],
   "source": [
    "df_AdultRespiratoryDistressSyndrome=df_Comorbidities[['Cov19Deaths','AdultRespiratoryDistressSyndrome','NumberOfMentions','AgeGroup']].dropna()"
   ]
  },
  {
   "cell_type": "code",
   "execution_count": 110,
   "metadata": {},
   "outputs": [],
   "source": [
    "df_AdultRespiratoryDistressSyndrome1=df_AdultRespiratoryDistressSyndrome.groupby(by=['AgeGroup']).agg({'AdultRespiratoryDistressSyndrome':'sum',\n",
    "                                                                   'Cov19Deaths':'sum',\n",
    "                                                                  # 'NumberOfMentions':'sum'\n",
    "                                                                    }).reset_index().dropna()\n",
    "#df_AdultRespiratoryDistressSyndrome['InjuryPoisonNorm']=df_InjuryPoisonGroup1['IntUnintInjury_PoisoningAdverGroup']\n"
   ]
  },
  {
   "cell_type": "code",
   "execution_count": 111,
   "metadata": {},
   "outputs": [],
   "source": [
    "def normalize_series(s):\n",
    "    s=df_AdultRespiratoryDistressSyndrome1['AdultRespiratoryDistressSyndrome']\n",
    "    return (s - s.min()) / (s.max() - s.min())\n",
    "\n",
    "\n",
    "df_AdultRespiratoryDistressSyndrome1['RespDist'] = normalize_series(df_AdultRespiratoryDistressSyndrome1['AdultRespiratoryDistressSyndrome'])\n"
   ]
  },
  {
   "cell_type": "code",
   "execution_count": 112,
   "metadata": {},
   "outputs": [],
   "source": [
    "y, X = dmatrices('Cov19Deaths ~ RespDist',data=df_AdultRespiratoryDistressSyndrome1, return_type='dataframe')"
   ]
  },
  {
   "cell_type": "code",
   "execution_count": 113,
   "metadata": {},
   "outputs": [
    {
     "name": "stdout",
     "output_type": "stream",
     "text": [
      "                            OLS Regression Results                            \n",
      "==============================================================================\n",
      "Dep. Variable:            Cov19Deaths   R-squared:                       0.002\n",
      "Model:                            OLS   Adj. R-squared:                 -0.122\n",
      "Method:                 Least Squares   F-statistic:                   0.02001\n",
      "Date:                Tue, 23 Nov 2021   Prob (F-statistic):              0.891\n",
      "Time:                        00:44:09   Log-Likelihood:                -155.45\n",
      "No. Observations:                  10   AIC:                             314.9\n",
      "Df Residuals:                       8   BIC:                             315.5\n",
      "Df Model:                           1                                         \n",
      "Covariance Type:            nonrobust                                         \n",
      "==============================================================================\n",
      "                 coef    std err          t      P>|t|      [0.025      0.975]\n",
      "------------------------------------------------------------------------------\n",
      "Intercept   8.538e+05   7.24e+05      1.179      0.272   -8.16e+05    2.52e+06\n",
      "RespDist    2.207e+05   1.56e+06      0.141      0.891   -3.38e+06    3.82e+06\n",
      "==============================================================================\n",
      "Omnibus:                       17.490   Durbin-Watson:                   1.883\n",
      "Prob(Omnibus):                  0.000   Jarque-Bera (JB):                9.763\n",
      "Skew:                           1.947   Prob(JB):                      0.00759\n",
      "Kurtosis:                       5.875   Cond. No.                         3.66\n",
      "==============================================================================\n",
      "\n",
      "Notes:\n",
      "[1] Standard Errors assume that the covariance matrix of the errors is correctly specified.\n"
     ]
    },
    {
     "name": "stderr",
     "output_type": "stream",
     "text": [
      "C:\\Users\\PC\\AppData\\Local\\Programs\\Python\\Python39\\lib\\site-packages\\scipy\\stats\\stats.py:1541: UserWarning: kurtosistest only valid for n>=20 ... continuing anyway, n=10\n",
      "  warnings.warn(\"kurtosistest only valid for n>=20 ... continuing \"\n"
     ]
    }
   ],
   "source": [
    "mod12 = sm.OLS(y, X)\n",
    "res12 = mod12.fit()\n",
    "print(res12.summary())"
   ]
  },
  {
   "cell_type": "code",
   "execution_count": 114,
   "metadata": {},
   "outputs": [],
   "source": [
    "df_OtherConditionsResidual=df_Comorbidities[['Cov19Deaths','OtherConditionsResidual','NumberOfMentions','AgeGroup']].dropna()"
   ]
  },
  {
   "cell_type": "code",
   "execution_count": 115,
   "metadata": {},
   "outputs": [],
   "source": [
    "df_OtherConditionsResidual1=df_OtherConditionsResidual.groupby(by=['AgeGroup']).agg({'OtherConditionsResidual':'sum',\n",
    "                                                                   'Cov19Deaths':'sum',\n",
    "                                                                   #'NumberOfMentions':'sum'\n",
    "                                                                    }).reset_index().dropna()\n",
    "#df_InjuryPoisonGroup1['InjuryPoisonNorm']=df_InjuryPoisonGroup1['IntUnintInjury_PoisoningAdverGroup']\n"
   ]
  },
  {
   "cell_type": "code",
   "execution_count": 116,
   "metadata": {},
   "outputs": [],
   "source": [
    "def normalize_series(s):\n",
    "    s=df_OtherConditionsResidual1['OtherConditionsResidual']\n",
    "    return (s - s.min()) / (s.max() - s.min())\n",
    "\n",
    "\n",
    "df_OtherConditionsResidual1['CondResid'] = normalize_series(df_OtherConditionsResidual1['OtherConditionsResidual'])\n"
   ]
  },
  {
   "cell_type": "code",
   "execution_count": 117,
   "metadata": {},
   "outputs": [],
   "source": [
    "y, X = dmatrices('Cov19Deaths ~ CondResid',data=df_OtherConditionsResidual1, return_type='dataframe')"
   ]
  },
  {
   "cell_type": "code",
   "execution_count": 118,
   "metadata": {},
   "outputs": [
    {
     "name": "stdout",
     "output_type": "stream",
     "text": [
      "                            OLS Regression Results                            \n",
      "==============================================================================\n",
      "Dep. Variable:            Cov19Deaths   R-squared:                       0.253\n",
      "Model:                            OLS   Adj. R-squared:                  0.160\n",
      "Method:                 Least Squares   F-statistic:                     2.709\n",
      "Date:                Tue, 23 Nov 2021   Prob (F-statistic):              0.138\n",
      "Time:                        00:44:09   Log-Likelihood:                -154.01\n",
      "No. Observations:                  10   AIC:                             312.0\n",
      "Df Residuals:                       8   BIC:                             312.6\n",
      "Df Model:                           1                                         \n",
      "Covariance Type:            nonrobust                                         \n",
      "==============================================================================\n",
      "                 coef    std err          t      P>|t|      [0.025      0.975]\n",
      "------------------------------------------------------------------------------\n",
      "Intercept  -1.509e+05   7.78e+05     -0.194      0.851   -1.95e+06    1.64e+06\n",
      "CondResid   2.246e+06   1.36e+06      1.646      0.138   -9.01e+05    5.39e+06\n",
      "==============================================================================\n",
      "Omnibus:                        8.901   Durbin-Watson:                   2.497\n",
      "Prob(Omnibus):                  0.012   Jarque-Bera (JB):                3.516\n",
      "Skew:                           1.025   Prob(JB):                        0.172\n",
      "Kurtosis:                       5.059   Cond. No.                         4.09\n",
      "==============================================================================\n",
      "\n",
      "Notes:\n",
      "[1] Standard Errors assume that the covariance matrix of the errors is correctly specified.\n"
     ]
    },
    {
     "name": "stderr",
     "output_type": "stream",
     "text": [
      "C:\\Users\\PC\\AppData\\Local\\Programs\\Python\\Python39\\lib\\site-packages\\scipy\\stats\\stats.py:1541: UserWarning: kurtosistest only valid for n>=20 ... continuing anyway, n=10\n",
      "  warnings.warn(\"kurtosistest only valid for n>=20 ... continuing \"\n"
     ]
    }
   ],
   "source": [
    "mod13 = sm.OLS(y, X)\n",
    "res13 = mod13.fit()\n",
    "print(res13.summary())\n"
   ]
  },
  {
   "cell_type": "code",
   "execution_count": 119,
   "metadata": {},
   "outputs": [],
   "source": [
    "df_AlzheimerDisease=df_Comorbidities[['Cov19Deaths','AlzheimerDisease','NumberOfMentions','AgeGroup']].dropna()"
   ]
  },
  {
   "cell_type": "code",
   "execution_count": 120,
   "metadata": {},
   "outputs": [],
   "source": [
    "df_AlzheimerDisease1=df_AlzheimerDisease.groupby(by=['AgeGroup']).agg({'AlzheimerDisease':'sum',\n",
    "                                                                   'Cov19Deaths':'sum',\n",
    "                                                                #   'NumberOfMentions':'sum'\n",
    "                                                                    }).reset_index().dropna()\n",
    "#df_InjuryPoisonGroup1['InjuryPoisonNorm']=df_InjuryPoisonGroup1['IntUnintInjury_PoisoningAdverGroup']\n"
   ]
  },
  {
   "cell_type": "code",
   "execution_count": 121,
   "metadata": {},
   "outputs": [],
   "source": [
    "def normalize_series(s):\n",
    "    s=df_AlzheimerDisease1['AlzheimerDisease']\n",
    "    return (s - s.min()) / (s.max() - s.min())\n",
    "\n",
    "\n",
    "df_AlzheimerDisease1['AlzhDisea'] = normalize_series(df_AlzheimerDisease1['AlzheimerDisease'])\n"
   ]
  },
  {
   "cell_type": "code",
   "execution_count": 122,
   "metadata": {},
   "outputs": [],
   "source": [
    "y, X = dmatrices('Cov19Deaths ~ AlzhDisea',data=df_AlzheimerDisease1, return_type='dataframe')\n"
   ]
  },
  {
   "cell_type": "code",
   "execution_count": 123,
   "metadata": {},
   "outputs": [
    {
     "name": "stdout",
     "output_type": "stream",
     "text": [
      "                            OLS Regression Results                            \n",
      "==============================================================================\n",
      "Dep. Variable:            Cov19Deaths   R-squared:                       0.426\n",
      "Model:                            OLS   Adj. R-squared:                  0.354\n",
      "Method:                 Least Squares   F-statistic:                     5.941\n",
      "Date:                Tue, 23 Nov 2021   Prob (F-statistic):             0.0407\n",
      "Time:                        00:44:10   Log-Likelihood:                -152.69\n",
      "No. Observations:                  10   AIC:                             309.4\n",
      "Df Residuals:                       8   BIC:                             310.0\n",
      "Df Model:                           1                                         \n",
      "Covariance Type:            nonrobust                                         \n",
      "==============================================================================\n",
      "                 coef    std err          t      P>|t|      [0.025      0.975]\n",
      "------------------------------------------------------------------------------\n",
      "Intercept   2.245e+06   6.52e+05      3.444      0.009    7.42e+05    3.75e+06\n",
      "AlzhDisea  -2.128e+06   8.73e+05     -2.437      0.041   -4.14e+06   -1.15e+05\n",
      "==============================================================================\n",
      "Omnibus:                       19.660   Durbin-Watson:                   2.176\n",
      "Prob(Omnibus):                  0.000   Jarque-Bera (JB):               11.902\n",
      "Skew:                           2.056   Prob(JB):                      0.00260\n",
      "Kurtosis:                       6.415   Cond. No.                         3.42\n",
      "==============================================================================\n",
      "\n",
      "Notes:\n",
      "[1] Standard Errors assume that the covariance matrix of the errors is correctly specified.\n"
     ]
    },
    {
     "name": "stderr",
     "output_type": "stream",
     "text": [
      "C:\\Users\\PC\\AppData\\Local\\Programs\\Python\\Python39\\lib\\site-packages\\scipy\\stats\\stats.py:1541: UserWarning: kurtosistest only valid for n>=20 ... continuing anyway, n=10\n",
      "  warnings.warn(\"kurtosistest only valid for n>=20 ... continuing \"\n"
     ]
    }
   ],
   "source": [
    "mod14 = sm.OLS(y, X)\n",
    "res14 = mod14.fit()\n",
    "print(res14.summary())\n"
   ]
  },
  {
   "cell_type": "code",
   "execution_count": 124,
   "metadata": {},
   "outputs": [],
   "source": [
    "df_CardiacArrest=df_Comorbidities[['Cov19Deaths','CardiacArrest','NumberOfMentions','AgeGroup']].dropna()"
   ]
  },
  {
   "cell_type": "code",
   "execution_count": 125,
   "metadata": {},
   "outputs": [],
   "source": [
    "df_CardiacArrest1=df_CardiacArrest.groupby(by=['AgeGroup']).agg({'CardiacArrest':'sum',\n",
    "                                                                   'Cov19Deaths':'sum',\n",
    "                                                                #   'NumberOfMentions':'sum'\n",
    "                                                                    }).reset_index().dropna()\n",
    "#df_InjuryPoisonGroup1['InjuryPoisonNorm']=df_InjuryPoisonGroup1['IntUnintInjury_PoisoningAdverGroup']\n"
   ]
  },
  {
   "cell_type": "code",
   "execution_count": 126,
   "metadata": {},
   "outputs": [],
   "source": [
    "def normalize_series(s):\n",
    "    s=df_CardiacArrest1['CardiacArrest']\n",
    "    return (s - s.min()) / (s.max() - s.min())\n",
    "\n",
    "\n",
    "df_CardiacArrest1['CardArr'] = normalize_series(df_CardiacArrest1['CardiacArrest'])\n"
   ]
  },
  {
   "cell_type": "code",
   "execution_count": 127,
   "metadata": {},
   "outputs": [],
   "source": [
    "y, X = dmatrices('Cov19Deaths ~ CardArr',data=df_CardiacArrest1, return_type='dataframe')"
   ]
  },
  {
   "cell_type": "code",
   "execution_count": 128,
   "metadata": {},
   "outputs": [
    {
     "name": "stdout",
     "output_type": "stream",
     "text": [
      "                            OLS Regression Results                            \n",
      "==============================================================================\n",
      "Dep. Variable:            Cov19Deaths   R-squared:                       0.003\n",
      "Model:                            OLS   Adj. R-squared:                 -0.122\n",
      "Method:                 Least Squares   F-statistic:                   0.02024\n",
      "Date:                Tue, 23 Nov 2021   Prob (F-statistic):              0.890\n",
      "Time:                        00:44:11   Log-Likelihood:                -155.45\n",
      "No. Observations:                  10   AIC:                             314.9\n",
      "Df Residuals:                       8   BIC:                             315.5\n",
      "Df Model:                           1                                         \n",
      "Covariance Type:            nonrobust                                         \n",
      "==============================================================================\n",
      "                 coef    std err          t      P>|t|      [0.025      0.975]\n",
      "------------------------------------------------------------------------------\n",
      "Intercept   1.004e+06   7.11e+05      1.413      0.195   -6.35e+05    2.64e+06\n",
      "CardArr    -2.183e+05   1.53e+06     -0.142      0.890   -3.76e+06    3.32e+06\n",
      "==============================================================================\n",
      "Omnibus:                       20.047   Durbin-Watson:                   1.842\n",
      "Prob(Omnibus):                  0.000   Jarque-Bera (JB):               12.177\n",
      "Skew:                           2.118   Prob(JB):                      0.00227\n",
      "Kurtosis:                       6.360   Cond. No.                         3.58\n",
      "==============================================================================\n",
      "\n",
      "Notes:\n",
      "[1] Standard Errors assume that the covariance matrix of the errors is correctly specified.\n"
     ]
    },
    {
     "name": "stderr",
     "output_type": "stream",
     "text": [
      "C:\\Users\\PC\\AppData\\Local\\Programs\\Python\\Python39\\lib\\site-packages\\scipy\\stats\\stats.py:1541: UserWarning: kurtosistest only valid for n>=20 ... continuing anyway, n=10\n",
      "  warnings.warn(\"kurtosistest only valid for n>=20 ... continuing \"\n"
     ]
    }
   ],
   "source": [
    "mod15 = sm.OLS(y, X)\n",
    "res15 = mod15.fit()\n",
    "print(res15.summary())"
   ]
  },
  {
   "cell_type": "code",
   "execution_count": 129,
   "metadata": {},
   "outputs": [],
   "source": [
    "df_CardiacArrhythmia=df_Comorbidities[['Cov19Deaths','CardiacArrhythmia','NumberOfMentions','AgeGroup']].dropna()"
   ]
  },
  {
   "cell_type": "code",
   "execution_count": 130,
   "metadata": {},
   "outputs": [],
   "source": [
    "df_CardiacArrhythmia1=df_CardiacArrhythmia.groupby(by=['AgeGroup']).agg({'CardiacArrhythmia':'sum',\n",
    "                                                                   'Cov19Deaths':'sum',\n",
    "                                                                #   'NumberOfMentions':'sum'\n",
    "                                                                    }).reset_index().dropna()\n"
   ]
  },
  {
   "cell_type": "code",
   "execution_count": 131,
   "metadata": {},
   "outputs": [],
   "source": [
    "def normalize_series(s):\n",
    "    s=df_CardiacArrhythmia1['CardiacArrhythmia']\n",
    "    return (s - s.min()) / (s.max() - s.min())\n",
    "\n",
    "\n",
    "df_CardiacArrhythmia1['CardArrhy'] = normalize_series(df_CardiacArrhythmia1['CardiacArrhythmia'])\n"
   ]
  },
  {
   "cell_type": "code",
   "execution_count": 132,
   "metadata": {},
   "outputs": [],
   "source": [
    "y, X = dmatrices('Cov19Deaths ~ CardArrhy',data=df_CardiacArrhythmia1, return_type='dataframe')"
   ]
  },
  {
   "cell_type": "code",
   "execution_count": 133,
   "metadata": {},
   "outputs": [
    {
     "name": "stdout",
     "output_type": "stream",
     "text": [
      "                            OLS Regression Results                            \n",
      "==============================================================================\n",
      "Dep. Variable:            Cov19Deaths   R-squared:                       0.090\n",
      "Model:                            OLS   Adj. R-squared:                 -0.023\n",
      "Method:                 Least Squares   F-statistic:                    0.7937\n",
      "Date:                Tue, 23 Nov 2021   Prob (F-statistic):              0.399\n",
      "Time:                        00:44:13   Log-Likelihood:                -154.99\n",
      "No. Observations:                  10   AIC:                             314.0\n",
      "Df Residuals:                       8   BIC:                             314.6\n",
      "Df Model:                           1                                         \n",
      "Covariance Type:            nonrobust                                         \n",
      "==============================================================================\n",
      "                 coef    std err          t      P>|t|      [0.025      0.975]\n",
      "------------------------------------------------------------------------------\n",
      "Intercept   1.422e+06   7.19e+05      1.977      0.083   -2.37e+05    3.08e+06\n",
      "CardArrhy  -1.108e+06   1.24e+06     -0.891      0.399   -3.97e+06    1.76e+06\n",
      "==============================================================================\n",
      "Omnibus:                       24.727   Durbin-Watson:                   1.876\n",
      "Prob(Omnibus):                  0.000   Jarque-Bera (JB):               17.524\n",
      "Skew:                           2.411   Prob(JB):                     0.000157\n",
      "Kurtosis:                       7.336   Cond. No.                         3.30\n",
      "==============================================================================\n",
      "\n",
      "Notes:\n",
      "[1] Standard Errors assume that the covariance matrix of the errors is correctly specified.\n"
     ]
    },
    {
     "name": "stderr",
     "output_type": "stream",
     "text": [
      "C:\\Users\\PC\\AppData\\Local\\Programs\\Python\\Python39\\lib\\site-packages\\scipy\\stats\\stats.py:1541: UserWarning: kurtosistest only valid for n>=20 ... continuing anyway, n=10\n",
      "  warnings.warn(\"kurtosistest only valid for n>=20 ... continuing \"\n"
     ]
    }
   ],
   "source": [
    "mod16 = sm.OLS(y, X)\n",
    "res16 = mod16.fit()\n",
    "print(res16.summary())"
   ]
  },
  {
   "cell_type": "code",
   "execution_count": 134,
   "metadata": {},
   "outputs": [],
   "source": [
    "df_CerebrovascularDiseases=df_Comorbidities[['Cov19Deaths','CerebrovascularDiseases','NumberOfMentions','AgeGroup']].dropna()   "
   ]
  },
  {
   "cell_type": "code",
   "execution_count": 135,
   "metadata": {},
   "outputs": [],
   "source": [
    "df_CerebrovascularDiseases1=df_CerebrovascularDiseases.groupby(by=['AgeGroup']).agg({'CerebrovascularDiseases':'sum',\n",
    "                                                                   'Cov19Deaths':'sum',\n",
    "                                                                #   'NumberOfMentions':'sum'\n",
    "                                                                    }).reset_index().dropna()\n",
    "#df_InjuryPoisonGroup1['CerebVasc']=df_InjuryPoisonGroup1['IntUnintInjury_PoisoningAdverGroup']\n"
   ]
  },
  {
   "cell_type": "code",
   "execution_count": 136,
   "metadata": {},
   "outputs": [],
   "source": [
    "def normalize_series(s):\n",
    "    s=df_CerebrovascularDiseases1['CerebrovascularDiseases']\n",
    "    return (s - s.min()) / (s.max() - s.min())\n",
    "\n",
    "\n",
    "df_CerebrovascularDiseases1['CerebVasc'] = normalize_series(df_CerebrovascularDiseases1['CerebrovascularDiseases'])\n"
   ]
  },
  {
   "cell_type": "code",
   "execution_count": 137,
   "metadata": {},
   "outputs": [],
   "source": [
    "y, X = dmatrices('Cov19Deaths ~ CerebVasc',data=df_CerebrovascularDiseases1, return_type='dataframe')\n"
   ]
  },
  {
   "cell_type": "code",
   "execution_count": 138,
   "metadata": {},
   "outputs": [
    {
     "name": "stdout",
     "output_type": "stream",
     "text": [
      "                            OLS Regression Results                            \n",
      "==============================================================================\n",
      "Dep. Variable:            Cov19Deaths   R-squared:                       0.127\n",
      "Model:                            OLS   Adj. R-squared:                  0.017\n",
      "Method:                 Least Squares   F-statistic:                     1.160\n",
      "Date:                Tue, 23 Nov 2021   Prob (F-statistic):              0.313\n",
      "Time:                        00:44:13   Log-Likelihood:                -154.79\n",
      "No. Observations:                  10   AIC:                             313.6\n",
      "Df Residuals:                       8   BIC:                             314.2\n",
      "Df Model:                           1                                         \n",
      "Covariance Type:            nonrobust                                         \n",
      "==============================================================================\n",
      "                 coef    std err          t      P>|t|      [0.025      0.975]\n",
      "------------------------------------------------------------------------------\n",
      "Intercept   1.425e+06   6.44e+05      2.212      0.058   -6.07e+04    2.91e+06\n",
      "CerebVasc  -1.266e+06   1.18e+06     -1.077      0.313   -3.98e+06    1.44e+06\n",
      "==============================================================================\n",
      "Omnibus:                       25.121   Durbin-Watson:                   1.872\n",
      "Prob(Omnibus):                  0.000   Jarque-Bera (JB):               18.044\n",
      "Skew:                           2.434   Prob(JB):                     0.000121\n",
      "Kurtosis:                       7.428   Cond. No.                         3.06\n",
      "==============================================================================\n",
      "\n",
      "Notes:\n",
      "[1] Standard Errors assume that the covariance matrix of the errors is correctly specified.\n"
     ]
    },
    {
     "name": "stderr",
     "output_type": "stream",
     "text": [
      "C:\\Users\\PC\\AppData\\Local\\Programs\\Python\\Python39\\lib\\site-packages\\scipy\\stats\\stats.py:1541: UserWarning: kurtosistest only valid for n>=20 ... continuing anyway, n=10\n",
      "  warnings.warn(\"kurtosistest only valid for n>=20 ... continuing \"\n"
     ]
    }
   ],
   "source": [
    "mod17 = sm.OLS(y, X)\n",
    "res17 = mod17.fit()\n",
    "print(res17.summary())"
   ]
  },
  {
   "cell_type": "code",
   "execution_count": 139,
   "metadata": {},
   "outputs": [],
   "source": [
    "df_ChronicLowerRespiratoryDiseases=df_Comorbidities[['Cov19Deaths','ChronicLowerRespiratoryDiseases','NumberOfMentions','AgeGroup']].dropna()"
   ]
  },
  {
   "cell_type": "code",
   "execution_count": 140,
   "metadata": {},
   "outputs": [],
   "source": [
    "df_ChronicLowerRespiratoryDiseases1=df_ChronicLowerRespiratoryDiseases.groupby(by=['AgeGroup']).agg({'ChronicLowerRespiratoryDiseases':'sum',\n",
    "                                                                   'Cov19Deaths':'sum',\n",
    "                                                                #   'NumberOfMentions':'sum'\n",
    "                                                                    }).reset_index().dropna()\n"
   ]
  },
  {
   "cell_type": "code",
   "execution_count": 141,
   "metadata": {},
   "outputs": [],
   "source": [
    "def normalize_series(s):\n",
    "    s=df_ChronicLowerRespiratoryDiseases1['ChronicLowerRespiratoryDiseases']\n",
    "    return (s - s.min()) / (s.max() - s.min())\n",
    "\n",
    "\n",
    "df_ChronicLowerRespiratoryDiseases1['ChronLowResp'] = normalize_series(df_ChronicLowerRespiratoryDiseases1['ChronicLowerRespiratoryDiseases'])\n"
   ]
  },
  {
   "cell_type": "code",
   "execution_count": 142,
   "metadata": {},
   "outputs": [],
   "source": [
    "y, X = dmatrices('Cov19Deaths ~ ChronLowResp',data=df_ChronicLowerRespiratoryDiseases1, return_type='dataframe')"
   ]
  },
  {
   "cell_type": "code",
   "execution_count": 143,
   "metadata": {},
   "outputs": [
    {
     "name": "stdout",
     "output_type": "stream",
     "text": [
      "                            OLS Regression Results                            \n",
      "==============================================================================\n",
      "Dep. Variable:            Cov19Deaths   R-squared:                       0.027\n",
      "Model:                            OLS   Adj. R-squared:                 -0.095\n",
      "Method:                 Least Squares   F-statistic:                    0.2178\n",
      "Date:                Tue, 23 Nov 2021   Prob (F-statistic):              0.653\n",
      "Time:                        00:44:14   Log-Likelihood:                -155.33\n",
      "No. Observations:                  10   AIC:                             314.7\n",
      "Df Residuals:                       8   BIC:                             315.3\n",
      "Df Model:                           1                                         \n",
      "Covariance Type:            nonrobust                                         \n",
      "================================================================================\n",
      "                   coef    std err          t      P>|t|      [0.025      0.975]\n",
      "--------------------------------------------------------------------------------\n",
      "Intercept     1.217e+06   7.77e+05      1.565      0.156   -5.76e+05    3.01e+06\n",
      "ChronLowResp -6.577e+05   1.41e+06     -0.467      0.653   -3.91e+06    2.59e+06\n",
      "==============================================================================\n",
      "Omnibus:                       23.079   Durbin-Watson:                   1.879\n",
      "Prob(Omnibus):                  0.000   Jarque-Bera (JB):               15.481\n",
      "Skew:                           2.311   Prob(JB):                     0.000435\n",
      "Kurtosis:                       6.973   Cond. No.                         3.58\n",
      "==============================================================================\n",
      "\n",
      "Notes:\n",
      "[1] Standard Errors assume that the covariance matrix of the errors is correctly specified.\n"
     ]
    },
    {
     "name": "stderr",
     "output_type": "stream",
     "text": [
      "C:\\Users\\PC\\AppData\\Local\\Programs\\Python\\Python39\\lib\\site-packages\\scipy\\stats\\stats.py:1541: UserWarning: kurtosistest only valid for n>=20 ... continuing anyway, n=10\n",
      "  warnings.warn(\"kurtosistest only valid for n>=20 ... continuing \"\n"
     ]
    }
   ],
   "source": [
    "mod18 = sm.OLS(y, X)\n",
    "res18 = mod18.fit()\n",
    "print(res18.summary())"
   ]
  },
  {
   "cell_type": "markdown",
   "metadata": {},
   "source": []
  },
  {
   "cell_type": "code",
   "execution_count": 144,
   "metadata": {},
   "outputs": [],
   "source": [
    "df_SarsCov19=df_Comorbidities[['Cov19Deaths','SarsCov19','NumberOfMentions','AgeGroup']].dropna()"
   ]
  },
  {
   "cell_type": "code",
   "execution_count": 145,
   "metadata": {},
   "outputs": [],
   "source": [
    "df_SarsCov191=df_SarsCov19.groupby(by=['AgeGroup']).agg({'SarsCov19':'sum',\n",
    "                                                                   'Cov19Deaths':'sum',\n",
    "                                                                #   'NumberOfMentions':'sum'\n",
    "                                                                    }).reset_index().dropna()\n"
   ]
  },
  {
   "cell_type": "code",
   "execution_count": 146,
   "metadata": {},
   "outputs": [],
   "source": [
    "def normalize_series(s):\n",
    "    s=df_SarsCov191['SarsCov19']\n",
    "    return (s - s.min()) / (s.max() - s.min())\n",
    "\n",
    "\n",
    "df_SarsCov191['SarsCovVariant'] = normalize_series(df_SarsCov191['SarsCov19'])\n"
   ]
  },
  {
   "cell_type": "code",
   "execution_count": 147,
   "metadata": {},
   "outputs": [],
   "source": [
    "y, X = dmatrices('Cov19Deaths ~ SarsCovVariant',data=df_SarsCov191, return_type='dataframe')"
   ]
  },
  {
   "cell_type": "code",
   "execution_count": 148,
   "metadata": {},
   "outputs": [
    {
     "name": "stdout",
     "output_type": "stream",
     "text": [
      "                            OLS Regression Results                            \n",
      "==============================================================================\n",
      "Dep. Variable:            Cov19Deaths   R-squared:                       0.279\n",
      "Model:                            OLS   Adj. R-squared:                  0.189\n",
      "Method:                 Least Squares   F-statistic:                     3.101\n",
      "Date:                Tue, 23 Nov 2021   Prob (F-statistic):              0.116\n",
      "Time:                        00:44:14   Log-Likelihood:                -153.83\n",
      "No. Observations:                  10   AIC:                             311.7\n",
      "Df Residuals:                       8   BIC:                             312.3\n",
      "Df Model:                           1                                         \n",
      "Covariance Type:            nonrobust                                         \n",
      "==================================================================================\n",
      "                     coef    std err          t      P>|t|      [0.025      0.975]\n",
      "----------------------------------------------------------------------------------\n",
      "Intercept      -3.181e+05   8.19e+05     -0.388      0.708   -2.21e+06    1.57e+06\n",
      "SarsCovVariant  2.173e+06   1.23e+06      1.761      0.116   -6.73e+05    5.02e+06\n",
      "==============================================================================\n",
      "Omnibus:                       12.035   Durbin-Watson:                   2.569\n",
      "Prob(Omnibus):                  0.002   Jarque-Bera (JB):                5.591\n",
      "Skew:                           1.382   Prob(JB):                       0.0611\n",
      "Kurtosis:                       5.404   Cond. No.                         4.09\n",
      "==============================================================================\n",
      "\n",
      "Notes:\n",
      "[1] Standard Errors assume that the covariance matrix of the errors is correctly specified.\n"
     ]
    },
    {
     "name": "stderr",
     "output_type": "stream",
     "text": [
      "C:\\Users\\PC\\AppData\\Local\\Programs\\Python\\Python39\\lib\\site-packages\\scipy\\stats\\stats.py:1541: UserWarning: kurtosistest only valid for n>=20 ... continuing anyway, n=10\n",
      "  warnings.warn(\"kurtosistest only valid for n>=20 ... continuing \"\n"
     ]
    }
   ],
   "source": [
    "mod19 = sm.OLS(y, X)\n",
    "res19 = mod19.fit()\n",
    "print(res19.summary())\n"
   ]
  },
  {
   "cell_type": "code",
   "execution_count": 149,
   "metadata": {},
   "outputs": [],
   "source": [
    "#Diabetes\n",
    "df_Diabetes=df_Comorbidities[['Cov19Deaths','Diabetes','NumberOfMentions','AgeGroup']].dropna()\n"
   ]
  },
  {
   "cell_type": "code",
   "execution_count": 150,
   "metadata": {},
   "outputs": [],
   "source": [
    "df_Diabetes1=df_Diabetes.groupby(by=['AgeGroup']).agg({'Diabetes':'sum',\n",
    "                                                                   'Cov19Deaths':'sum',\n",
    "                                                                #   'NumberOfMentions':'sum'\n",
    "                                                                    }).reset_index().dropna()\n",
    "#df_InjuryPoisonGroup1['InjuryPoisonNorm']=df_InjuryPoisonGroup1['IntUnintInjury_PoisoningAdverGroup']\n"
   ]
  },
  {
   "cell_type": "code",
   "execution_count": 151,
   "metadata": {},
   "outputs": [],
   "source": [
    "def normalize_series(s):\n",
    "    s=df_Diabetes1['Diabetes']\n",
    "    return (s - s.min()) / (s.max() - s.min())\n",
    "\n",
    "\n",
    "df_Diabetes1['Diab'] = normalize_series(df_Diabetes1['Diabetes'])\n"
   ]
  },
  {
   "cell_type": "code",
   "execution_count": 152,
   "metadata": {},
   "outputs": [],
   "source": [
    "y, X = dmatrices('Cov19Deaths ~ Diab',data=df_Diabetes1, return_type='dataframe')"
   ]
  },
  {
   "cell_type": "code",
   "execution_count": 153,
   "metadata": {},
   "outputs": [
    {
     "name": "stdout",
     "output_type": "stream",
     "text": [
      "                            OLS Regression Results                            \n",
      "==============================================================================\n",
      "Dep. Variable:            Cov19Deaths   R-squared:                       0.009\n",
      "Model:                            OLS   Adj. R-squared:                 -0.115\n",
      "Method:                 Least Squares   F-statistic:                   0.07422\n",
      "Date:                Tue, 23 Nov 2021   Prob (F-statistic):              0.792\n",
      "Time:                        00:44:15   Log-Likelihood:                -155.42\n",
      "No. Observations:                  10   AIC:                             314.8\n",
      "Df Residuals:                       8   BIC:                             315.4\n",
      "Df Model:                           1                                         \n",
      "Covariance Type:            nonrobust                                         \n",
      "==============================================================================\n",
      "                 coef    std err          t      P>|t|      [0.025      0.975]\n",
      "------------------------------------------------------------------------------\n",
      "Intercept   7.543e+05   8.05e+05      0.937      0.376    -1.1e+06    2.61e+06\n",
      "Diab        4.216e+05   1.55e+06      0.272      0.792   -3.15e+06    3.99e+06\n",
      "==============================================================================\n",
      "Omnibus:                       16.124   Durbin-Watson:                   1.878\n",
      "Prob(Omnibus):                  0.000   Jarque-Bera (JB):                8.599\n",
      "Skew:                           1.851   Prob(JB):                       0.0136\n",
      "Kurtosis:                       5.633   Cond. No.                         3.83\n",
      "==============================================================================\n",
      "\n",
      "Notes:\n",
      "[1] Standard Errors assume that the covariance matrix of the errors is correctly specified.\n"
     ]
    },
    {
     "name": "stderr",
     "output_type": "stream",
     "text": [
      "C:\\Users\\PC\\AppData\\Local\\Programs\\Python\\Python39\\lib\\site-packages\\scipy\\stats\\stats.py:1541: UserWarning: kurtosistest only valid for n>=20 ... continuing anyway, n=10\n",
      "  warnings.warn(\"kurtosistest only valid for n>=20 ... continuing \"\n"
     ]
    }
   ],
   "source": [
    "mod20 = sm.OLS(y, X)\n",
    "res20 = mod20.fit()\n",
    "print(res20.summary())\n"
   ]
  },
  {
   "cell_type": "code",
   "execution_count": 154,
   "metadata": {},
   "outputs": [],
   "source": [
    "#HeartFailure\n",
    "df_HeartFailure=df_Comorbidities[['Cov19Deaths','HeartFailure','NumberOfMentions','AgeGroup']].dropna()"
   ]
  },
  {
   "cell_type": "code",
   "execution_count": 155,
   "metadata": {},
   "outputs": [],
   "source": [
    "df_HeartFailure1=df_HeartFailure.groupby(by=['AgeGroup']).agg({'HeartFailure':'sum',\n",
    "                                                                   'Cov19Deaths':'sum',\n",
    "                                                                #   'NumberOfMentions':'sum'\n",
    "                                                                    }).reset_index().dropna()\n"
   ]
  },
  {
   "cell_type": "code",
   "execution_count": 156,
   "metadata": {},
   "outputs": [],
   "source": [
    "def normalize_series(s):\n",
    "    s=df_HeartFailure1['HeartFailure']\n",
    "    return (s - s.min()) / (s.max() - s.min())\n",
    "\n",
    "\n",
    "df_HeartFailure1['HeartFail'] = normalize_series(df_HeartFailure1['HeartFailure'])\n"
   ]
  },
  {
   "cell_type": "code",
   "execution_count": 157,
   "metadata": {},
   "outputs": [],
   "source": [
    "y, X = dmatrices('Cov19Deaths ~ HeartFail',data=df_HeartFailure1, return_type='dataframe')"
   ]
  },
  {
   "cell_type": "code",
   "execution_count": 158,
   "metadata": {},
   "outputs": [
    {
     "name": "stdout",
     "output_type": "stream",
     "text": [
      "                            OLS Regression Results                            \n",
      "==============================================================================\n",
      "Dep. Variable:            Cov19Deaths   R-squared:                       0.009\n",
      "Model:                            OLS   Adj. R-squared:                 -0.115\n",
      "Method:                 Least Squares   F-statistic:                   0.07422\n",
      "Date:                Tue, 23 Nov 2021   Prob (F-statistic):              0.792\n",
      "Time:                        00:44:16   Log-Likelihood:                -155.42\n",
      "No. Observations:                  10   AIC:                             314.8\n",
      "Df Residuals:                       8   BIC:                             315.4\n",
      "Df Model:                           1                                         \n",
      "Covariance Type:            nonrobust                                         \n",
      "==============================================================================\n",
      "                 coef    std err          t      P>|t|      [0.025      0.975]\n",
      "------------------------------------------------------------------------------\n",
      "Intercept   7.543e+05   8.05e+05      0.937      0.376    -1.1e+06    2.61e+06\n",
      "HeartFail   4.216e+05   1.55e+06      0.272      0.792   -3.15e+06    3.99e+06\n",
      "==============================================================================\n",
      "Omnibus:                       16.124   Durbin-Watson:                   1.878\n",
      "Prob(Omnibus):                  0.000   Jarque-Bera (JB):                8.599\n",
      "Skew:                           1.851   Prob(JB):                       0.0136\n",
      "Kurtosis:                       5.633   Cond. No.                         3.83\n",
      "==============================================================================\n",
      "\n",
      "Notes:\n",
      "[1] Standard Errors assume that the covariance matrix of the errors is correctly specified.\n"
     ]
    },
    {
     "name": "stderr",
     "output_type": "stream",
     "text": [
      "C:\\Users\\PC\\AppData\\Local\\Programs\\Python\\Python39\\lib\\site-packages\\scipy\\stats\\stats.py:1541: UserWarning: kurtosistest only valid for n>=20 ... continuing anyway, n=10\n",
      "  warnings.warn(\"kurtosistest only valid for n>=20 ... continuing \"\n"
     ]
    }
   ],
   "source": [
    "mod21 = sm.OLS(y, X)\n",
    "res21 = mod21.fit()\n",
    "print(res21.summary())\n"
   ]
  },
  {
   "cell_type": "code",
   "execution_count": 159,
   "metadata": {},
   "outputs": [],
   "source": [
    "df_HypertensiveDiseases=df_Comorbidities[['Cov19Deaths','HypertensiveDiseases','NumberOfMentions','AgeGroup']].dropna()"
   ]
  },
  {
   "cell_type": "code",
   "execution_count": 160,
   "metadata": {},
   "outputs": [],
   "source": [
    "df_HypertensiveDiseases1=df_HypertensiveDiseases.groupby(by=['AgeGroup']).agg({'HypertensiveDiseases':'sum',\n",
    "                                                                   'Cov19Deaths':'sum',\n",
    "                                                                #   'NumberOfMentions':'sum'\n",
    "                                                                    }).reset_index().dropna()\n"
   ]
  },
  {
   "cell_type": "code",
   "execution_count": 161,
   "metadata": {},
   "outputs": [],
   "source": [
    "def normalize_series(s):\n",
    "    s=df_HypertensiveDiseases1['HypertensiveDiseases']\n",
    "    return (s - s.min()) / (s.max() - s.min())\n",
    "\n",
    "\n",
    "df_HypertensiveDiseases1['HypertDisea'] = normalize_series(df_HypertensiveDiseases1['HypertensiveDiseases'])\n"
   ]
  },
  {
   "cell_type": "code",
   "execution_count": 162,
   "metadata": {},
   "outputs": [],
   "source": [
    "y, X = dmatrices('Cov19Deaths ~ HypertDisea',data=df_HypertensiveDiseases1, return_type='dataframe')"
   ]
  },
  {
   "cell_type": "code",
   "execution_count": 163,
   "metadata": {},
   "outputs": [
    {
     "name": "stdout",
     "output_type": "stream",
     "text": [
      "                            OLS Regression Results                            \n",
      "==============================================================================\n",
      "Dep. Variable:            Cov19Deaths   R-squared:                       0.003\n",
      "Model:                            OLS   Adj. R-squared:                 -0.121\n",
      "Method:                 Least Squares   F-statistic:                   0.02673\n",
      "Date:                Tue, 23 Nov 2021   Prob (F-statistic):              0.874\n",
      "Time:                        00:44:16   Log-Likelihood:                -155.45\n",
      "No. Observations:                  10   AIC:                             314.9\n",
      "Df Residuals:                       8   BIC:                             315.5\n",
      "Df Model:                           1                                         \n",
      "Covariance Type:            nonrobust                                         \n",
      "===============================================================================\n",
      "                  coef    std err          t      P>|t|      [0.025      0.975]\n",
      "-------------------------------------------------------------------------------\n",
      "Intercept    8.204e+05   8.27e+05      0.992      0.350   -1.09e+06    2.73e+06\n",
      "HypertDisea   2.48e+05   1.52e+06      0.163      0.874   -3.25e+06    3.75e+06\n",
      "==============================================================================\n",
      "Omnibus:                       17.395   Durbin-Watson:                   1.884\n",
      "Prob(Omnibus):                  0.000   Jarque-Bera (JB):                9.682\n",
      "Skew:                           1.939   Prob(JB):                      0.00790\n",
      "Kurtosis:                       5.864   Cond. No.                         3.82\n",
      "==============================================================================\n",
      "\n",
      "Notes:\n",
      "[1] Standard Errors assume that the covariance matrix of the errors is correctly specified.\n"
     ]
    },
    {
     "name": "stderr",
     "output_type": "stream",
     "text": [
      "C:\\Users\\PC\\AppData\\Local\\Programs\\Python\\Python39\\lib\\site-packages\\scipy\\stats\\stats.py:1541: UserWarning: kurtosistest only valid for n>=20 ... continuing anyway, n=10\n",
      "  warnings.warn(\"kurtosistest only valid for n>=20 ... continuing \"\n"
     ]
    }
   ],
   "source": [
    "mod22 = sm.OLS(y, X)\n",
    "res22 = mod22.fit()\n",
    "print(res22.summary())\n"
   ]
  },
  {
   "cell_type": "code",
   "execution_count": 164,
   "metadata": {},
   "outputs": [],
   "source": [
    "df_InfluenzaAndPneumonia=df_Comorbidities[['Cov19Deaths','InfluenzaAndPneumonia','NumberOfMentions','AgeGroup']].dropna()"
   ]
  },
  {
   "cell_type": "code",
   "execution_count": 165,
   "metadata": {},
   "outputs": [],
   "source": [
    "df_InfluenzaAndPneumonia1=df_InfluenzaAndPneumonia.groupby(by=['AgeGroup']).agg({'InfluenzaAndPneumonia':'sum',\n",
    "                                                                   'Cov19Deaths':'sum',\n",
    "                                                                #   'NumberOfMentions':'sum'\n",
    "                                                                    }).reset_index().dropna()\n"
   ]
  },
  {
   "cell_type": "code",
   "execution_count": 166,
   "metadata": {},
   "outputs": [],
   "source": [
    "def normalize_series(s):\n",
    "    s=df_InfluenzaAndPneumonia1['InfluenzaAndPneumonia']\n",
    "    return (s - s.min()) / (s.max() - s.min())\n",
    "\n",
    "\n",
    "df_InfluenzaAndPneumonia1['InfluPneu'] = normalize_series(df_InfluenzaAndPneumonia1['InfluenzaAndPneumonia'])\n"
   ]
  },
  {
   "cell_type": "code",
   "execution_count": 167,
   "metadata": {},
   "outputs": [
    {
     "data": {
      "text/html": [
       "<div>\n",
       "<style scoped>\n",
       "    .dataframe tbody tr th:only-of-type {\n",
       "        vertical-align: middle;\n",
       "    }\n",
       "\n",
       "    .dataframe tbody tr th {\n",
       "        vertical-align: top;\n",
       "    }\n",
       "\n",
       "    .dataframe thead th {\n",
       "        text-align: right;\n",
       "    }\n",
       "</style>\n",
       "<table border=\"1\" class=\"dataframe\">\n",
       "  <thead>\n",
       "    <tr style=\"text-align: right;\">\n",
       "      <th></th>\n",
       "      <th>AgeGroup</th>\n",
       "      <th>InfluenzaAndPneumonia</th>\n",
       "      <th>Cov19Deaths</th>\n",
       "      <th>InfluPneu</th>\n",
       "    </tr>\n",
       "  </thead>\n",
       "  <tbody>\n",
       "    <tr>\n",
       "      <th>0</th>\n",
       "      <td>0-24</td>\n",
       "      <td>820</td>\n",
       "      <td>5510.0</td>\n",
       "      <td>0.529630</td>\n",
       "    </tr>\n",
       "    <tr>\n",
       "      <th>1</th>\n",
       "      <td>25-34</td>\n",
       "      <td>602</td>\n",
       "      <td>24381.0</td>\n",
       "      <td>0.125926</td>\n",
       "    </tr>\n",
       "    <tr>\n",
       "      <th>2</th>\n",
       "      <td>35-44</td>\n",
       "      <td>534</td>\n",
       "      <td>73603.0</td>\n",
       "      <td>0.000000</td>\n",
       "    </tr>\n",
       "    <tr>\n",
       "      <th>3</th>\n",
       "      <td>45-54</td>\n",
       "      <td>646</td>\n",
       "      <td>227761.0</td>\n",
       "      <td>0.207407</td>\n",
       "    </tr>\n",
       "    <tr>\n",
       "      <th>4</th>\n",
       "      <td>55-64</td>\n",
       "      <td>791</td>\n",
       "      <td>599350.0</td>\n",
       "      <td>0.475926</td>\n",
       "    </tr>\n",
       "    <tr>\n",
       "      <th>5</th>\n",
       "      <td>65-74</td>\n",
       "      <td>842</td>\n",
       "      <td>1066268.0</td>\n",
       "      <td>0.570370</td>\n",
       "    </tr>\n",
       "    <tr>\n",
       "      <th>6</th>\n",
       "      <td>75-84</td>\n",
       "      <td>849</td>\n",
       "      <td>1276831.0</td>\n",
       "      <td>0.583333</td>\n",
       "    </tr>\n",
       "    <tr>\n",
       "      <th>7</th>\n",
       "      <td>85+</td>\n",
       "      <td>823</td>\n",
       "      <td>1286773.0</td>\n",
       "      <td>0.535185</td>\n",
       "    </tr>\n",
       "    <tr>\n",
       "      <th>8</th>\n",
       "      <td>All Ages</td>\n",
       "      <td>986</td>\n",
       "      <td>4741332.0</td>\n",
       "      <td>0.837037</td>\n",
       "    </tr>\n",
       "    <tr>\n",
       "      <th>9</th>\n",
       "      <td>Not stated</td>\n",
       "      <td>1074</td>\n",
       "      <td>48.0</td>\n",
       "      <td>1.000000</td>\n",
       "    </tr>\n",
       "  </tbody>\n",
       "</table>\n",
       "</div>"
      ],
      "text/plain": [
       "     AgeGroup  InfluenzaAndPneumonia  Cov19Deaths  InfluPneu\n",
       "0        0-24                    820       5510.0   0.529630\n",
       "1       25-34                    602      24381.0   0.125926\n",
       "2       35-44                    534      73603.0   0.000000\n",
       "3       45-54                    646     227761.0   0.207407\n",
       "4       55-64                    791     599350.0   0.475926\n",
       "5       65-74                    842    1066268.0   0.570370\n",
       "6       75-84                    849    1276831.0   0.583333\n",
       "7         85+                    823    1286773.0   0.535185\n",
       "8    All Ages                    986    4741332.0   0.837037\n",
       "9  Not stated                   1074         48.0   1.000000"
      ]
     },
     "execution_count": 167,
     "metadata": {},
     "output_type": "execute_result"
    }
   ],
   "source": [
    "df_InfluenzaAndPneumonia1"
   ]
  },
  {
   "cell_type": "code",
   "execution_count": 236,
   "metadata": {},
   "outputs": [
    {
     "data": {
      "image/png": "[encoded data removed]",
      "text/plain": [
       "<Figure size 864x576 with 1 Axes>"
      ]
     },
     "metadata": {
      "needs_background": "light"
     },
     "output_type": "display_data"
    }
   ],
   "source": [
    "# Importing the matplotlib library\n",
    "import matplotlib.pyplot as plt\n",
    "# Declaring the figure or the plot (y, x) or (width, height)\n",
    "plt.figure(figsize = (12,8))\n",
    "x=df_InfluenzaAndPneumonia1['AgeGroup']\n",
    "y=df_InfluenzaAndPneumonia1['InfluenzaAndPneumonia']\n",
    "plt.bar(x, y, width= 0.9, align='center',color='blue', edgecolor = 'red')\n",
    "i = 1.0\n",
    "j = 10\n",
    "# Annotating the bar plot with the values (total death count)\n",
    "for i in range(len(x)):\n",
    "    plt.annotate(y[i], (-0.1 + i, y[i] + j))\n",
    "# Creating the legend of the bars in the plot\n",
    "plt.legend(labels = ['Enfermos de Influenza'])\n",
    "# Giving the tilte for the plot\n",
    "plt.title(\"Total enfermos de influenza infectados con covid 2020-2021\")\n",
    "# Namimg the x and y axis\n",
    "plt.xlabel('Edad')\n",
    "plt.ylabel('Cantidad Enfermos')\n",
    "# Saving the plot as a 'png'\n",
    "#plt.savefig('1BarPlot.png')\n",
    "# Displaying the bar plot\n",
    "plt.show()"
   ]
  },
  {
   "cell_type": "code",
   "execution_count": 168,
   "metadata": {},
   "outputs": [],
   "source": [
    "y, X = dmatrices('Cov19Deaths ~ InfluPneu',data=df_InfluenzaAndPneumonia1, return_type='dataframe')"
   ]
  },
  {
   "cell_type": "code",
   "execution_count": 169,
   "metadata": {},
   "outputs": [
    {
     "name": "stdout",
     "output_type": "stream",
     "text": [
      "                            OLS Regression Results                            \n",
      "==============================================================================\n",
      "Dep. Variable:            Cov19Deaths   R-squared:                       0.209\n",
      "Model:                            OLS   Adj. R-squared:                  0.110\n",
      "Method:                 Least Squares   F-statistic:                     2.115\n",
      "Date:                Tue, 23 Nov 2021   Prob (F-statistic):              0.184\n",
      "Time:                        00:44:17   Log-Likelihood:                -154.29\n",
      "No. Observations:                  10   AIC:                             312.6\n",
      "Df Residuals:                       8   BIC:                             313.2\n",
      "Df Model:                           1                                         \n",
      "Covariance Type:            nonrobust                                         \n",
      "==============================================================================\n",
      "                 coef    std err          t      P>|t|      [0.025      0.975]\n",
      "------------------------------------------------------------------------------\n",
      "Intercept  -1.112e+05   8.35e+05     -0.133      0.897   -2.04e+06    1.81e+06\n",
      "InfluPneu   2.141e+06   1.47e+06      1.454      0.184   -1.25e+06    5.53e+06\n",
      "==============================================================================\n",
      "Omnibus:                        8.659   Durbin-Watson:                   2.365\n",
      "Prob(Omnibus):                  0.013   Jarque-Bera (JB):                3.352\n",
      "Skew:                           1.073   Prob(JB):                        0.187\n",
      "Kurtosis:                       4.854   Cond. No.                         4.30\n",
      "==============================================================================\n",
      "\n",
      "Notes:\n",
      "[1] Standard Errors assume that the covariance matrix of the errors is correctly specified.\n"
     ]
    },
    {
     "name": "stderr",
     "output_type": "stream",
     "text": [
      "C:\\Users\\PC\\AppData\\Local\\Programs\\Python\\Python39\\lib\\site-packages\\scipy\\stats\\stats.py:1541: UserWarning: kurtosistest only valid for n>=20 ... continuing anyway, n=10\n",
      "  warnings.warn(\"kurtosistest only valid for n>=20 ... continuing \"\n"
     ]
    }
   ],
   "source": [
    "mod23 = sm.OLS(y, X)\n",
    "res23 = mod23.fit()\n",
    "print(res23.summary())\n"
   ]
  },
  {
   "cell_type": "code",
   "execution_count": 170,
   "metadata": {},
   "outputs": [],
   "source": [
    "df_IntUnintInjuryPoisoningAdver=df_Comorbidities[['Cov19Deaths','IntUnintInjuryPoisoningAdver','NumberOfMentions','AgeGroup']].dropna()"
   ]
  },
  {
   "cell_type": "code",
   "execution_count": 171,
   "metadata": {},
   "outputs": [],
   "source": [
    "df_IntUnintInjuryPoisoningAdver1=df_IntUnintInjuryPoisoningAdver.groupby(by=['AgeGroup']).agg({'IntUnintInjuryPoisoningAdver':'sum',\n",
    "                                                                   'Cov19Deaths':'sum',\n",
    "                                                                #   'NumberOfMentions':'sum'\n",
    "                                                                    }).reset_index().dropna()\n"
   ]
  },
  {
   "cell_type": "code",
   "execution_count": 172,
   "metadata": {},
   "outputs": [],
   "source": [
    "def normalize_series(s):\n",
    "    s=df_IntUnintInjuryPoisoningAdver1['IntUnintInjuryPoisoningAdver']\n",
    "    return (s - s.min()) / (s.max() - s.min())\n",
    "\n",
    "\n",
    "df_IntUnintInjuryPoisoningAdver1['InjuPois'] = normalize_series(df_IntUnintInjuryPoisoningAdver1['IntUnintInjuryPoisoningAdver'])\n"
   ]
  },
  {
   "cell_type": "code",
   "execution_count": 173,
   "metadata": {},
   "outputs": [],
   "source": [
    "y, X = dmatrices('Cov19Deaths ~ InjuPois',data=df_IntUnintInjuryPoisoningAdver1, return_type='dataframe')"
   ]
  },
  {
   "cell_type": "code",
   "execution_count": 174,
   "metadata": {},
   "outputs": [
    {
     "name": "stdout",
     "output_type": "stream",
     "text": [
      "                            OLS Regression Results                            \n",
      "==============================================================================\n",
      "Dep. Variable:            Cov19Deaths   R-squared:                       0.297\n",
      "Model:                            OLS   Adj. R-squared:                  0.209\n",
      "Method:                 Least Squares   F-statistic:                     3.377\n",
      "Date:                Tue, 23 Nov 2021   Prob (F-statistic):              0.103\n",
      "Time:                        00:44:18   Log-Likelihood:                -153.70\n",
      "No. Observations:                  10   AIC:                             311.4\n",
      "Df Residuals:                       8   BIC:                             312.0\n",
      "Df Model:                           1                                         \n",
      "Covariance Type:            nonrobust                                         \n",
      "==============================================================================\n",
      "                 coef    std err          t      P>|t|      [0.025      0.975]\n",
      "------------------------------------------------------------------------------\n",
      "Intercept   1.703e+06   5.84e+05      2.917      0.019    3.57e+05    3.05e+06\n",
      "InjuPois   -2.133e+06   1.16e+06     -1.838      0.103   -4.81e+06    5.43e+05\n",
      "==============================================================================\n",
      "Omnibus:                       21.171   Durbin-Watson:                   1.594\n",
      "Prob(Omnibus):                  0.000   Jarque-Bera (JB):               13.347\n",
      "Skew:                           2.189   Prob(JB):                      0.00126\n",
      "Kurtosis:                       6.586   Cond. No.                         3.29\n",
      "==============================================================================\n",
      "\n",
      "Notes:\n",
      "[1] Standard Errors assume that the covariance matrix of the errors is correctly specified.\n"
     ]
    },
    {
     "name": "stderr",
     "output_type": "stream",
     "text": [
      "C:\\Users\\PC\\AppData\\Local\\Programs\\Python\\Python39\\lib\\site-packages\\scipy\\stats\\stats.py:1541: UserWarning: kurtosistest only valid for n>=20 ... continuing anyway, n=10\n",
      "  warnings.warn(\"kurtosistest only valid for n>=20 ... continuing \"\n"
     ]
    }
   ],
   "source": [
    "mod24 = sm.OLS(y, X)\n",
    "res24 = mod24.fit()\n",
    "print(res24.summary())\n"
   ]
  },
  {
   "cell_type": "code",
   "execution_count": 175,
   "metadata": {},
   "outputs": [],
   "source": [
    "df_IschemicHeartDisease=df_Comorbidities[['Cov19Deaths','IschemicHeartDisease','NumberOfMentions','AgeGroup']].dropna()"
   ]
  },
  {
   "cell_type": "code",
   "execution_count": 176,
   "metadata": {},
   "outputs": [],
   "source": [
    "df_IschemicHeartDisease1=df_IschemicHeartDisease.groupby(by=['AgeGroup']).agg({'IschemicHeartDisease':'sum',\n",
    "                                                                   'Cov19Deaths':'sum',\n",
    "                                                                #   'NumberOfMentions':'sum'\n",
    "                                                                    }).reset_index().dropna()\n"
   ]
  },
  {
   "cell_type": "code",
   "execution_count": 177,
   "metadata": {},
   "outputs": [],
   "source": [
    "def normalize_series(s):\n",
    "    s=df_IschemicHeartDisease1['IschemicHeartDisease']\n",
    "    return (s - s.min()) / (s.max() - s.min())\n",
    "\n",
    "\n",
    "df_IschemicHeartDisease1['IscHearDise'] = normalize_series(df_IschemicHeartDisease1['IschemicHeartDisease'])\n"
   ]
  },
  {
   "cell_type": "code",
   "execution_count": 178,
   "metadata": {},
   "outputs": [],
   "source": [
    "y, X = dmatrices('Cov19Deaths ~ IscHearDise',data=df_IschemicHeartDisease1, return_type='dataframe')\n"
   ]
  },
  {
   "cell_type": "code",
   "execution_count": 179,
   "metadata": {},
   "outputs": [
    {
     "name": "stdout",
     "output_type": "stream",
     "text": [
      "                            OLS Regression Results                            \n",
      "==============================================================================\n",
      "Dep. Variable:            Cov19Deaths   R-squared:                       0.031\n",
      "Model:                            OLS   Adj. R-squared:                 -0.090\n",
      "Method:                 Least Squares   F-statistic:                    0.2596\n",
      "Date:                Tue, 23 Nov 2021   Prob (F-statistic):              0.624\n",
      "Time:                        00:44:18   Log-Likelihood:                -155.31\n",
      "No. Observations:                  10   AIC:                             314.6\n",
      "Df Residuals:                       8   BIC:                             315.2\n",
      "Df Model:                           1                                         \n",
      "Covariance Type:            nonrobust                                         \n",
      "===============================================================================\n",
      "                  coef    std err          t      P>|t|      [0.025      0.975]\n",
      "-------------------------------------------------------------------------------\n",
      "Intercept    1.232e+06    7.6e+05      1.621      0.144   -5.21e+05    2.99e+06\n",
      "IscHearDise -6.632e+05    1.3e+06     -0.509      0.624   -3.66e+06    2.34e+06\n",
      "==============================================================================\n",
      "Omnibus:                       22.934   Durbin-Watson:                   1.870\n",
      "Prob(Omnibus):                  0.000   Jarque-Bera (JB):               15.319\n",
      "Skew:                           2.301   Prob(JB):                     0.000472\n",
      "Kurtosis:                       6.948   Cond. No.                         3.38\n",
      "==============================================================================\n",
      "\n",
      "Notes:\n",
      "[1] Standard Errors assume that the covariance matrix of the errors is correctly specified.\n"
     ]
    },
    {
     "name": "stderr",
     "output_type": "stream",
     "text": [
      "C:\\Users\\PC\\AppData\\Local\\Programs\\Python\\Python39\\lib\\site-packages\\scipy\\stats\\stats.py:1541: UserWarning: kurtosistest only valid for n>=20 ... continuing anyway, n=10\n",
      "  warnings.warn(\"kurtosistest only valid for n>=20 ... continuing \"\n"
     ]
    }
   ],
   "source": [
    "mod25 = sm.OLS(y, X)\n",
    "res25 = mod25.fit()\n",
    "print(res25.summary())\n"
   ]
  },
  {
   "cell_type": "code",
   "execution_count": 180,
   "metadata": {},
   "outputs": [],
   "source": [
    "df_MalignantNeoplasms=df_Comorbidities[['Cov19Deaths','MalignantNeoplasms','NumberOfMentions','AgeGroup']].dropna()"
   ]
  },
  {
   "cell_type": "code",
   "execution_count": 181,
   "metadata": {},
   "outputs": [],
   "source": [
    "df_MalignantNeoplasms1=df_MalignantNeoplasms.groupby(by=['AgeGroup']).agg({'MalignantNeoplasms':'sum',\n",
    "                                                                   'Cov19Deaths':'sum',\n",
    "                                                                #   'NumberOfMentions':'sum'\n",
    "                                                                    }).reset_index().dropna()\n"
   ]
  },
  {
   "cell_type": "code",
   "execution_count": 182,
   "metadata": {},
   "outputs": [],
   "source": [
    "def normalize_series(s):\n",
    "    s=df_MalignantNeoplasms1['MalignantNeoplasms']\n",
    "    return (s - s.min()) / (s.max() - s.min())\n",
    "\n",
    "\n",
    "df_MalignantNeoplasms1['MalNeo'] = normalize_series(df_MalignantNeoplasms1['MalignantNeoplasms'])\n"
   ]
  },
  {
   "cell_type": "code",
   "execution_count": 183,
   "metadata": {},
   "outputs": [],
   "source": [
    "y, X = dmatrices('Cov19Deaths ~ MalNeo',data=df_MalignantNeoplasms1, return_type='dataframe')  "
   ]
  },
  {
   "cell_type": "code",
   "execution_count": 184,
   "metadata": {},
   "outputs": [
    {
     "name": "stdout",
     "output_type": "stream",
     "text": [
      "                            OLS Regression Results                            \n",
      "==============================================================================\n",
      "Dep. Variable:            Cov19Deaths   R-squared:                       0.094\n",
      "Model:                            OLS   Adj. R-squared:                 -0.019\n",
      "Method:                 Least Squares   F-statistic:                    0.8314\n",
      "Date:                Tue, 23 Nov 2021   Prob (F-statistic):              0.389\n",
      "Time:                        00:44:19   Log-Likelihood:                -154.97\n",
      "No. Observations:                  10   AIC:                             313.9\n",
      "Df Residuals:                       8   BIC:                             314.5\n",
      "Df Model:                           1                                         \n",
      "Covariance Type:            nonrobust                                         \n",
      "==============================================================================\n",
      "                 coef    std err          t      P>|t|      [0.025      0.975]\n",
      "------------------------------------------------------------------------------\n",
      "Intercept    1.39e+06   6.82e+05      2.037      0.076   -1.83e+05    2.96e+06\n",
      "MalNeo     -1.126e+06   1.23e+06     -0.912      0.389   -3.97e+06    1.72e+06\n",
      "==============================================================================\n",
      "Omnibus:                       25.252   Durbin-Watson:                   1.911\n",
      "Prob(Omnibus):                  0.000   Jarque-Bera (JB):               18.196\n",
      "Skew:                           2.445   Prob(JB):                     0.000112\n",
      "Kurtosis:                       7.444   Cond. No.                         3.19\n",
      "==============================================================================\n",
      "\n",
      "Notes:\n",
      "[1] Standard Errors assume that the covariance matrix of the errors is correctly specified.\n"
     ]
    },
    {
     "name": "stderr",
     "output_type": "stream",
     "text": [
      "C:\\Users\\PC\\AppData\\Local\\Programs\\Python\\Python39\\lib\\site-packages\\scipy\\stats\\stats.py:1541: UserWarning: kurtosistest only valid for n>=20 ... continuing anyway, n=10\n",
      "  warnings.warn(\"kurtosistest only valid for n>=20 ... continuing \"\n"
     ]
    }
   ],
   "source": [
    "mod26 = sm.OLS(y, X)\n",
    "res26 = mod26.fit()\n",
    "print(res26.summary())\n"
   ]
  },
  {
   "cell_type": "code",
   "execution_count": 185,
   "metadata": {},
   "outputs": [],
   "source": [
    "df_Obesity=df_Comorbidities[['Cov19Deaths','Obesity','NumberOfMentions','AgeGroup']].dropna()"
   ]
  },
  {
   "cell_type": "code",
   "execution_count": 186,
   "metadata": {},
   "outputs": [],
   "source": [
    "df_Obesity1=df_Obesity.groupby(by=['AgeGroup']).agg({'Obesity':'sum',\n",
    "                                                                   'Cov19Deaths':'sum',\n",
    "                                                                #   'NumberOfMentions':'sum'\n",
    "                                                                    }).reset_index().dropna()\n"
   ]
  },
  {
   "cell_type": "code",
   "execution_count": 187,
   "metadata": {},
   "outputs": [],
   "source": [
    "def normalize_series(s):\n",
    "    s=df_Obesity1['Obesity']\n",
    "    return (s - s.min()) / (s.max() - s.min())\n",
    "\n",
    "\n",
    "df_Obesity1['Obes'] = normalize_series(df_Obesity1['Obesity'])\n"
   ]
  },
  {
   "cell_type": "code",
   "execution_count": 188,
   "metadata": {},
   "outputs": [],
   "source": [
    "y, X = dmatrices('Cov19Deaths ~ Obes',data=df_Obesity1, return_type='dataframe')\n"
   ]
  },
  {
   "cell_type": "code",
   "execution_count": 189,
   "metadata": {},
   "outputs": [
    {
     "name": "stdout",
     "output_type": "stream",
     "text": [
      "                            OLS Regression Results                            \n",
      "==============================================================================\n",
      "Dep. Variable:            Cov19Deaths   R-squared:                       0.009\n",
      "Model:                            OLS   Adj. R-squared:                 -0.115\n",
      "Method:                 Least Squares   F-statistic:                   0.07516\n",
      "Date:                Tue, 23 Nov 2021   Prob (F-statistic):              0.791\n",
      "Time:                        00:44:19   Log-Likelihood:                -155.42\n",
      "No. Observations:                  10   AIC:                             314.8\n",
      "Df Residuals:                       8   BIC:                             315.4\n",
      "Df Model:                           1                                         \n",
      "Covariance Type:            nonrobust                                         \n",
      "==============================================================================\n",
      "                 coef    std err          t      P>|t|      [0.025      0.975]\n",
      "------------------------------------------------------------------------------\n",
      "Intercept   1.055e+06   6.63e+05      1.591      0.150   -4.74e+05    2.58e+06\n",
      "Obes       -4.126e+05    1.5e+06     -0.274      0.791   -3.88e+06    3.06e+06\n",
      "==============================================================================\n",
      "Omnibus:                       20.060   Durbin-Watson:                   1.737\n",
      "Prob(Omnibus):                  0.000   Jarque-Bera (JB):               12.188\n",
      "Skew:                           2.119   Prob(JB):                      0.00226\n",
      "Kurtosis:                       6.360   Cond. No.                         3.45\n",
      "==============================================================================\n",
      "\n",
      "Notes:\n",
      "[1] Standard Errors assume that the covariance matrix of the errors is correctly specified.\n"
     ]
    },
    {
     "name": "stderr",
     "output_type": "stream",
     "text": [
      "C:\\Users\\PC\\AppData\\Local\\Programs\\Python\\Python39\\lib\\site-packages\\scipy\\stats\\stats.py:1541: UserWarning: kurtosistest only valid for n>=20 ... continuing anyway, n=10\n",
      "  warnings.warn(\"kurtosistest only valid for n>=20 ... continuing \"\n"
     ]
    }
   ],
   "source": [
    "mod27 = sm.OLS(y, X)\n",
    "res27 = mod27.fit()\n",
    "print(res27.summary())\n"
   ]
  },
  {
   "cell_type": "code",
   "execution_count": 190,
   "metadata": {},
   "outputs": [],
   "source": [
    "df_OtherDiseasesCirculatorySystem=df_Comorbidities[['Cov19Deaths','OtherDiseasesCirculatorySystem','NumberOfMentions','AgeGroup']].dropna()"
   ]
  },
  {
   "cell_type": "code",
   "execution_count": 191,
   "metadata": {},
   "outputs": [],
   "source": [
    "df_OtherDiseasesCirculatorySystem1=df_OtherDiseasesCirculatorySystem.groupby(by=['AgeGroup']).agg({'OtherDiseasesCirculatorySystem':'sum',\n",
    "                                                                   'Cov19Deaths':'sum',\n",
    "                                                                #   'NumberOfMentions':'sum'\n",
    "                                                                    }).reset_index().dropna()\n"
   ]
  },
  {
   "cell_type": "code",
   "execution_count": 192,
   "metadata": {},
   "outputs": [],
   "source": [
    "def normalize_series(s):\n",
    "    s=df_OtherDiseasesCirculatorySystem1['OtherDiseasesCirculatorySystem']\n",
    "    return (s - s.min()) / (s.max() - s.min())\n",
    "\n",
    "\n",
    "df_OtherDiseasesCirculatorySystem1['DisecircSys'] = normalize_series(df_OtherDiseasesCirculatorySystem1['OtherDiseasesCirculatorySystem'])\n"
   ]
  },
  {
   "cell_type": "code",
   "execution_count": 193,
   "metadata": {},
   "outputs": [],
   "source": [
    "y, X = dmatrices('Cov19Deaths ~ DisecircSys',data=df_OtherDiseasesCirculatorySystem1, return_type='dataframe')"
   ]
  },
  {
   "cell_type": "code",
   "execution_count": 194,
   "metadata": {},
   "outputs": [
    {
     "name": "stdout",
     "output_type": "stream",
     "text": [
      "                            OLS Regression Results                            \n",
      "==============================================================================\n",
      "Dep. Variable:            Cov19Deaths   R-squared:                       0.013\n",
      "Model:                            OLS   Adj. R-squared:                 -0.110\n",
      "Method:                 Least Squares   F-statistic:                    0.1078\n",
      "Date:                Tue, 23 Nov 2021   Prob (F-statistic):              0.751\n",
      "Time:                        00:44:20   Log-Likelihood:                -155.40\n",
      "No. Observations:                  10   AIC:                             314.8\n",
      "Df Residuals:                       8   BIC:                             315.4\n",
      "Df Model:                           1                                         \n",
      "Covariance Type:            nonrobust                                         \n",
      "===============================================================================\n",
      "                  coef    std err          t      P>|t|      [0.025      0.975]\n",
      "-------------------------------------------------------------------------------\n",
      "Intercept    1.097e+06   6.99e+05      1.569      0.155   -5.15e+05    2.71e+06\n",
      "DisecircSys -4.831e+05   1.47e+06     -0.328      0.751   -3.88e+06    2.91e+06\n",
      "==============================================================================\n",
      "Omnibus:                       21.772   Durbin-Watson:                   1.832\n",
      "Prob(Omnibus):                  0.000   Jarque-Bera (JB):               13.998\n",
      "Skew:                           2.228   Prob(JB):                     0.000913\n",
      "Kurtosis:                       6.708   Cond. No.                         3.47\n",
      "==============================================================================\n",
      "\n",
      "Notes:\n",
      "[1] Standard Errors assume that the covariance matrix of the errors is correctly specified.\n"
     ]
    },
    {
     "name": "stderr",
     "output_type": "stream",
     "text": [
      "C:\\Users\\PC\\AppData\\Local\\Programs\\Python\\Python39\\lib\\site-packages\\scipy\\stats\\stats.py:1541: UserWarning: kurtosistest only valid for n>=20 ... continuing anyway, n=10\n",
      "  warnings.warn(\"kurtosistest only valid for n>=20 ... continuing \"\n"
     ]
    }
   ],
   "source": [
    "mod28 = sm.OLS(y, X)\n",
    "res28 = mod28.fit()\n",
    "print(res28.summary())\n"
   ]
  },
  {
   "cell_type": "code",
   "execution_count": 195,
   "metadata": {},
   "outputs": [],
   "source": [
    "df_OtherdiseasesRespiratorySystem=df_Comorbidities[['StartDate','Cov19Deaths','OtherdiseasesRespiratorySystem','NumberOfMentions','AgeGroup']].dropna()"
   ]
  },
  {
   "cell_type": "code",
   "execution_count": 196,
   "metadata": {},
   "outputs": [],
   "source": [
    "df_OtherdiseasesRespiratorySystem1=df_OtherdiseasesRespiratorySystem.groupby(by=['StartDate']).agg({'OtherdiseasesRespiratorySystem':'sum',\n",
    "                                                                   'Cov19Deaths':'sum',\n",
    "                                                                #   'NumberOfMentions':'sum'\n",
    "                                                                    }).reset_index().dropna()\n"
   ]
  },
  {
   "cell_type": "code",
   "execution_count": 197,
   "metadata": {},
   "outputs": [],
   "source": [
    "def normalize_series(s):\n",
    "    s=df_OtherdiseasesRespiratorySystem1['OtherdiseasesRespiratorySystem']\n",
    "    return (s - s.min()) / (s.max() - s.min())\n",
    "\n",
    "\n",
    "df_OtherdiseasesRespiratorySystem1['DiseResp'] = normalize_series(df_OtherdiseasesRespiratorySystem1['OtherdiseasesRespiratorySystem'])\n"
   ]
  },
  {
   "cell_type": "code",
   "execution_count": 198,
   "metadata": {},
   "outputs": [],
   "source": [
    "y, X = dmatrices('Cov19Deaths ~ DiseResp',data=df_OtherdiseasesRespiratorySystem1, return_type='dataframe')"
   ]
  },
  {
   "cell_type": "code",
   "execution_count": 199,
   "metadata": {},
   "outputs": [
    {
     "name": "stdout",
     "output_type": "stream",
     "text": [
      "                            OLS Regression Results                            \n",
      "==============================================================================\n",
      "Dep. Variable:            Cov19Deaths   R-squared:                       0.053\n",
      "Model:                            OLS   Adj. R-squared:                 -0.000\n",
      "Method:                 Least Squares   F-statistic:                    0.9999\n",
      "Date:                Tue, 23 Nov 2021   Prob (F-statistic):              0.331\n",
      "Time:                        00:44:20   Log-Likelihood:                -287.36\n",
      "No. Observations:                  20   AIC:                             578.7\n",
      "Df Residuals:                      18   BIC:                             580.7\n",
      "Df Model:                           1                                         \n",
      "Covariance Type:            nonrobust                                         \n",
      "==============================================================================\n",
      "                 coef    std err          t      P>|t|      [0.025      0.975]\n",
      "------------------------------------------------------------------------------\n",
      "Intercept   5.775e+05    1.5e+05      3.854      0.001    2.63e+05    8.92e+05\n",
      "DiseResp     -3.9e+05    3.9e+05     -1.000      0.331   -1.21e+06    4.29e+05\n",
      "==============================================================================\n",
      "Omnibus:                       12.634   Durbin-Watson:                   1.756\n",
      "Prob(Omnibus):                  0.002   Jarque-Bera (JB):               10.346\n",
      "Skew:                           1.580   Prob(JB):                      0.00567\n",
      "Kurtosis:                       4.559   Cond. No.                         4.28\n",
      "==============================================================================\n",
      "\n",
      "Notes:\n",
      "[1] Standard Errors assume that the covariance matrix of the errors is correctly specified.\n"
     ]
    }
   ],
   "source": [
    "mod29 = sm.OLS(y, X)\n",
    "res29 = mod29.fit()\n",
    "print(res29.summary())\n"
   ]
  },
  {
   "cell_type": "code",
   "execution_count": 200,
   "metadata": {},
   "outputs": [],
   "source": [
    "df_RenalFailure=df_Comorbidities[['Cov19Deaths','RenalFailure','NumberOfMentions']].dropna()"
   ]
  },
  {
   "cell_type": "code",
   "execution_count": 201,
   "metadata": {},
   "outputs": [],
   "source": [
    "y, X = dmatrices('Cov19Deaths ~ RenalFailure + NumberOfMentions',data=df_RenalFailure, return_type='dataframe')\n"
   ]
  },
  {
   "cell_type": "code",
   "execution_count": 202,
   "metadata": {},
   "outputs": [
    {
     "name": "stdout",
     "output_type": "stream",
     "text": [
      "                            OLS Regression Results                            \n",
      "==============================================================================\n",
      "Dep. Variable:            Cov19Deaths   R-squared:                       0.980\n",
      "Model:                            OLS   Adj. R-squared:                  0.980\n",
      "Method:                 Least Squares   F-statistic:                 4.328e+06\n",
      "Date:                Tue, 23 Nov 2021   Prob (F-statistic):               0.00\n",
      "Time:                        00:44:21   Log-Likelihood:            -1.0626e+06\n",
      "No. Observations:              177842   AIC:                         2.125e+06\n",
      "Df Residuals:                  177839   BIC:                         2.125e+06\n",
      "Df Model:                           2                                         \n",
      "Covariance Type:            nonrobust                                         \n",
      "====================================================================================\n",
      "                       coef    std err          t      P>|t|      [0.025      0.975]\n",
      "------------------------------------------------------------------------------------\n",
      "Intercept            0.0062      0.231      0.027      0.979      -0.447       0.460\n",
      "RenalFailure         0.9625      1.127      0.854      0.393      -1.247       3.172\n",
      "NumberOfMentions     0.9301      0.000   2942.208      0.000       0.930       0.931\n",
      "==============================================================================\n",
      "Omnibus:                   670096.723   Durbin-Watson:                   0.259\n",
      "Prob(Omnibus):                  0.000   Jarque-Bera (JB):    1582371709308.959\n",
      "Skew:                         -84.456   Prob(JB):                         0.00\n",
      "Kurtosis:                   14615.136   Cond. No.                     3.58e+03\n",
      "==============================================================================\n",
      "\n",
      "Notes:\n",
      "[1] Standard Errors assume that the covariance matrix of the errors is correctly specified.\n",
      "[2] The condition number is large, 3.58e+03. This might indicate that there are\n",
      "strong multicollinearity or other numerical problems.\n"
     ]
    }
   ],
   "source": [
    "mod29 = sm.OLS(y, X)\n",
    "res29 = mod29.fit()\n",
    "print(res29.summary())\n"
   ]
  },
  {
   "cell_type": "code",
   "execution_count": 203,
   "metadata": {},
   "outputs": [],
   "source": [
    "df_RespiratoryArrest=df_Comorbidities[['Cov19Deaths','RespiratoryArrest','NumberOfMentions','AgeGroup']].dropna()"
   ]
  },
  {
   "cell_type": "code",
   "execution_count": 204,
   "metadata": {},
   "outputs": [],
   "source": [
    "y, X = dmatrices('Cov19Deaths ~ RespiratoryArrest + NumberOfMentions + AgeGroup',data=df_RespiratoryArrest, return_type='dataframe')"
   ]
  },
  {
   "cell_type": "code",
   "execution_count": 205,
   "metadata": {},
   "outputs": [
    {
     "name": "stdout",
     "output_type": "stream",
     "text": [
      "                            OLS Regression Results                            \n",
      "==============================================================================\n",
      "Dep. Variable:            Cov19Deaths   R-squared:                       0.980\n",
      "Model:                            OLS   Adj. R-squared:                  0.980\n",
      "Method:                 Least Squares   F-statistic:                 7.870e+05\n",
      "Date:                Tue, 23 Nov 2021   Prob (F-statistic):               0.00\n",
      "Time:                        00:44:26   Log-Likelihood:            -1.0626e+06\n",
      "No. Observations:              177842   AIC:                         2.125e+06\n",
      "Df Residuals:                  177830   BIC:                         2.125e+06\n",
      "Df Model:                          11                                         \n",
      "Covariance Type:            nonrobust                                         \n",
      "==========================================================================================\n",
      "                             coef    std err          t      P>|t|      [0.025      0.975]\n",
      "------------------------------------------------------------------------------------------\n",
      "Intercept                 -0.0399      0.640     -0.062      0.950      -1.295       1.215\n",
      "AgeGroup[T.25-34]         -0.0103      0.932     -0.011      0.991      -1.836       1.816\n",
      "AgeGroup[T.35-44]         -0.0076      0.968     -0.008      0.994      -1.905       1.890\n",
      "AgeGroup[T.45-54]          0.0124      1.005      0.012      0.990      -1.958       1.983\n",
      "AgeGroup[T.55-64]         -0.0933      1.013     -0.092      0.927      -2.079       1.893\n",
      "AgeGroup[T.65-74]         -0.0946      1.007     -0.094      0.925      -2.069       1.879\n",
      "AgeGroup[T.75-84]          0.2519      1.001      0.252      0.801      -1.710       2.214\n",
      "AgeGroup[T.85+]            0.4948      0.999      0.495      0.620      -1.463       2.452\n",
      "AgeGroup[T.All Ages]       0.1779      0.947      0.188      0.851      -1.678       2.034\n",
      "AgeGroup[T.Not stated]     0.0235      0.879      0.027      0.979      -1.699       1.746\n",
      "RespiratoryArrest          0.3746      1.084      0.346      0.730      -1.749       2.499\n",
      "NumberOfMentions           0.9301      0.000   2922.616      0.000       0.930       0.931\n",
      "==============================================================================\n",
      "Omnibus:                   670068.827   Durbin-Watson:                   0.259\n",
      "Prob(Omnibus):                  0.000   Jarque-Bera (JB):    1582016232234.622\n",
      "Skew:                         -84.445   Prob(JB):                         0.00\n",
      "Kurtosis:                   14613.494   Cond. No.                     6.78e+03\n",
      "==============================================================================\n",
      "\n",
      "Notes:\n",
      "[1] Standard Errors assume that the covariance matrix of the errors is correctly specified.\n",
      "[2] The condition number is large, 6.78e+03. This might indicate that there are\n",
      "strong multicollinearity or other numerical problems.\n"
     ]
    }
   ],
   "source": [
    "mod30 = sm.OLS(y, X)\n",
    "res30 = mod30.fit()\n",
    "print(res30.summary())\n"
   ]
  },
  {
   "cell_type": "code",
   "execution_count": 206,
   "metadata": {},
   "outputs": [],
   "source": [
    "df_RespiratoryFailure=df_Comorbidities[['Cov19Deaths','RespiratoryFailure','NumberOfMentions','AgeGroup']].dropna()\n"
   ]
  },
  {
   "cell_type": "code",
   "execution_count": 207,
   "metadata": {},
   "outputs": [],
   "source": [
    "y, X = dmatrices('Cov19Deaths ~ RespiratoryFailure + NumberOfMentions + AgeGroup',data=df_RespiratoryFailure, return_type='dataframe')"
   ]
  },
  {
   "cell_type": "code",
   "execution_count": 208,
   "metadata": {},
   "outputs": [
    {
     "name": "stdout",
     "output_type": "stream",
     "text": [
      "                            OLS Regression Results                            \n",
      "==============================================================================\n",
      "Dep. Variable:            Cov19Deaths   R-squared:                       0.980\n",
      "Model:                            OLS   Adj. R-squared:                  0.980\n",
      "Method:                 Least Squares   F-statistic:                 7.871e+05\n",
      "Date:                Tue, 23 Nov 2021   Prob (F-statistic):               0.00\n",
      "Time:                        00:44:31   Log-Likelihood:            -1.0626e+06\n",
      "No. Observations:              177842   AIC:                         2.125e+06\n",
      "Df Residuals:                  177830   BIC:                         2.125e+06\n",
      "Df Model:                          11                                         \n",
      "Covariance Type:            nonrobust                                         \n",
      "==========================================================================================\n",
      "                             coef    std err          t      P>|t|      [0.025      0.975]\n",
      "------------------------------------------------------------------------------------------\n",
      "Intercept                 -0.2444      0.639     -0.382      0.702      -1.498       1.009\n",
      "AgeGroup[T.25-34]          0.0170      0.932      0.018      0.985      -1.809       1.843\n",
      "AgeGroup[T.35-44]          0.0322      0.968      0.033      0.973      -1.865       1.929\n",
      "AgeGroup[T.45-54]          0.0032      1.005      0.003      0.997      -1.967       1.973\n",
      "AgeGroup[T.55-64]         -0.1665      1.013     -0.164      0.870      -2.152       1.820\n",
      "AgeGroup[T.65-74]         -0.1845      1.007     -0.183      0.855      -2.159       1.790\n",
      "AgeGroup[T.75-84]          0.1601      1.001      0.160      0.873      -1.802       2.122\n",
      "AgeGroup[T.85+]            0.4202      0.999      0.421      0.674      -1.537       2.378\n",
      "AgeGroup[T.All Ages]       0.1117      0.947      0.118      0.906      -1.744       1.967\n",
      "AgeGroup[T.Not stated]    -0.0039      0.879     -0.004      0.996      -1.727       1.719\n",
      "RespiratoryFailure         5.7202      1.093      5.235      0.000       3.578       7.862\n",
      "NumberOfMentions           0.9301      0.000   2922.535      0.000       0.929       0.931\n",
      "==============================================================================\n",
      "Omnibus:                   670000.579   Durbin-Watson:                   0.259\n",
      "Prob(Omnibus):                  0.000   Jarque-Bera (JB):    1581591566866.114\n",
      "Skew:                         -84.418   Prob(JB):                         0.00\n",
      "Kurtosis:                   14611.534   Cond. No.                     6.78e+03\n",
      "==============================================================================\n",
      "\n",
      "Notes:\n",
      "[1] Standard Errors assume that the covariance matrix of the errors is correctly specified.\n",
      "[2] The condition number is large, 6.78e+03. This might indicate that there are\n",
      "strong multicollinearity or other numerical problems.\n"
     ]
    }
   ],
   "source": [
    "mod31 = sm.OLS(y, X)\n",
    "res31 = mod31.fit()\n",
    "print(res31.summary())\n"
   ]
  },
  {
   "cell_type": "code",
   "execution_count": 209,
   "metadata": {},
   "outputs": [],
   "source": [
    "df_Sepsis=df_Comorbidities[['Cov19Deaths','Sepsis','NumberOfMentions','AgeGroup']].dropna()"
   ]
  },
  {
   "cell_type": "code",
   "execution_count": 210,
   "metadata": {},
   "outputs": [],
   "source": [
    "y, X = dmatrices('Cov19Deaths ~ Sepsis + NumberOfMentions + AgeGroup',data=df_Sepsis, return_type='dataframe')"
   ]
  },
  {
   "cell_type": "code",
   "execution_count": 211,
   "metadata": {},
   "outputs": [
    {
     "name": "stdout",
     "output_type": "stream",
     "text": [
      "                            OLS Regression Results                            \n",
      "==============================================================================\n",
      "Dep. Variable:            Cov19Deaths   R-squared:                       0.980\n",
      "Model:                            OLS   Adj. R-squared:                  0.980\n",
      "Method:                 Least Squares   F-statistic:                 7.870e+05\n",
      "Date:                Tue, 23 Nov 2021   Prob (F-statistic):               0.00\n",
      "Time:                        00:44:36   Log-Likelihood:            -1.0626e+06\n",
      "No. Observations:              177842   AIC:                         2.125e+06\n",
      "Df Residuals:                  177830   BIC:                         2.125e+06\n",
      "Df Model:                          11                                         \n",
      "Covariance Type:            nonrobust                                         \n",
      "==========================================================================================\n",
      "                             coef    std err          t      P>|t|      [0.025      0.975]\n",
      "------------------------------------------------------------------------------------------\n",
      "Intercept                 -0.1191      0.640     -0.186      0.852      -1.373       1.135\n",
      "AgeGroup[T.25-34]         -0.0070      0.932     -0.008      0.994      -1.833       1.819\n",
      "AgeGroup[T.35-44]          0.0083      0.968      0.009      0.993      -1.889       1.905\n",
      "AgeGroup[T.45-54]          0.0285      1.005      0.028      0.977      -1.942       1.999\n",
      "AgeGroup[T.55-64]         -0.0869      1.013     -0.086      0.932      -2.073       1.899\n",
      "AgeGroup[T.65-74]         -0.0985      1.007     -0.098      0.922      -2.072       1.875\n",
      "AgeGroup[T.75-84]          0.2517      1.001      0.251      0.802      -1.711       2.214\n",
      "AgeGroup[T.85+]            0.5000      0.999      0.501      0.617      -1.457       2.457\n",
      "AgeGroup[T.All Ages]       0.1688      0.947      0.178      0.859      -1.687       2.024\n",
      "AgeGroup[T.Not stated]     0.0223      0.879      0.025      0.980      -1.701       1.745\n",
      "Sepsis                     2.2229      1.126      1.975      0.048       0.017       4.429\n",
      "NumberOfMentions           0.9301      0.000   2922.804      0.000       0.930       0.931\n",
      "==============================================================================\n",
      "Omnibus:                   670080.734   Durbin-Watson:                   0.259\n",
      "Prob(Omnibus):                  0.000   Jarque-Bera (JB):    1582220604497.568\n",
      "Skew:                         -84.450   Prob(JB):                         0.00\n",
      "Kurtosis:                   14614.438   Cond. No.                     6.78e+03\n",
      "==============================================================================\n",
      "\n",
      "Notes:\n",
      "[1] Standard Errors assume that the covariance matrix of the errors is correctly specified.\n",
      "[2] The condition number is large, 6.78e+03. This might indicate that there are\n",
      "strong multicollinearity or other numerical problems.\n"
     ]
    }
   ],
   "source": [
    "mod32 = sm.OLS(y, X)\n",
    "res32 = mod32.fit()\n",
    "print(res32.summary())\n"
   ]
  },
  {
   "cell_type": "code",
   "execution_count": 212,
   "metadata": {},
   "outputs": [],
   "source": [
    "df_VascularAndUnspecifiedDementia=df_Comorbidities[['Cov19Deaths','VascularAndUnspecifiedDementia','NumberOfMentions','AgeGroup']].dropna()"
   ]
  },
  {
   "cell_type": "code",
   "execution_count": 213,
   "metadata": {},
   "outputs": [],
   "source": [
    "y, X = dmatrices('Cov19Deaths ~ VascularAndUnspecifiedDementia + NumberOfMentions + AgeGroup',data=df_VascularAndUnspecifiedDementia, return_type='dataframe')"
   ]
  },
  {
   "cell_type": "code",
   "execution_count": 214,
   "metadata": {},
   "outputs": [
    {
     "name": "stdout",
     "output_type": "stream",
     "text": [
      "                            OLS Regression Results                            \n",
      "==============================================================================\n",
      "Dep. Variable:            Cov19Deaths   R-squared:                       0.980\n",
      "Model:                            OLS   Adj. R-squared:                  0.980\n",
      "Method:                 Least Squares   F-statistic:                 7.870e+05\n",
      "Date:                Tue, 23 Nov 2021   Prob (F-statistic):               0.00\n",
      "Time:                        00:44:42   Log-Likelihood:            -1.0626e+06\n",
      "No. Observations:              177842   AIC:                         2.125e+06\n",
      "Df Residuals:                  177830   BIC:                         2.125e+06\n",
      "Df Model:                          11                                         \n",
      "Covariance Type:            nonrobust                                         \n",
      "==================================================================================================\n",
      "                                     coef    std err          t      P>|t|      [0.025      0.975]\n",
      "--------------------------------------------------------------------------------------------------\n",
      "Intercept                         -0.1102      0.640     -0.172      0.863      -1.365       1.144\n",
      "AgeGroup[T.25-34]                 -0.0205      0.932     -0.022      0.982      -1.847       1.806\n",
      "AgeGroup[T.35-44]                 -0.0305      0.968     -0.031      0.975      -1.928       1.867\n",
      "AgeGroup[T.45-54]                 -0.0218      1.005     -0.022      0.983      -1.992       1.949\n",
      "AgeGroup[T.55-64]                 -0.1007      1.013     -0.099      0.921      -2.087       1.885\n",
      "AgeGroup[T.65-74]                 -0.0813      1.007     -0.081      0.936      -2.055       1.893\n",
      "AgeGroup[T.75-84]                  0.2590      1.001      0.259      0.796      -1.703       2.221\n",
      "AgeGroup[T.85+]                    0.4951      0.999      0.496      0.620      -1.462       2.452\n",
      "AgeGroup[T.All Ages]               0.1826      0.947      0.193      0.847      -1.673       2.038\n",
      "AgeGroup[T.Not stated]             0.0311      0.879      0.035      0.972      -1.692       1.754\n",
      "VascularAndUnspecifiedDementia     1.8142      1.037      1.750      0.080      -0.218       3.846\n",
      "NumberOfMentions                   0.9301      0.000   2922.796      0.000       0.930       0.931\n",
      "==============================================================================\n",
      "Omnibus:                   670078.955   Durbin-Watson:                   0.259\n",
      "Prob(Omnibus):                  0.000   Jarque-Bera (JB):    1582185349829.387\n",
      "Skew:                         -84.449   Prob(JB):                         0.00\n",
      "Kurtosis:                   14614.275   Cond. No.                     6.78e+03\n",
      "==============================================================================\n",
      "\n",
      "Notes:\n",
      "[1] Standard Errors assume that the covariance matrix of the errors is correctly specified.\n",
      "[2] The condition number is large, 6.78e+03. This might indicate that there are\n",
      "strong multicollinearity or other numerical problems.\n"
     ]
    }
   ],
   "source": [
    "mod33 = sm.OLS(y, X)\n",
    "res33 = mod33.fit()\n",
    "print(res33.summary())\n"
   ]
  },
  {
   "cell_type": "markdown",
   "metadata": {},
   "source": [
    "## DADO QUE NO ENCONTRAMOS VARIABILIDAD Y TODAS LAS VARIABLES TIENER SUS MINIMOS CUADRADOS AJUSTADOS EN 98.0% \n",
    "### procederemos a incluir todas las comorbillidades en la **MACHINE LEARNING**"
   ]
  },
  {
   "cell_type": "markdown",
   "metadata": {},
   "source": [
    "## COMPARACION DE QUARTILES.\n",
    "por el metodo Least Absolute Deviation para los grupos de enfermedades en las cuales se busca el mejor fit, esta es una comparacion que se realiza entre la variable dependiente y la independiente con q=0.5"
   ]
  },
  {
   "cell_type": "code",
   "execution_count": 215,
   "metadata": {},
   "outputs": [],
   "source": [
    "%matplotlib inline\n",
    "import matplotlib.pyplot as plt\n",
    "import statsmodels.formula.api as smf"
   ]
  },
  {
   "cell_type": "code",
   "execution_count": 216,
   "metadata": {},
   "outputs": [
    {
     "name": "stdout",
     "output_type": "stream",
     "text": [
      "                         QuantReg Regression Results                          \n",
      "==============================================================================\n",
      "Dep. Variable:            Cov19Deaths   Pseudo R-squared:           -3.254e-09\n",
      "Model:                       QuantReg   Bandwidth:                      0.8405\n",
      "Method:                 Least Squares   Sparsity:                        1.588\n",
      "Date:                Tue, 23 Nov 2021   No. Observations:               177842\n",
      "Time:                        00:44:44   Df Residuals:                   177840\n",
      "                                        Df Model:                            1\n",
      "======================================================================================================\n",
      "                                         coef    std err          t      P>|t|      [0.025      0.975]\n",
      "------------------------------------------------------------------------------------------------------\n",
      "Intercept                           4.379e-07      0.002      0.000      1.000      -0.004       0.004\n",
      "IntUnintInjury_PoisoningAdverGroup -3.145e-07      0.009  -3.32e-05      1.000      -0.019       0.019\n",
      "======================================================================================================\n"
     ]
    }
   ],
   "source": [
    "mod = smf.quantreg('Cov19Deaths ~ IntUnintInjury_PoisoningAdverGroup', df_InjuryPoisonGroup)\n",
    "res = mod.fit(q=.5)\n",
    "print(res.summary())\n"
   ]
  },
  {
   "cell_type": "code",
   "execution_count": 217,
   "metadata": {},
   "outputs": [
    {
     "name": "stdout",
     "output_type": "stream",
     "text": [
      "                         QuantReg Regression Results                          \n",
      "==============================================================================\n",
      "Dep. Variable:            Cov19Deaths   Pseudo R-squared:           -4.574e-09\n",
      "Model:                       QuantReg   Bandwidth:                      0.8405\n",
      "Method:                 Least Squares   Sparsity:                        1.588\n",
      "Date:                Tue, 23 Nov 2021   No. Observations:               177842\n",
      "Time:                        00:44:48   Df Residuals:                   177840\n",
      "                                        Df Model:                            1\n",
      "==========================================================================================\n",
      "                             coef    std err          t      P>|t|      [0.025      0.975]\n",
      "------------------------------------------------------------------------------------------\n",
      "Intercept               6.263e-07      0.002      0.000      1.000      -0.004       0.004\n",
      "Alzheimer_DiseaseGroup -4.906e-07      0.009  -5.68e-05      1.000      -0.017       0.017\n",
      "==========================================================================================\n"
     ]
    }
   ],
   "source": [
    "mod = smf.quantreg('Cov19Deaths ~ Alzheimer_DiseaseGroup', df_Alzheimergroup)\n",
    "res = mod.fit(q=.5)\n",
    "print(res.summary())"
   ]
  },
  {
   "cell_type": "code",
   "execution_count": 218,
   "metadata": {},
   "outputs": [
    {
     "name": "stdout",
     "output_type": "stream",
     "text": [
      "                         QuantReg Regression Results                          \n",
      "==============================================================================\n",
      "Dep. Variable:            Cov19Deaths   Pseudo R-squared:           -3.265e-09\n",
      "Model:                       QuantReg   Bandwidth:                      0.8405\n",
      "Method:                 Least Squares   Sparsity:                        1.588\n",
      "Date:                Tue, 23 Nov 2021   No. Observations:               177842\n",
      "Time:                        00:44:50   Df Residuals:                   177840\n",
      "                                        Df Model:                            1\n",
      "=============================================================================================\n",
      "                                coef    std err          t      P>|t|      [0.025      0.975]\n",
      "---------------------------------------------------------------------------------------------\n",
      "Intercept                  4.395e-07      0.002      0.000      1.000      -0.004       0.004\n",
      "Circulatory_DiseasesGroup -7.315e-08      0.004  -1.78e-05      1.000      -0.008       0.008\n",
      "=============================================================================================\n"
     ]
    }
   ],
   "source": [
    "mod = smf.quantreg('Cov19Deaths ~ Circulatory_DiseasesGroup', df_Circ_DiseGroup)\n",
    "res = mod.fit(q=.5)\n",
    "print(res.summary())\n"
   ]
  },
  {
   "cell_type": "code",
   "execution_count": 219,
   "metadata": {},
   "outputs": [
    {
     "name": "stdout",
     "output_type": "stream",
     "text": [
      "                         QuantReg Regression Results                          \n",
      "==============================================================================\n",
      "Dep. Variable:            Cov19Deaths   Pseudo R-squared:             0.003426\n",
      "Model:                       QuantReg   Bandwidth:                      0.7759\n",
      "Method:                 Least Squares   Sparsity:                        1.502\n",
      "Date:                Tue, 23 Nov 2021   No. Observations:               177842\n",
      "Time:                        00:44:56   Df Residuals:                   177840\n",
      "                                        Df Model:                            1\n",
      "==================================================================================\n",
      "                     coef    std err          t      P>|t|      [0.025      0.975]\n",
      "----------------------------------------------------------------------------------\n",
      "Intercept       3.843e-07      0.002      0.000      1.000      -0.004       0.004\n",
      "SarsCOv19Group    22.0000      0.008   2608.394      0.000      21.983      22.017\n",
      "==================================================================================\n"
     ]
    }
   ],
   "source": [
    "mod = smf.quantreg('Cov19Deaths ~ SarsCOv19Group', df_SarsCOv19Group)\n",
    "res = mod.fit(q=.5)\n",
    "print(res.summary())\n"
   ]
  },
  {
   "cell_type": "code",
   "execution_count": 220,
   "metadata": {},
   "outputs": [
    {
     "name": "stdout",
     "output_type": "stream",
     "text": [
      "                         QuantReg Regression Results                          \n",
      "==============================================================================\n",
      "Dep. Variable:            Cov19Deaths   Pseudo R-squared:           -3.321e-09\n",
      "Model:                       QuantReg   Bandwidth:                      0.8405\n",
      "Method:                 Least Squares   Sparsity:                        1.588\n",
      "Date:                Tue, 23 Nov 2021   No. Observations:               177842\n",
      "Time:                        00:45:01   Df Residuals:                   177840\n",
      "                                        Df Model:                            1\n",
      "=================================================================================\n",
      "                    coef    std err          t      P>|t|      [0.025      0.975]\n",
      "---------------------------------------------------------------------------------\n",
      "Intercept      4.103e-07      0.002      0.000      1.000      -0.004       0.004\n",
      "DiabetesGroup  4.218e-07      0.009   4.51e-05      1.000      -0.018       0.018\n",
      "=================================================================================\n"
     ]
    }
   ],
   "source": [
    "mod = smf.quantreg('Cov19Deaths ~ DiabetesGroup', df_DiabetesGroup)\n",
    "res = mod.fit(q=.5)\n",
    "print(res.summary())\n"
   ]
  },
  {
   "cell_type": "code",
   "execution_count": 221,
   "metadata": {},
   "outputs": [
    {
     "name": "stdout",
     "output_type": "stream",
     "text": [
      "                         QuantReg Regression Results                          \n",
      "==============================================================================\n",
      "Dep. Variable:            Cov19Deaths   Pseudo R-squared:           -4.435e-09\n",
      "Model:                       QuantReg   Bandwidth:                      0.8405\n",
      "Method:                 Least Squares   Sparsity:                        1.588\n",
      "Date:                Tue, 23 Nov 2021   No. Observations:               177842\n",
      "Time:                        00:45:03   Df Residuals:                   177840\n",
      "                                        Df Model:                            1\n",
      "============================================================================================\n",
      "                               coef    std err          t      P>|t|      [0.025      0.975]\n",
      "--------------------------------------------------------------------------------------------\n",
      "Intercept                 5.824e-07      0.002      0.000      1.000      -0.004       0.004\n",
      "Malignant_NeoplasmsGroup  -3.18e-07      0.009   -3.4e-05      1.000      -0.018       0.018\n",
      "============================================================================================\n"
     ]
    }
   ],
   "source": [
    "mod = smf.quantreg('Cov19Deaths ~ Malignant_NeoplasmsGroup', df_Malignant_NeoplasmsGroup)\n",
    "res = mod.fit(q=.5)\n",
    "print(res.summary())\n"
   ]
  },
  {
   "cell_type": "code",
   "execution_count": 222,
   "metadata": {},
   "outputs": [
    {
     "name": "stdout",
     "output_type": "stream",
     "text": [
      "                         QuantReg Regression Results                          \n",
      "==============================================================================\n",
      "Dep. Variable:            Cov19Deaths   Pseudo R-squared:           -4.155e-09\n",
      "Model:                       QuantReg   Bandwidth:                      0.8405\n",
      "Method:                 Least Squares   Sparsity:                        1.588\n",
      "Date:                Tue, 23 Nov 2021   No. Observations:               177842\n",
      "Time:                        00:45:09   Df Residuals:                   177840\n",
      "                                        Df Model:                            1\n",
      "================================================================================\n",
      "                   coef    std err          t      P>|t|      [0.025      0.975]\n",
      "--------------------------------------------------------------------------------\n",
      "Intercept     5.458e-07      0.002      0.000      1.000      -0.004       0.004\n",
      "ObesityGroup -3.094e-07      0.010  -3.17e-05      1.000      -0.019       0.019\n",
      "================================================================================\n"
     ]
    }
   ],
   "source": [
    "mod = smf.quantreg('Cov19Deaths ~ ObesityGroup', df_ObesityGroup)\n",
    "res = mod.fit(q=.5)\n",
    "print(res.summary())\n"
   ]
  },
  {
   "cell_type": "code",
   "execution_count": 223,
   "metadata": {},
   "outputs": [
    {
     "name": "stdout",
     "output_type": "stream",
     "text": [
      "                         QuantReg Regression Results                          \n",
      "==============================================================================\n",
      "Dep. Variable:            Cov19Deaths   Pseudo R-squared:           -3.346e-09\n",
      "Model:                       QuantReg   Bandwidth:                      0.8405\n",
      "Method:                 Least Squares   Sparsity:                        1.588\n",
      "Date:                Tue, 23 Nov 2021   No. Observations:               177842\n",
      "Time:                        00:45:14   Df Residuals:                   177840\n",
      "                                        Df Model:                            1\n",
      "======================================================================================\n",
      "                         coef    std err          t      P>|t|      [0.025      0.975]\n",
      "--------------------------------------------------------------------------------------\n",
      "Intercept           4.157e-07      0.002      0.000      1.000      -0.004       0.004\n",
      "Renal_FailureGroup  2.373e-07      0.009   2.52e-05      1.000      -0.018       0.018\n",
      "======================================================================================\n"
     ]
    }
   ],
   "source": [
    "mod = smf.quantreg('Cov19Deaths ~ Renal_FailureGroup', df_Renal_FailureGroup)\n",
    "res = mod.fit(q=.5)\n",
    "print(res.summary())\n"
   ]
  },
  {
   "cell_type": "markdown",
   "metadata": {},
   "source": [
    "## ESTUDIO DE DESVIACIONES\n",
    "\n",
    "como nos lo muestra el reporte los quartiles R-squared tambien presentan la misma homogeneidad que los grupos y las comorbilidades especificas, por loque tenemos un sistema con unas desviaciones estandar std err supreemamente pequeñas que van en una intercepcion de 0.03 y del grupo de 0.021 por lo que comprobamos que contamos con un sistema optimo."
   ]
  },
  {
   "cell_type": "code",
   "execution_count": 224,
   "metadata": {},
   "outputs": [
    {
     "name": "stdout",
     "output_type": "stream",
     "text": [
      "      q             a             b         lb         ub\n",
      "0  0.05  2.187739e-08  1.266657e-09  -0.024705   0.024705\n",
      "1  0.15  7.335360e-08  4.247027e-09  -0.021463   0.021463\n",
      "2  0.25  1.385568e-07  8.022161e-09  -0.020520   0.020520\n",
      "3  0.35  2.238225e-07  1.286925e-07  -0.019929   0.019930\n",
      "4  0.45  3.922614e-07  5.341596e-07  -0.019071   0.019072\n",
      "5  0.55  6.579145e-07  2.558565e-07  -0.017650   0.017651\n",
      "6  0.65  7.719593e-07  3.513608e-06  -0.016020   0.016027\n",
      "7  0.75  1.300000e+01  4.060838e-07  -0.982443   0.982444\n",
      "8  0.85  3.100000e+01 -2.999999e+00  -5.523560  -0.476439\n",
      "9  0.95  1.360000e+02 -4.000000e+01 -61.069074 -18.930930\n",
      "{'a': 53.14974178402933, 'b': -20.20953753788002, 'lb': -35.7824726367292, 'ub': -4.6366024390308365}\n"
     ]
    }
   ],
   "source": [
    "import numpy as np\n",
    "quantiles = np.arange(.05, .96, .1)\n",
    "def fit_model(q):\n",
    "    res = mod.fit(q=q)\n",
    "    return [q, res.params['Intercept'], res.params['Renal_FailureGroup']] + \\\n",
    "            res.conf_int().loc['Renal_FailureGroup'].tolist()\n",
    "\n",
    "models = [fit_model(x) for x in quantiles]\n",
    "models = pd.DataFrame(models, columns=['q', 'a', 'b', 'lb', 'ub'])\n",
    "\n",
    "ols = smf.ols('Cov19Deaths ~ Renal_FailureGroup', df_Renal_FailureGroup).fit()\n",
    "ols_ci = ols.conf_int().loc['Renal_FailureGroup'].tolist()\n",
    "ols = dict(a = ols.params['Intercept'],\n",
    "           b = ols.params['Renal_FailureGroup'],\n",
    "           lb = ols_ci[0],\n",
    "           ub = ols_ci[1])\n",
    "\n",
    "print(models)\n",
    "print(ols)"
   ]
  },
  {
   "cell_type": "markdown",
   "metadata": {},
   "source": [
    "## IMPRESION DE LOS CUANTILES\n",
    "como podemos observar en la lista de los quantiles desde 0.05 hasta 0.95, la variable dependiente y la independiente si son realmente muy colineales y en los diccionarios de resumen, podemos verificar el mismo comportamiento, por lo que contamos con un sistema bastante optimo."
   ]
  },
  {
   "cell_type": "code",
   "execution_count": 225,
   "metadata": {},
   "outputs": [
    {
     "name": "stdout",
     "output_type": "stream",
     "text": [
      "                         QuantReg Regression Results                          \n",
      "==============================================================================\n",
      "Dep. Variable:            Cov19Deaths   Pseudo R-squared:           -3.813e-09\n",
      "Model:                       QuantReg   Bandwidth:                      0.8405\n",
      "Method:                 Least Squares   Sparsity:                        1.588\n",
      "Date:                Tue, 23 Nov 2021   No. Observations:               177842\n",
      "Time:                        00:45:40   Df Residuals:                   177840\n",
      "                                        Df Model:                            1\n",
      "=============================================================================================\n",
      "                                coef    std err          t      P>|t|      [0.025      0.975]\n",
      "---------------------------------------------------------------------------------------------\n",
      "Intercept                  3.989e-07      0.002      0.000      1.000      -0.004       0.004\n",
      "Respiratory_DiseasesGroup  3.756e-07      0.004   8.75e-05      1.000      -0.008       0.008\n",
      "=============================================================================================\n"
     ]
    }
   ],
   "source": [
    "mod = smf.quantreg('Cov19Deaths ~ Respiratory_DiseasesGroup', df_Respiratory_DiseasesGroup)\n",
    "res = mod.fit(q=.5)\n",
    "print(res.summary())\n"
   ]
  },
  {
   "cell_type": "code",
   "execution_count": 226,
   "metadata": {},
   "outputs": [
    {
     "name": "stdout",
     "output_type": "stream",
     "text": [
      "                         QuantReg Regression Results                          \n",
      "==============================================================================\n",
      "Dep. Variable:            Cov19Deaths   Pseudo R-squared:           -3.280e-09\n",
      "Model:                       QuantReg   Bandwidth:                      0.8405\n",
      "Method:                 Least Squares   Sparsity:                        1.588\n",
      "Date:                Tue, 23 Nov 2021   No. Observations:               177842\n",
      "Time:                        00:45:43   Df Residuals:                   177840\n",
      "                                        Df Model:                            1\n",
      "===============================================================================\n",
      "                  coef    std err          t      P>|t|      [0.025      0.975]\n",
      "-------------------------------------------------------------------------------\n",
      "Intercept    4.164e-07      0.002      0.000      1.000      -0.004       0.004\n",
      "SepsisGroup  5.954e-09      0.009   6.34e-07      1.000      -0.018       0.018\n",
      "===============================================================================\n"
     ]
    }
   ],
   "source": [
    "mod = smf.quantreg('Cov19Deaths ~ SepsisGroup', df_SepsisGroup)\n",
    "res = mod.fit(q=.5)\n",
    "print(res.summary())\n"
   ]
  },
  {
   "cell_type": "code",
   "execution_count": 227,
   "metadata": {},
   "outputs": [],
   "source": [
    "import numpy as np"
   ]
  },
  {
   "cell_type": "code",
   "execution_count": 228,
   "metadata": {},
   "outputs": [
    {
     "name": "stdout",
     "output_type": "stream",
     "text": [
      "      q             a             b         lb         ub\n",
      "0  0.05  2.191644e-08  3.133553e-10  -0.024810   0.024810\n",
      "1  0.15  7.348455e-08  1.050660e-09  -0.021549   0.021549\n",
      "2  0.25  1.388041e-07  1.984584e-09  -0.020589   0.020589\n",
      "3  0.35  2.242221e-07  3.205861e-09  -0.019972   0.019972\n",
      "4  0.45  5.113110e-07 -1.657387e-07  -0.019070   0.019070\n",
      "5  0.55  6.486537e-07 -1.324284e-07  -0.017593   0.017593\n",
      "6  0.65  2.820630e-06  1.470395e-06  -0.015906   0.015909\n",
      "7  0.75  1.300000e+01  1.630314e-07  -0.975806   0.975806\n",
      "8  0.85  3.100000e+01 -4.000019e+00  -6.522706  -1.477333\n",
      "9  0.95  1.360000e+02 -4.400000e+01 -65.082865 -22.917136\n",
      "{'a': 53.22467366295713, 'b': -21.929468733930236, 'lb': -37.47839734107045, 'ub': -6.38054012679002}\n"
     ]
    }
   ],
   "source": [
    "quantiles = np.arange(.05, .96, .1)\n",
    "def fit_model(q):\n",
    "    res = mod.fit(q=q)\n",
    "    return [q, res.params['Intercept'], res.params['SepsisGroup']] + \\\n",
    "            res.conf_int().loc['SepsisGroup'].tolist()\n",
    "\n",
    "models = [fit_model(x) for x in quantiles]\n",
    "models = pd.DataFrame(models, columns=['q', 'a', 'b', 'lb', 'ub'])\n",
    "\n",
    "ols = smf.ols('Cov19Deaths ~ SepsisGroup', df_SepsisGroup).fit()\n",
    "ols_ci = ols.conf_int().loc['SepsisGroup'].tolist()\n",
    "ols = dict(a = ols.params['Intercept'],\n",
    "           b = ols.params['SepsisGroup'],\n",
    "           lb = ols_ci[0],\n",
    "           ub = ols_ci[1])\n",
    "\n",
    "print(models)\n",
    "print(ols)"
   ]
  },
  {
   "cell_type": "code",
   "execution_count": 229,
   "metadata": {},
   "outputs": [
    {
     "data": {
      "image/png": "[encoded data removed]",
      "text/plain": [
       "<Figure size 576x432 with 1 Axes>"
      ]
     },
     "metadata": {
      "needs_background": "light"
     },
     "output_type": "display_data"
    }
   ],
   "source": [
    "x = np.arange(df_SepsisGroup.SepsisGroup.min(), df_SepsisGroup.SepsisGroup.max(), 50)\n",
    "get_y = lambda a, b: a + b * x\n",
    "\n",
    "fig, ax = plt.subplots(figsize=(8, 6))\n",
    "\n",
    "for i in range(models.shape[0]):\n",
    "    y = get_y(models.a[i], models.b[i])\n",
    "    ax.plot(x, y, linestyle='dotted', color='grey')\n",
    "\n",
    "y = get_y(ols['a'], ols['b'])\n",
    "\n",
    "ax.plot(x, y, color='red', label='OLS')\n",
    "ax.scatter(df_SepsisGroup.SepsisGroup, df_SepsisGroup.Cov19Deaths, alpha=.2)\n",
    "ax.set_xlim((1,-1))\n",
    "ax.set_ylim((0,1000))\n",
    "legend = ax.legend()\n",
    "ax.set_xlabel('SepsisGroup', fontsize=16)\n",
    "ax.set_ylabel('Cov19Deaths', fontsize=16);"
   ]
  },
  {
   "cell_type": "markdown",
   "metadata": {},
   "source": [
    "DOCUMENTACION:\n",
    "https://www.statsmodels.org/stable/index.html\n",
    "https://www.statsmodels.org/stable/examples/index.html#linear-regression-models\n",
    "https://www.statsmodels.org/stable/generated/statsmodels.graphics.regressionplots.plot_partregress.html"
   ]
  },
  {
   "cell_type": "markdown",
   "metadata": {},
   "source": [
    "#Exportar a Excel\n",
    "import openpyxl\n",
    "with pd.ExcelWriter(\"ListasDatos13.xlsx\") as exportar:\n",
    "    df_encabezados.to_excel(exportar,sheet_name=\"comorbidity\",header=True)\n",
    "#exportar.save()"
   ]
  },
  {
   "cell_type": "code",
   "execution_count": 230,
   "metadata": {},
   "outputs": [],
   "source": [
    "#Exportar a Excel\n",
    "#import openpyxl\n",
    "#with pd.ExcelWriter(\"ListasDatos10.xlsx\") as exportar:\n",
    "#    df_Comorbidities['ICD10_codes'].to_excel(exportar,sheet_name=\"CodigosEnfermedad\",header=True)\n",
    "#exportar.save()\n",
    "#Age Group"
   ]
  },
  {
   "cell_type": "code",
   "execution_count": 231,
   "metadata": {},
   "outputs": [],
   "source": [
    "#Exportar a Excel\n",
    "#import openpyxl\n",
    "#with pd.ExcelWriter(\"ListasDatos8.xlsx\") as exportar:\n",
    "#    df_Comorbidities['Group'].to_excel(exportar,sheet_name=\"groupon\",header=True)\n",
    "#exportar.save()    "
   ]
  },
  {
   "cell_type": "code",
   "execution_count": 232,
   "metadata": {},
   "outputs": [],
   "source": [
    "#Exportar a Excel\n",
    "#import openpyxl\n",
    "#with pd.ExcelWriter(\"ListasDatos6.xlsx\") as exportar:\n",
    "#    df_Comorbidities['State'].to_excel(exportar,sheet_name=\"list_state\",header=True)\n",
    "    #df_list_group.to_excel(exportar,sheet_name=\"list_group\",header=True)\n",
    "    #df_list_comorbidity_conditional_group.to_excel(exportar,sheet_name=\"list_comorbidity_conditional_group\",header=True)\n",
    "    #df_list_comorbidity_condition_person.to_excel(exportar,sheet_name=\"list_comorbidity_condition_person\",header=True)\n",
    "    #df_list_ICD10_codes.to_excel(exportar,sheet_name=\"list_ICD10_codes\",header=True)\n",
    "    #df_list_AgeGroup.to_excel(exportar,sheet_name=\"list_AgeGroup\",header=True)\n",
    "#exportar.save()\n",
    "#df_list_comorbidity_conditional_group\n",
    "#df_list_comorbidity_condition_person\n",
    "#df_list_ICD10_codes\n",
    "#df_list_AgeGroup\n",
    "#ICD10_codes\n"
   ]
  }
 ],
 "metadata": {
  "interpreter": {
   "hash": "25bf1dab56f13e21d80318cd5e789e076f92a14fa9924f370a2a818164c863f4"
  },
  "kernelspec": {
   "display_name": "Python 3.9.7 64-bit",
   "name": "python3"
  },
  "language_info": {
   "codemirror_mode": {
    "name": "ipython",
    "version": 3
   },
   "file_extension": ".py",
   "mimetype": "text/x-python",
   "name": "python",
   "nbconvert_exporter": "python",
   "pygments_lexer": "ipython3",
   "version": "3.9.7"
  },
  "orig_nbformat": 4
 },
 "nbformat": 4,
 "nbformat_minor": 2
}
